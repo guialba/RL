{
  "nbformat": 4,
  "nbformat_minor": 0,
  "metadata": {
    "colab": {
      "provenance": []
    },
    "kernelspec": {
      "name": "python3",
      "display_name": "Python 3"
    },
    "language_info": {
      "name": "python"
    }
  },
  "cells": [
    {
      "cell_type": "markdown",
      "source": [
        "NOME: <font color='red'> \\<Guilherme Albarrans Leite\\>\n",
        "\n",
        "NUSP: <font color='red'> \\<11890922\\>\n",
        "\n",
        "\n",
        "---\n",
        "\n",
        "\n"
      ],
      "metadata": {
        "id": "ssX31gWp2BJ9"
      }
    },
    {
      "cell_type": "markdown",
      "source": [
        "# *EP 1 - Pyperplan*\n",
        "\n",
        "Neste primeiro exercício programa vamos\n",
        "usar o planejador Pyplerplan (disponível em https://github.com/aibasel/pyperplan). O Pyperplan é um planejador STRIPS escrito em\n",
        "Python, projetado para ser usado como uma\n",
        "ferramenta de ensino ou de prototipagem.\n",
        "\n",
        "Você deve criar uma cópia deste arquivo, executar as células contendo exemplos de comandos para utilizar o Pyperplan, e então preencher e executar as células na seção intitulada \"Experimentos a serem Realizados\"."
      ],
      "metadata": {
        "id": "rNrq3GIAjrvW"
      }
    },
    {
      "cell_type": "markdown",
      "source": [
        "# Tarefa 1 - Instalação do Pyperplan\n",
        "\n",
        "Para obter e instalar o pyperplan, você pode seguir as instruções disponíveis no arquivo \"README\" do respositório do planejador (https://github.com/aibasel/pyperplan), ou simplesmente executar a célula a seguir.\n",
        "\n",
        "Se optar por executar a célula, basta baixar este notebook em um diretório **vazio** e rodá-lo (a execução do script abaixo remove todos os arquivos do diretório em que o notebook estiver), ou executá-lo diretamente no Google Colab."
      ],
      "metadata": {
        "id": "U0ag1WXGmZlC"
      }
    },
    {
      "cell_type": "code",
      "execution_count": 19,
      "metadata": {
        "id": "XaYBCa39dGJ0"
      },
      "outputs": [],
      "source": [
        "%%bash\n",
        "\n",
        "# remove os arquivos existentes do Colab\n",
        " rm -rf ./*\n",
        "\n",
        "# faz o download do repositório na pasta atual\n",
        "curl --silent -L https://github.com/aibasel/pyperplan/tarball/main | tar -xz\n",
        "\n",
        "files=(*)\n",
        "dir_name=\"${files[0]}\"\n",
        "\n",
        "mv $dir_name/* .\n",
        "rm -rf $dir_name\n",
        "\n",
        "# instala o repositório como um pacote do PIP\n",
        "pip --quiet install --editable ."
      ]
    },
    {
      "cell_type": "markdown",
      "source": [
        "# Tarefa 2 - Experimentos\n",
        "\n",
        "\n",
        "## Como rodar os experimentos\n",
        "\n",
        "Com o código localizado na sua máquina (ou rodando este notebook diretamente no Colab), é possível executar o Pyperplan passando um arquivo de descrição de domínio em STRIPS e outro de descrição da instância de um problema do domínio. Por exemplo:\n",
        "\n",
        "```pyperplan <DOMÍNIO> <PROBLEMA>```\n",
        "\n",
        "Os domínios disponíveis estão localizados na pasta \"benchmarks\" do projeto (ver https://github.com/aibasel/pyperplan/tree/main/benchmarks).\n",
        "\n",
        "\n",
        "Por padrão, o pyperplan executa uma busca em largura sem heurística. No entanto, o pyperplan possui algoritmos de busca com heurística. Na célula abaixo temos um exemplo de execução do planejador para o domínio TTP (no arquivo benchmarks/tpp/domain.pddl) com a instância 1 (arquivo benchmarks/tpp/task01.pddl) usando a heurística FF e o algoritmo de busca \"best-first\":\n"
      ],
      "metadata": {
        "id": "7LpQl73WnmsW"
      }
    },
    {
      "cell_type": "code",
      "source": [
        "%%bash\n",
        "pyperplan --heuristic hff --search bfs benchmarks/tpp/domain.pddl benchmarks/tpp/task01.pddl"
      ],
      "metadata": {
        "id": "e16-tvpcdWUz",
        "colab": {
          "base_uri": "https://localhost:8080/"
        },
        "outputId": "c202a794-fa81-4270-aa94-fae5f6a6a6d7"
      },
      "execution_count": null,
      "outputs": [
        {
          "output_type": "stream",
          "name": "stdout",
          "text": [
            "2023-08-26 10:11:24,902 INFO     using search: breadth_first_search\n",
            "2023-08-26 10:11:24,903 INFO     using heuristic: None\n",
            "2023-08-26 10:11:24,903 INFO     Parsing Domain /content/benchmarks/tpp/domain.pddl\n",
            "2023-08-26 10:11:24,905 INFO     Parsing Problem /content/benchmarks/tpp/task01.pddl\n",
            "2023-08-26 10:11:24,905 INFO     7 Predicates parsed\n",
            "2023-08-26 10:11:24,905 INFO     4 Actions parsed\n",
            "2023-08-26 10:11:24,905 INFO     6 Objects parsed\n",
            "2023-08-26 10:11:24,906 INFO     0 Constants parsed\n",
            "2023-08-26 10:11:24,906 INFO     Grounding start: tpp\n",
            "2023-08-26 10:11:24,907 INFO     Relevance analysis removed 1 facts\n",
            "2023-08-26 10:11:24,907 INFO     Grounding end: tpp\n",
            "2023-08-26 10:11:24,907 INFO     10 Variables created\n",
            "2023-08-26 10:11:24,907 INFO     5 Operators created\n",
            "2023-08-26 10:11:24,907 INFO     Search start: tpp\n",
            "2023-08-26 10:11:24,907 INFO     Goal reached. Start extraction of solution.\n",
            "2023-08-26 10:11:24,907 INFO     7 Nodes expanded\n",
            "2023-08-26 10:11:24,907 INFO     Search end: tpp\n",
            "2023-08-26 10:11:24,907 INFO     Search time: 0.00022\n",
            "2023-08-26 10:11:24,907 INFO     Plan length: 5\n",
            "2023-08-26 10:11:24,909 INFO     validate could not be found on the PATH so the plan can not be validated.\n"
          ]
        }
      ]
    },
    {
      "cell_type": "markdown",
      "source": [
        "Caso o comando acima tenha sido executado com sucesso, você deverá ter observado algumas estatíscas do problema. Essas estatísticas incluem o comprimento do plano (Plan length), o tempo de busca (Search time) e outros dados relevantes. Logo abaixo, é fornecido um exemplo ilustrativo da saída que o planejador pode gerar:\n",
        "\n",
        "\n",
        "```\n",
        "...\n",
        "INFO     7 Predicates parsed\n",
        "INFO     4 Actions parsed\n",
        "INFO     6 Objects parsed\n",
        "INFO     0 Constants parsed\n",
        "INFO     Grounding start: tpp\n",
        "INFO     Relevance analysis removed 1 facts\n",
        "INFO     Grounding end: tpp\n",
        "INFO     10 Variables created\n",
        "INFO     5 Operators created\n",
        "INFO     Search start: tpp\n",
        "INFO     Goal reached. Start extraction of solution.\n",
        "INFO     7 Nodes expanded\n",
        "INFO     Search end: tpp\n",
        "INFO     Search time: 0.00016\n",
        "INFO     Plan length: 5\n",
        "INFO     validate could not be found on the PATH so the plan can not be validated.\n",
        "\n",
        "```\n",
        "\n",
        "Após a execução do planejador, um arquivo com a extensão **.soln** é gerado na mesma pasta do arquivo da instância do problema. Esse arquivo contém a solução encontrada pelo planejador, ou seja, o plano para resolver o problema em questão."
      ],
      "metadata": {
        "id": "LkdLn79SuRto"
      }
    },
    {
      "cell_type": "code",
      "source": [
        "%%bash\n",
        "echo \"Solução do problema 'task01' para o domínio 'tpp':\"\n",
        "echo \"\"\n",
        "cat benchmarks/tpp/task01.pddl.soln"
      ],
      "metadata": {
        "id": "HAaJCi7_wzSr",
        "colab": {
          "base_uri": "https://localhost:8080/"
        },
        "outputId": "3e68def0-60b0-4139-b031-853a4c33e53c"
      },
      "execution_count": null,
      "outputs": [
        {
          "output_type": "stream",
          "name": "stdout",
          "text": [
            "Solução do problema 'task01' para o domínio 'tpp':\n",
            "\n",
            "(drive truck1 depot1 market1)\n",
            "(buy truck1 goods1 market1 level0 level1 level0 level1)\n",
            "(load goods1 truck1 market1 level0 level1 level0 level1)\n",
            "(drive truck1 market1 depot1)\n",
            "(unload goods1 truck1 depot1 level0 level1 level0 level1)\n"
          ]
        }
      ]
    },
    {
      "cell_type": "markdown",
      "source": [
        "Para obter informações mais detalhadas sobre as heurísticas e algoritmos de busca disponibilizados pelo Pyperplan, é possível consultar a função de ajuda do programa. Para fazer isso, basta executar a célula abaixo:"
      ],
      "metadata": {
        "id": "dLIw1ArQw9hv"
      }
    },
    {
      "cell_type": "code",
      "source": [
        "%%bash\n",
        "pyperplan --help"
      ],
      "metadata": {
        "id": "7wcd6TNixMTP",
        "colab": {
          "base_uri": "https://localhost:8080/"
        },
        "outputId": "de8d1a27-9290-4008-d89c-40f61541d5a9"
      },
      "execution_count": null,
      "outputs": [
        {
          "output_type": "stream",
          "name": "stdout",
          "text": [
            "usage: pyperplan [-h] [-l {debug,info,warning,error}]\n",
            "                 [-H {lmcut,blind,hadd,hff,hmax,hsa,landmark}]\n",
            "                 [-s {astar,wastar,gbf,bfs,ehs,ids,sat}]\n",
            "                 [domain] problem\n",
            "\n",
            "positional arguments:\n",
            "  domain\n",
            "  problem\n",
            "\n",
            "options:\n",
            "  -h, --help            show this help message and exit\n",
            "  -l {debug,info,warning,error}, --loglevel {debug,info,warning,error}\n",
            "  -H {lmcut,blind,hadd,hff,hmax,hsa,landmark}, --heuristic {lmcut,blind,hadd,hff,hmax,hsa,landmark}\n",
            "                        Select a heuristic (default: hff)\n",
            "  -s {astar,wastar,gbf,bfs,ehs,ids,sat}, --search {astar,wastar,gbf,bfs,ehs,ids,sat}\n",
            "                        Select a search algorithm from astar, weighted astar,\n",
            "                        greedy best first, breadth first, enforced\n",
            "                        hillclimbing, iterative deepening, sat solve (default:\n",
            "                        bfs)\n"
          ]
        }
      ]
    },
    {
      "cell_type": "markdown",
      "source": [
        "## Experimentos que devem ser realizados\n",
        "\n",
        "Execute o Pyperplan para **3 instâncias diferentes** de **4 domínios diferentes** da pasta \"Benchmarks\" (excluindo os domínios `airport`, `openstacks`, `parcprinter` e `psr-small`).\n",
        "\n",
        "Para cada instância escolhida você deve executar o Pyperplan duas vezes: uma vez utilizando a heurística **hadd** e outra utilizando a heurística **hmax**. Em ambos os casos você deve utilizar o algoritmo de busca **astar**. Por exemplo, caso você tenha selecionado o domínio \"blocks\" e a instância task07.pddl, a execução do Pyperplan deve seguir o seguinte formato:\n",
        "\n",
        "\n",
        "```\n",
        "pyperplan --heuristic hadd --search astar benchmarks/blocks/domain.pddl benchmarks/blocks/task07.pddl\n",
        "```\n",
        "\n",
        "e\n",
        "\n",
        "```\n",
        "pyperplan --heuristic hmax --search astar benchmarks/blocks/domain.pddl benchmarks/blocks/task07.pddl\n",
        "```\n",
        "\n",
        "Faça uma tabela com os seguintes resultados estatísticos devolvidos pelo próprio Pyperplan:\n",
        "* Predicates parsed\n",
        "* Actions parsed\n",
        "* Objects parsed\n",
        "* Constants parsed\n",
        "* Nodes expanded\n",
        "* Search time:\n",
        "* Plan length:\n",
        "\n",
        "Escreva um texto analisando os resultados. Por exemplo, compare o tempo de execução e tamanho do plano devolvido das execuções com diferentes instâncias e diferentes heurísticas.\n",
        "\n",
        "Os experimentos devem ser executados neste notebook (nas células a seguir). A tabela com os resultados estatísticos bem como o texto analisando os resultados devem ser entregues em um documento PDF separado."
      ],
      "metadata": {
        "id": "uk4VJH1Byc11"
      }
    },
    {
      "cell_type": "markdown",
      "source": [
        "### 1° Domínio\n",
        "\n",
        "<font color='red'> Insira os comandos de execução do Pyperplan para o domínio e instâncias que você selecionou nas células a seguir (cada instância em uma célula). </font>"
      ],
      "metadata": {
        "id": "hJw3tSBZ0w8n"
      }
    },
    {
      "cell_type": "markdown",
      "source": [
        "Pyperplan com A* e hadd:"
      ],
      "metadata": {
        "id": "FMMs-uiGQuiW"
      }
    },
    {
      "cell_type": "code",
      "source": [
        "%%bash\n",
        "pyperplan --heuristic hadd --search astar benchmarks/blocks/domain.pddl benchmarks/blocks/task01.pddl"
      ],
      "metadata": {
        "id": "gs3MmY0K0-zX",
        "colab": {
          "base_uri": "https://localhost:8080/"
        },
        "outputId": "42fdbe84-0886-413b-ab34-31d8c210906e"
      },
      "execution_count": null,
      "outputs": [
        {
          "output_type": "stream",
          "name": "stdout",
          "text": [
            "2023-08-26 10:20:29,088 INFO     using search: astar_search\n",
            "2023-08-26 10:20:29,088 INFO     using heuristic: hAddHeuristic\n",
            "2023-08-26 10:20:29,088 INFO     Parsing Domain /content/benchmarks/blocks/domain.pddl\n",
            "2023-08-26 10:20:29,089 INFO     Parsing Problem /content/benchmarks/blocks/task01.pddl\n",
            "2023-08-26 10:20:29,090 INFO     5 Predicates parsed\n",
            "2023-08-26 10:20:29,090 INFO     4 Actions parsed\n",
            "2023-08-26 10:20:29,090 INFO     4 Objects parsed\n",
            "2023-08-26 10:20:29,090 INFO     0 Constants parsed\n",
            "2023-08-26 10:20:29,090 INFO     Grounding start: blocks-4-0\n",
            "2023-08-26 10:20:29,091 INFO     Relevance analysis removed 0 facts\n",
            "2023-08-26 10:20:29,091 INFO     Grounding end: blocks-4-0\n",
            "2023-08-26 10:20:29,091 INFO     29 Variables created\n",
            "2023-08-26 10:20:29,091 INFO     40 Operators created\n",
            "2023-08-26 10:20:29,091 INFO     Search start: blocks-4-0\n",
            "2023-08-26 10:20:29,091 INFO     Initial h value: 6.000000\n",
            "2023-08-26 10:20:29,097 INFO     Goal reached. Start extraction of solution.\n",
            "2023-08-26 10:20:29,097 INFO     12 Nodes expanded\n",
            "2023-08-26 10:20:29,097 INFO     Search end: blocks-4-0\n",
            "2023-08-26 10:20:29,097 INFO     Search time: 0.0055\n",
            "2023-08-26 10:20:29,097 INFO     Plan length: 6\n",
            "2023-08-26 10:20:29,098 INFO     validate could not be found on the PATH so the plan can not be validated.\n"
          ]
        }
      ]
    },
    {
      "cell_type": "code",
      "source": [
        "%%bash\n",
        "pyperplan --heuristic hadd --search astar benchmarks/blocks/domain.pddl benchmarks/blocks/task03.pddl"
      ],
      "metadata": {
        "id": "JnCMlJND1pg4",
        "colab": {
          "base_uri": "https://localhost:8080/"
        },
        "outputId": "4fefd17a-05d9-4205-8183-4db7f96995b3"
      },
      "execution_count": null,
      "outputs": [
        {
          "output_type": "stream",
          "name": "stdout",
          "text": [
            "2023-08-26 10:32:44,385 INFO     using search: astar_search\n",
            "2023-08-26 10:32:44,385 INFO     using heuristic: hAddHeuristic\n",
            "2023-08-26 10:32:44,385 INFO     Parsing Domain /content/benchmarks/blocks/domain.pddl\n",
            "2023-08-26 10:32:44,387 INFO     Parsing Problem /content/benchmarks/blocks/task03.pddl\n",
            "2023-08-26 10:32:44,387 INFO     5 Predicates parsed\n",
            "2023-08-26 10:32:44,387 INFO     4 Actions parsed\n",
            "2023-08-26 10:32:44,387 INFO     4 Objects parsed\n",
            "2023-08-26 10:32:44,387 INFO     0 Constants parsed\n",
            "2023-08-26 10:32:44,387 INFO     Grounding start: blocks-4-2\n",
            "2023-08-26 10:32:44,388 INFO     Relevance analysis removed 0 facts\n",
            "2023-08-26 10:32:44,388 INFO     Grounding end: blocks-4-2\n",
            "2023-08-26 10:32:44,388 INFO     29 Variables created\n",
            "2023-08-26 10:32:44,388 INFO     40 Operators created\n",
            "2023-08-26 10:32:44,388 INFO     Search start: blocks-4-2\n",
            "2023-08-26 10:32:44,389 INFO     Initial h value: 8.000000\n",
            "2023-08-26 10:32:44,392 INFO     Goal reached. Start extraction of solution.\n",
            "2023-08-26 10:32:44,392 INFO     9 Nodes expanded\n",
            "2023-08-26 10:32:44,392 INFO     Search end: blocks-4-2\n",
            "2023-08-26 10:32:44,392 INFO     Search time: 0.0037\n",
            "2023-08-26 10:32:44,392 INFO     Plan length: 6\n",
            "2023-08-26 10:32:44,394 INFO     validate could not be found on the PATH so the plan can not be validated.\n"
          ]
        }
      ]
    },
    {
      "cell_type": "code",
      "source": [
        "%%bash\n",
        "pyperplan --heuristic hadd --search astar benchmarks/blocks/domain.pddl benchmarks/blocks/task02.pddl"
      ],
      "metadata": {
        "id": "ELyuGdgE1pVq",
        "colab": {
          "base_uri": "https://localhost:8080/"
        },
        "outputId": "a963738e-6490-4ffe-8967-7c35d8577a77"
      },
      "execution_count": null,
      "outputs": [
        {
          "output_type": "stream",
          "name": "stdout",
          "text": [
            "2023-08-26 10:37:20,899 INFO     using search: astar_search\n",
            "2023-08-26 10:37:20,899 INFO     using heuristic: hAddHeuristic\n",
            "2023-08-26 10:37:20,899 INFO     Parsing Domain /content/benchmarks/blocks/domain.pddl\n",
            "2023-08-26 10:37:20,901 INFO     Parsing Problem /content/benchmarks/blocks/task02.pddl\n",
            "2023-08-26 10:37:20,901 INFO     5 Predicates parsed\n",
            "2023-08-26 10:37:20,901 INFO     4 Actions parsed\n",
            "2023-08-26 10:37:20,901 INFO     4 Objects parsed\n",
            "2023-08-26 10:37:20,902 INFO     0 Constants parsed\n",
            "2023-08-26 10:37:20,902 INFO     Grounding start: blocks-4-1\n",
            "2023-08-26 10:37:20,902 INFO     Relevance analysis removed 0 facts\n",
            "2023-08-26 10:37:20,902 INFO     Grounding end: blocks-4-1\n",
            "2023-08-26 10:37:20,903 INFO     29 Variables created\n",
            "2023-08-26 10:37:20,903 INFO     40 Operators created\n",
            "2023-08-26 10:37:20,903 INFO     Search start: blocks-4-1\n",
            "2023-08-26 10:37:20,903 INFO     Initial h value: 10.000000\n",
            "2023-08-26 10:37:20,908 INFO     Goal reached. Start extraction of solution.\n",
            "2023-08-26 10:37:20,908 INFO     14 Nodes expanded\n",
            "2023-08-26 10:37:20,908 INFO     Search end: blocks-4-1\n",
            "2023-08-26 10:37:20,908 INFO     Search time: 0.0055\n",
            "2023-08-26 10:37:20,908 INFO     Plan length: 10\n",
            "2023-08-26 10:37:20,909 INFO     validate could not be found on the PATH so the plan can not be validated.\n"
          ]
        }
      ]
    },
    {
      "cell_type": "markdown",
      "source": [
        "Pyperplan com A* e hmax:"
      ],
      "metadata": {
        "id": "m4UDs4KmQ9OO"
      }
    },
    {
      "cell_type": "code",
      "source": [
        "%%bash\n",
        "pyperplan --heuristic hmax --search astar benchmarks/blocks/domain.pddl benchmarks/blocks/task01.pddl"
      ],
      "metadata": {
        "id": "-zt4_6I31pHb",
        "colab": {
          "base_uri": "https://localhost:8080/"
        },
        "outputId": "afd17c49-5d55-441b-ee34-19fb782a4de3"
      },
      "execution_count": null,
      "outputs": [
        {
          "output_type": "stream",
          "name": "stdout",
          "text": [
            "2023-08-26 10:20:35,961 INFO     using search: astar_search\n",
            "2023-08-26 10:20:35,962 INFO     using heuristic: hMaxHeuristic\n",
            "2023-08-26 10:20:35,962 INFO     Parsing Domain /content/benchmarks/blocks/domain.pddl\n",
            "2023-08-26 10:20:35,963 INFO     Parsing Problem /content/benchmarks/blocks/task01.pddl\n",
            "2023-08-26 10:20:35,963 INFO     5 Predicates parsed\n",
            "2023-08-26 10:20:35,964 INFO     4 Actions parsed\n",
            "2023-08-26 10:20:35,964 INFO     4 Objects parsed\n",
            "2023-08-26 10:20:35,964 INFO     0 Constants parsed\n",
            "2023-08-26 10:20:35,964 INFO     Grounding start: blocks-4-0\n",
            "2023-08-26 10:20:35,964 INFO     Relevance analysis removed 0 facts\n",
            "2023-08-26 10:20:35,965 INFO     Grounding end: blocks-4-0\n",
            "2023-08-26 10:20:35,965 INFO     29 Variables created\n",
            "2023-08-26 10:20:35,965 INFO     40 Operators created\n",
            "2023-08-26 10:20:35,965 INFO     Search start: blocks-4-0\n",
            "2023-08-26 10:20:35,965 INFO     Initial h value: 2.000000\n",
            "2023-08-26 10:20:35,976 INFO     Goal reached. Start extraction of solution.\n",
            "2023-08-26 10:20:35,976 INFO     23 Nodes expanded\n",
            "2023-08-26 10:20:35,976 INFO     Search end: blocks-4-0\n",
            "2023-08-26 10:20:35,976 INFO     Search time: 0.011\n",
            "2023-08-26 10:20:35,977 INFO     Plan length: 6\n",
            "2023-08-26 10:20:35,978 INFO     validate could not be found on the PATH so the plan can not be validated.\n"
          ]
        }
      ]
    },
    {
      "cell_type": "code",
      "source": [
        "%%bash\n",
        "pyperplan --heuristic hmax --search astar benchmarks/blocks/domain.pddl benchmarks/blocks/task03.pddl"
      ],
      "metadata": {
        "id": "nmj_6IHU1ozh",
        "colab": {
          "base_uri": "https://localhost:8080/"
        },
        "outputId": "77e98705-d478-4e68-d0aa-8dac03587af2"
      },
      "execution_count": null,
      "outputs": [
        {
          "output_type": "stream",
          "name": "stdout",
          "text": [
            "2023-08-26 10:32:54,194 INFO     using search: astar_search\n",
            "2023-08-26 10:32:54,194 INFO     using heuristic: hMaxHeuristic\n",
            "2023-08-26 10:32:54,194 INFO     Parsing Domain /content/benchmarks/blocks/domain.pddl\n",
            "2023-08-26 10:32:54,196 INFO     Parsing Problem /content/benchmarks/blocks/task03.pddl\n",
            "2023-08-26 10:32:54,196 INFO     5 Predicates parsed\n",
            "2023-08-26 10:32:54,196 INFO     4 Actions parsed\n",
            "2023-08-26 10:32:54,196 INFO     4 Objects parsed\n",
            "2023-08-26 10:32:54,196 INFO     0 Constants parsed\n",
            "2023-08-26 10:32:54,196 INFO     Grounding start: blocks-4-2\n",
            "2023-08-26 10:32:54,197 INFO     Relevance analysis removed 0 facts\n",
            "2023-08-26 10:32:54,197 INFO     Grounding end: blocks-4-2\n",
            "2023-08-26 10:32:54,197 INFO     29 Variables created\n",
            "2023-08-26 10:32:54,197 INFO     40 Operators created\n",
            "2023-08-26 10:32:54,197 INFO     Search start: blocks-4-2\n",
            "2023-08-26 10:32:54,198 INFO     Initial h value: 3.000000\n",
            "2023-08-26 10:32:54,206 INFO     Goal reached. Start extraction of solution.\n",
            "2023-08-26 10:32:54,206 INFO     18 Nodes expanded\n",
            "2023-08-26 10:32:54,206 INFO     Search end: blocks-4-2\n",
            "2023-08-26 10:32:54,206 INFO     Search time: 0.0088\n",
            "2023-08-26 10:32:54,206 INFO     Plan length: 6\n",
            "2023-08-26 10:32:54,208 INFO     validate could not be found on the PATH so the plan can not be validated.\n"
          ]
        }
      ]
    },
    {
      "cell_type": "code",
      "source": [
        "%%bash\n",
        "pyperplan --heuristic hmax --search astar benchmarks/blocks/domain.pddl benchmarks/blocks/task02.pddl"
      ],
      "metadata": {
        "id": "O9I9uT2wQ7Nn",
        "colab": {
          "base_uri": "https://localhost:8080/"
        },
        "outputId": "2ad780f7-c22a-42d1-d181-da92f949f9e4"
      },
      "execution_count": null,
      "outputs": [
        {
          "output_type": "stream",
          "name": "stdout",
          "text": [
            "2023-08-26 10:37:34,178 INFO     using search: astar_search\n",
            "2023-08-26 10:37:34,179 INFO     using heuristic: hMaxHeuristic\n",
            "2023-08-26 10:37:34,179 INFO     Parsing Domain /content/benchmarks/blocks/domain.pddl\n",
            "2023-08-26 10:37:34,180 INFO     Parsing Problem /content/benchmarks/blocks/task02.pddl\n",
            "2023-08-26 10:37:34,181 INFO     5 Predicates parsed\n",
            "2023-08-26 10:37:34,181 INFO     4 Actions parsed\n",
            "2023-08-26 10:37:34,181 INFO     4 Objects parsed\n",
            "2023-08-26 10:37:34,181 INFO     0 Constants parsed\n",
            "2023-08-26 10:37:34,181 INFO     Grounding start: blocks-4-1\n",
            "2023-08-26 10:37:34,182 INFO     Relevance analysis removed 0 facts\n",
            "2023-08-26 10:37:34,182 INFO     Grounding end: blocks-4-1\n",
            "2023-08-26 10:37:34,182 INFO     29 Variables created\n",
            "2023-08-26 10:37:34,182 INFO     40 Operators created\n",
            "2023-08-26 10:37:34,182 INFO     Search start: blocks-4-1\n",
            "2023-08-26 10:37:34,182 INFO     Initial h value: 5.000000\n",
            "2023-08-26 10:37:34,194 INFO     Goal reached. Start extraction of solution.\n",
            "2023-08-26 10:37:34,194 INFO     25 Nodes expanded\n",
            "2023-08-26 10:37:34,194 INFO     Search end: blocks-4-1\n",
            "2023-08-26 10:37:34,194 INFO     Search time: 0.012\n",
            "2023-08-26 10:37:34,194 INFO     Plan length: 10\n",
            "2023-08-26 10:37:34,195 INFO     validate could not be found on the PATH so the plan can not be validated.\n"
          ]
        }
      ]
    },
    {
      "cell_type": "markdown",
      "source": [
        "### 2° Domínio\n",
        "\n",
        "<font color='red'> Insira os comandos de execução do Pyperplan para o domínio e instâncias que você selecionou nas células a seguir (cada instância em uma célula). </font>"
      ],
      "metadata": {
        "id": "pxgWtMhY1vMa"
      }
    },
    {
      "cell_type": "markdown",
      "source": [
        "Pyperplan com A* e hadd:"
      ],
      "metadata": {
        "id": "j0fYOtd7ROAP"
      }
    },
    {
      "cell_type": "code",
      "source": [
        "%%bash\n",
        "pyperplan --heuristic hadd --search astar benchmarks/sokoban/domain.pddl benchmarks/sokoban/task01.pddl"
      ],
      "metadata": {
        "id": "q0i6LEbs1ygs",
        "colab": {
          "base_uri": "https://localhost:8080/"
        },
        "outputId": "66a3af6d-8d80-4ee6-f103-a3c6a83bd4f2"
      },
      "execution_count": null,
      "outputs": [
        {
          "output_type": "stream",
          "name": "stdout",
          "text": [
            "2023-08-26 11:24:10,393 INFO     using search: astar_search\n",
            "2023-08-26 11:24:10,393 INFO     using heuristic: hAddHeuristic\n",
            "2023-08-26 11:24:10,393 INFO     Parsing Domain /content/benchmarks/sokoban/domain.pddl\n",
            "2023-08-26 11:24:10,395 INFO     Parsing Problem /content/benchmarks/sokoban/task01.pddl\n",
            "2023-08-26 11:24:10,399 INFO     6 Predicates parsed\n",
            "2023-08-26 11:24:10,399 INFO     3 Actions parsed\n",
            "2023-08-26 11:24:10,399 INFO     79 Objects parsed\n",
            "2023-08-26 11:24:10,399 INFO     0 Constants parsed\n",
            "2023-08-26 11:24:10,399 INFO     Grounding start: p012-microban-sequential\n",
            "2023-08-26 11:24:12,966 INFO     Relevance analysis removed 34 facts\n",
            "2023-08-26 11:24:12,966 INFO     Grounding end: p012-microban-sequential\n",
            "2023-08-26 11:24:12,967 INFO     162 Variables created\n",
            "2023-08-26 11:24:12,967 INFO     210 Operators created\n",
            "2023-08-26 11:24:12,967 INFO     Search start: p012-microban-sequential\n",
            "2023-08-26 11:24:12,968 INFO     Initial h value: 40.000000\n",
            "2023-08-26 11:24:13,150 INFO     Goal reached. Start extraction of solution.\n",
            "2023-08-26 11:24:13,150 INFO     136 Nodes expanded\n",
            "2023-08-26 11:24:13,151 INFO     Search end: p012-microban-sequential\n",
            "2023-08-26 11:24:13,151 INFO     Search time: 0.18\n",
            "2023-08-26 11:24:13,151 INFO     Plan length: 49\n",
            "2023-08-26 11:24:13,152 INFO     validate could not be found on the PATH so the plan can not be validated.\n"
          ]
        }
      ]
    },
    {
      "cell_type": "code",
      "source": [
        "%%bash\n",
        "pyperplan --heuristic hadd --search astar benchmarks/sokoban/domain.pddl benchmarks/sokoban/task02.pddl"
      ],
      "metadata": {
        "id": "3zsXWxob1zhz",
        "colab": {
          "base_uri": "https://localhost:8080/"
        },
        "outputId": "a0caca06-f0ee-4b53-e502-86f100efd1cd"
      },
      "execution_count": null,
      "outputs": [
        {
          "output_type": "stream",
          "name": "stdout",
          "text": [
            "2023-08-26 11:29:19,681 INFO     using search: astar_search\n",
            "2023-08-26 11:29:19,681 INFO     using heuristic: hAddHeuristic\n",
            "2023-08-26 11:29:19,681 INFO     Parsing Domain /content/benchmarks/sokoban/domain.pddl\n",
            "2023-08-26 11:29:19,684 INFO     Parsing Problem /content/benchmarks/sokoban/task02.pddl\n",
            "2023-08-26 11:29:19,689 INFO     6 Predicates parsed\n",
            "2023-08-26 11:29:19,689 INFO     3 Actions parsed\n",
            "2023-08-26 11:29:19,689 INFO     56 Objects parsed\n",
            "2023-08-26 11:29:19,689 INFO     0 Constants parsed\n",
            "2023-08-26 11:29:19,689 INFO     Grounding start: p024-microban-sequential\n",
            "2023-08-26 11:29:20,133 INFO     Relevance analysis removed 20 facts\n",
            "2023-08-26 11:29:20,134 INFO     Grounding end: p024-microban-sequential\n",
            "2023-08-26 11:29:20,134 INFO     84 Variables created\n",
            "2023-08-26 11:29:20,134 INFO     108 Operators created\n",
            "2023-08-26 11:29:20,134 INFO     Search start: p024-microban-sequential\n",
            "2023-08-26 11:29:20,135 INFO     Initial h value: 54.000000\n",
            "2023-08-26 11:29:20,310 INFO     Goal reached. Start extraction of solution.\n",
            "2023-08-26 11:29:20,311 INFO     177 Nodes expanded\n",
            "2023-08-26 11:29:20,311 INFO     Search end: p024-microban-sequential\n",
            "2023-08-26 11:29:20,311 INFO     Search time: 0.18\n",
            "2023-08-26 11:29:20,311 INFO     Plan length: 41\n",
            "2023-08-26 11:29:20,312 INFO     validate could not be found on the PATH so the plan can not be validated.\n"
          ]
        }
      ]
    },
    {
      "cell_type": "code",
      "source": [
        "%%bash\n",
        "pyperplan --heuristic hadd --search astar benchmarks/sokoban/domain.pddl benchmarks/sokoban/task03.pddl"
      ],
      "metadata": {
        "id": "gJ7KMz1b1zZK",
        "colab": {
          "base_uri": "https://localhost:8080/"
        },
        "outputId": "18e919dc-3d1a-4933-c0be-b1ea356ba1ed"
      },
      "execution_count": null,
      "outputs": [
        {
          "output_type": "stream",
          "name": "stdout",
          "text": [
            "2023-08-26 11:33:30,863 INFO     using search: astar_search\n",
            "2023-08-26 11:33:30,864 INFO     using heuristic: hAddHeuristic\n",
            "2023-08-26 11:33:30,864 INFO     Parsing Domain /content/benchmarks/sokoban/domain.pddl\n",
            "2023-08-26 11:33:30,865 INFO     Parsing Problem /content/benchmarks/sokoban/task03.pddl\n",
            "2023-08-26 11:33:30,868 INFO     6 Predicates parsed\n",
            "2023-08-26 11:33:30,868 INFO     3 Actions parsed\n",
            "2023-08-26 11:33:30,868 INFO     49 Objects parsed\n",
            "2023-08-26 11:33:30,868 INFO     0 Constants parsed\n",
            "2023-08-26 11:33:30,868 INFO     Grounding start: p014-microban-sequential\n",
            "2023-08-26 11:33:31,123 INFO     Relevance analysis removed 14 facts\n",
            "2023-08-26 11:33:31,123 INFO     Grounding end: p014-microban-sequential\n",
            "2023-08-26 11:33:31,123 INFO     70 Variables created\n",
            "2023-08-26 11:33:31,123 INFO     86 Operators created\n",
            "2023-08-26 11:33:31,123 INFO     Search start: p014-microban-sequential\n",
            "2023-08-26 11:33:31,124 INFO     Initial h value: 16.000000\n",
            "2023-08-26 11:33:31,206 INFO     Goal reached. Start extraction of solution.\n",
            "2023-08-26 11:33:31,206 INFO     130 Nodes expanded\n",
            "2023-08-26 11:33:31,206 INFO     Search end: p014-microban-sequential\n",
            "2023-08-26 11:33:31,206 INFO     Search time: 0.08\n",
            "2023-08-26 11:33:31,206 INFO     Plan length: 51\n",
            "2023-08-26 11:33:31,207 INFO     validate could not be found on the PATH so the plan can not be validated.\n"
          ]
        }
      ]
    },
    {
      "cell_type": "markdown",
      "source": [
        "Pyperplan com A* e hmax:"
      ],
      "metadata": {
        "id": "5InpwY9vRZ4D"
      }
    },
    {
      "cell_type": "code",
      "source": [
        "%%bash\n",
        "pyperplan --heuristic hmax --search astar benchmarks/sokoban/domain.pddl benchmarks/sokoban/task01.pddl"
      ],
      "metadata": {
        "id": "CV1Vu8DT1zQj",
        "colab": {
          "base_uri": "https://localhost:8080/"
        },
        "outputId": "d2f232f1-89f1-41cc-d722-02c7056b7e9f"
      },
      "execution_count": null,
      "outputs": [
        {
          "output_type": "stream",
          "name": "stdout",
          "text": [
            "2023-08-26 11:24:26,924 INFO     using search: astar_search\n",
            "2023-08-26 11:24:26,924 INFO     using heuristic: hMaxHeuristic\n",
            "2023-08-26 11:24:26,924 INFO     Parsing Domain /content/benchmarks/sokoban/domain.pddl\n",
            "2023-08-26 11:24:26,926 INFO     Parsing Problem /content/benchmarks/sokoban/task01.pddl\n",
            "2023-08-26 11:24:26,930 INFO     6 Predicates parsed\n",
            "2023-08-26 11:24:26,930 INFO     3 Actions parsed\n",
            "2023-08-26 11:24:26,930 INFO     79 Objects parsed\n",
            "2023-08-26 11:24:26,930 INFO     0 Constants parsed\n",
            "2023-08-26 11:24:26,930 INFO     Grounding start: p012-microban-sequential\n",
            "2023-08-26 11:24:29,469 INFO     Relevance analysis removed 34 facts\n",
            "2023-08-26 11:24:29,469 INFO     Grounding end: p012-microban-sequential\n",
            "2023-08-26 11:24:29,469 INFO     162 Variables created\n",
            "2023-08-26 11:24:29,469 INFO     210 Operators created\n",
            "2023-08-26 11:24:29,470 INFO     Search start: p012-microban-sequential\n",
            "2023-08-26 11:24:29,471 INFO     Initial h value: 11.000000\n",
            "2023-08-26 11:24:29,776 INFO     Goal reached. Start extraction of solution.\n",
            "2023-08-26 11:24:29,776 INFO     239 Nodes expanded\n",
            "2023-08-26 11:24:29,776 INFO     Search end: p012-microban-sequential\n",
            "2023-08-26 11:24:29,776 INFO     Search time: 0.3\n",
            "2023-08-26 11:24:29,776 INFO     Plan length: 49\n",
            "2023-08-26 11:24:29,778 INFO     validate could not be found on the PATH so the plan can not be validated.\n"
          ]
        }
      ]
    },
    {
      "cell_type": "code",
      "source": [
        "%%bash\n",
        "pyperplan --heuristic hmax --search astar benchmarks/sokoban/domain.pddl benchmarks/sokoban/task02.pddl"
      ],
      "metadata": {
        "id": "uMBWz2tq1zFW",
        "colab": {
          "base_uri": "https://localhost:8080/"
        },
        "outputId": "e2655475-da8d-4973-f038-1685db2a0c9f"
      },
      "execution_count": null,
      "outputs": [
        {
          "output_type": "stream",
          "name": "stdout",
          "text": [
            "2023-08-26 11:29:01,906 INFO     using search: astar_search\n",
            "2023-08-26 11:29:01,907 INFO     using heuristic: hMaxHeuristic\n",
            "2023-08-26 11:29:01,907 INFO     Parsing Domain /content/benchmarks/sokoban/domain.pddl\n",
            "2023-08-26 11:29:01,908 INFO     Parsing Problem /content/benchmarks/sokoban/task02.pddl\n",
            "2023-08-26 11:29:01,911 INFO     6 Predicates parsed\n",
            "2023-08-26 11:29:01,911 INFO     3 Actions parsed\n",
            "2023-08-26 11:29:01,911 INFO     56 Objects parsed\n",
            "2023-08-26 11:29:01,911 INFO     0 Constants parsed\n",
            "2023-08-26 11:29:01,911 INFO     Grounding start: p024-microban-sequential\n",
            "2023-08-26 11:29:02,374 INFO     Relevance analysis removed 20 facts\n",
            "2023-08-26 11:29:02,375 INFO     Grounding end: p024-microban-sequential\n",
            "2023-08-26 11:29:02,375 INFO     84 Variables created\n",
            "2023-08-26 11:29:02,375 INFO     108 Operators created\n",
            "2023-08-26 11:29:02,375 INFO     Search start: p024-microban-sequential\n",
            "2023-08-26 11:29:02,376 INFO     Initial h value: 10.000000\n",
            "2023-08-26 11:29:02,798 INFO     Goal reached. Start extraction of solution.\n",
            "2023-08-26 11:29:02,798 INFO     401 Nodes expanded\n",
            "2023-08-26 11:29:02,799 INFO     Search end: p024-microban-sequential\n",
            "2023-08-26 11:29:02,799 INFO     Search time: 0.42\n",
            "2023-08-26 11:29:02,799 INFO     Plan length: 35\n",
            "2023-08-26 11:29:02,800 INFO     validate could not be found on the PATH so the plan can not be validated.\n"
          ]
        }
      ]
    },
    {
      "cell_type": "code",
      "source": [
        "%%bash\n",
        "pyperplan --heuristic hmax --search astar benchmarks/sokoban/domain.pddl benchmarks/sokoban/task03.pddl"
      ],
      "metadata": {
        "id": "F-LdXJh8RbBc",
        "colab": {
          "base_uri": "https://localhost:8080/"
        },
        "outputId": "950129f5-0d3c-454d-e243-4a61290ba80b"
      },
      "execution_count": null,
      "outputs": [
        {
          "output_type": "stream",
          "name": "stdout",
          "text": [
            "2023-08-26 11:33:39,602 INFO     using search: astar_search\n",
            "2023-08-26 11:33:39,603 INFO     using heuristic: hMaxHeuristic\n",
            "2023-08-26 11:33:39,603 INFO     Parsing Domain /content/benchmarks/sokoban/domain.pddl\n",
            "2023-08-26 11:33:39,606 INFO     Parsing Problem /content/benchmarks/sokoban/task03.pddl\n",
            "2023-08-26 11:33:39,610 INFO     6 Predicates parsed\n",
            "2023-08-26 11:33:39,610 INFO     3 Actions parsed\n",
            "2023-08-26 11:33:39,611 INFO     49 Objects parsed\n",
            "2023-08-26 11:33:39,611 INFO     0 Constants parsed\n",
            "2023-08-26 11:33:39,611 INFO     Grounding start: p014-microban-sequential\n",
            "2023-08-26 11:33:40,134 INFO     Relevance analysis removed 14 facts\n",
            "2023-08-26 11:33:40,134 INFO     Grounding end: p014-microban-sequential\n",
            "2023-08-26 11:33:40,134 INFO     70 Variables created\n",
            "2023-08-26 11:33:40,134 INFO     86 Operators created\n",
            "2023-08-26 11:33:40,134 INFO     Search start: p014-microban-sequential\n",
            "2023-08-26 11:33:40,135 INFO     Initial h value: 9.000000\n",
            "2023-08-26 11:33:40,319 INFO     Goal reached. Start extraction of solution.\n",
            "2023-08-26 11:33:40,320 INFO     149 Nodes expanded\n",
            "2023-08-26 11:33:40,320 INFO     Search end: p014-microban-sequential\n",
            "2023-08-26 11:33:40,320 INFO     Search time: 0.18\n",
            "2023-08-26 11:33:40,320 INFO     Plan length: 51\n",
            "2023-08-26 11:33:40,322 INFO     validate could not be found on the PATH so the plan can not be validated.\n"
          ]
        }
      ]
    },
    {
      "cell_type": "markdown",
      "source": [
        "### 3° Domínio\n",
        "\n",
        "<font color='red'> Insira os comandos de execução do Pyperplan para o domínio e instâncias que você selecionou nas células a seguir (cada instância em uma célula)."
      ],
      "metadata": {
        "id": "qiFoubyT14QT"
      }
    },
    {
      "cell_type": "markdown",
      "source": [
        "Pyperplan com A* e hadd:"
      ],
      "metadata": {
        "id": "T1fqe6APRPvQ"
      }
    },
    {
      "cell_type": "code",
      "source": [
        "%%bash\n",
        "pyperplan --heuristic hadd --search astar benchmarks/pegsol/domain.pddl benchmarks/pegsol/task01.pddl"
      ],
      "metadata": {
        "id": "g2RnRmYk17td",
        "colab": {
          "base_uri": "https://localhost:8080/"
        },
        "outputId": "edcf1a2a-c77e-4c3a-9a90-69c4405ac195"
      },
      "execution_count": null,
      "outputs": [
        {
          "output_type": "stream",
          "name": "stdout",
          "text": [
            "2023-08-26 14:40:32,580 INFO     using search: astar_search\n",
            "2023-08-26 14:40:32,580 INFO     using heuristic: hAddHeuristic\n",
            "2023-08-26 14:40:32,580 INFO     Parsing Domain /content/benchmarks/pegsol/domain.pddl\n",
            "2023-08-26 14:40:32,582 INFO     Parsing Problem /content/benchmarks/pegsol/task01.pddl\n",
            "2023-08-26 14:40:32,585 INFO     5 Predicates parsed\n",
            "2023-08-26 14:40:32,585 INFO     3 Actions parsed\n",
            "2023-08-26 14:40:32,585 INFO     33 Objects parsed\n",
            "2023-08-26 14:40:32,586 INFO     0 Constants parsed\n",
            "2023-08-26 14:40:32,586 INFO     Grounding start: pegsolitaire-sequential-002\n",
            "2023-08-26 14:40:32,737 INFO     Relevance analysis removed 0 facts\n",
            "2023-08-26 14:40:32,737 INFO     Grounding end: pegsolitaire-sequential-002\n",
            "2023-08-26 14:40:32,738 INFO     100 Variables created\n",
            "2023-08-26 14:40:32,738 INFO     185 Operators created\n",
            "2023-08-26 14:40:32,738 INFO     Search start: pegsolitaire-sequential-002\n",
            "2023-08-26 14:40:32,739 INFO     Initial h value: 15.000000\n",
            "2023-08-26 14:40:32,742 INFO     Goal reached. Start extraction of solution.\n",
            "2023-08-26 14:40:32,742 INFO     6 Nodes expanded\n",
            "2023-08-26 14:40:32,742 INFO     Search end: pegsolitaire-sequential-002\n",
            "2023-08-26 14:40:32,742 INFO     Search time: 0.0037\n",
            "2023-08-26 14:40:32,742 INFO     Plan length: 5\n",
            "2023-08-26 14:40:32,744 INFO     validate could not be found on the PATH so the plan can not be validated.\n"
          ]
        }
      ]
    },
    {
      "cell_type": "code",
      "source": [
        "%%bash\n",
        "pyperplan --heuristic hadd --search astar benchmarks/pegsol/domain.pddl benchmarks/pegsol/task03.pddl"
      ],
      "metadata": {
        "id": "fALKtPcG17lk",
        "colab": {
          "base_uri": "https://localhost:8080/"
        },
        "outputId": "b44108d4-5556-4aff-9041-f8f5e6b96bb2"
      },
      "execution_count": null,
      "outputs": [
        {
          "output_type": "stream",
          "name": "stdout",
          "text": [
            "2023-08-26 14:44:19,970 INFO     using search: astar_search\n",
            "2023-08-26 14:44:19,971 INFO     using heuristic: hAddHeuristic\n",
            "2023-08-26 14:44:19,971 INFO     Parsing Domain /content/benchmarks/pegsol/domain.pddl\n",
            "2023-08-26 14:44:19,972 INFO     Parsing Problem /content/benchmarks/pegsol/task03.pddl\n",
            "2023-08-26 14:44:19,975 INFO     5 Predicates parsed\n",
            "2023-08-26 14:44:19,975 INFO     3 Actions parsed\n",
            "2023-08-26 14:44:19,975 INFO     33 Objects parsed\n",
            "2023-08-26 14:44:19,975 INFO     0 Constants parsed\n",
            "2023-08-26 14:44:19,975 INFO     Grounding start: pegsolitaire-sequential-011\n",
            "2023-08-26 14:44:20,138 INFO     Relevance analysis removed 0 facts\n",
            "2023-08-26 14:44:20,138 INFO     Grounding end: pegsolitaire-sequential-011\n",
            "2023-08-26 14:44:20,138 INFO     100 Variables created\n",
            "2023-08-26 14:44:20,138 INFO     185 Operators created\n",
            "2023-08-26 14:44:20,139 INFO     Search start: pegsolitaire-sequential-011\n",
            "2023-08-26 14:44:20,139 INFO     Initial h value: 7.000000\n",
            "2023-08-26 14:44:20,169 INFO     Goal reached. Start extraction of solution.\n",
            "2023-08-26 14:44:20,169 INFO     26 Nodes expanded\n",
            "2023-08-26 14:44:20,169 INFO     Search end: pegsolitaire-sequential-011\n",
            "2023-08-26 14:44:20,169 INFO     Search time: 0.03\n",
            "2023-08-26 14:44:20,170 INFO     Plan length: 9\n",
            "2023-08-26 14:44:20,171 INFO     validate could not be found on the PATH so the plan can not be validated.\n"
          ]
        }
      ]
    },
    {
      "cell_type": "code",
      "source": [
        "%%bash\n",
        "pyperplan --heuristic hadd --search astar benchmarks/pegsol/domain.pddl benchmarks/pegsol/task30.pddl"
      ],
      "metadata": {
        "id": "twb4nXCu17X1",
        "colab": {
          "base_uri": "https://localhost:8080/"
        },
        "outputId": "6eebc7eb-dc51-4a54-b59d-893ebc7fe898"
      },
      "execution_count": null,
      "outputs": [
        {
          "output_type": "stream",
          "name": "stdout",
          "text": [
            "2023-08-26 14:44:24,402 INFO     using search: astar_search\n",
            "2023-08-26 14:44:24,403 INFO     using heuristic: hAddHeuristic\n",
            "2023-08-26 14:44:24,403 INFO     Parsing Domain /content/benchmarks/pegsol/domain.pddl\n",
            "2023-08-26 14:44:24,404 INFO     Parsing Problem /content/benchmarks/pegsol/task30.pddl\n",
            "2023-08-26 14:44:24,407 INFO     5 Predicates parsed\n",
            "2023-08-26 14:44:24,407 INFO     3 Actions parsed\n",
            "2023-08-26 14:44:24,407 INFO     33 Objects parsed\n",
            "2023-08-26 14:44:24,407 INFO     0 Constants parsed\n",
            "2023-08-26 14:44:24,407 INFO     Grounding start: pegsolitaire-sequential-105\n",
            "2023-08-26 14:44:24,554 INFO     Relevance analysis removed 0 facts\n",
            "2023-08-26 14:44:24,554 INFO     Grounding end: pegsolitaire-sequential-105\n",
            "2023-08-26 14:44:24,554 INFO     100 Variables created\n",
            "2023-08-26 14:44:24,554 INFO     185 Operators created\n",
            "2023-08-26 14:44:24,555 INFO     Search start: pegsolitaire-sequential-105\n",
            "2023-08-26 14:44:24,556 INFO     Initial h value: 65.000000\n",
            "2023-08-26 14:47:22,626 INFO     Goal reached. Start extraction of solution.\n",
            "2023-08-26 14:47:22,626 INFO     70225 Nodes expanded\n",
            "2023-08-26 14:47:22,839 INFO     Search end: pegsolitaire-sequential-105\n",
            "2023-08-26 14:47:22,839 INFO     Search time: 1.8e+02\n",
            "2023-08-26 14:47:22,840 INFO     Plan length: 55\n",
            "2023-08-26 14:47:22,841 INFO     validate could not be found on the PATH so the plan can not be validated.\n"
          ]
        }
      ]
    },
    {
      "cell_type": "markdown",
      "source": [
        "Pyperplan com A* e hmax:"
      ],
      "metadata": {
        "id": "IU3PSgXNRc1e"
      }
    },
    {
      "cell_type": "code",
      "source": [
        "%%bash\n",
        "pyperplan --heuristic hmax --search astar benchmarks/pegsol/domain.pddl benchmarks/pegsol/task01.pddl"
      ],
      "metadata": {
        "id": "4sZW9Vm817FH",
        "colab": {
          "base_uri": "https://localhost:8080/"
        },
        "outputId": "13f29848-d852-48d2-9882-6bb776b3335e"
      },
      "execution_count": null,
      "outputs": [
        {
          "output_type": "stream",
          "name": "stdout",
          "text": [
            "2023-08-26 14:40:35,279 INFO     using search: astar_search\n",
            "2023-08-26 14:40:35,279 INFO     using heuristic: hMaxHeuristic\n",
            "2023-08-26 14:40:35,279 INFO     Parsing Domain /content/benchmarks/pegsol/domain.pddl\n",
            "2023-08-26 14:40:35,281 INFO     Parsing Problem /content/benchmarks/pegsol/task01.pddl\n",
            "2023-08-26 14:40:35,287 INFO     5 Predicates parsed\n",
            "2023-08-26 14:40:35,287 INFO     3 Actions parsed\n",
            "2023-08-26 14:40:35,287 INFO     33 Objects parsed\n",
            "2023-08-26 14:40:35,287 INFO     0 Constants parsed\n",
            "2023-08-26 14:40:35,287 INFO     Grounding start: pegsolitaire-sequential-002\n",
            "2023-08-26 14:40:35,586 INFO     Relevance analysis removed 0 facts\n",
            "2023-08-26 14:40:35,587 INFO     Grounding end: pegsolitaire-sequential-002\n",
            "2023-08-26 14:40:35,587 INFO     100 Variables created\n",
            "2023-08-26 14:40:35,587 INFO     185 Operators created\n",
            "2023-08-26 14:40:35,588 INFO     Search start: pegsolitaire-sequential-002\n",
            "2023-08-26 14:40:35,590 INFO     Initial h value: 4.000000\n",
            "2023-08-26 14:40:35,594 INFO     Goal reached. Start extraction of solution.\n",
            "2023-08-26 14:40:35,595 INFO     6 Nodes expanded\n",
            "2023-08-26 14:40:35,595 INFO     Search end: pegsolitaire-sequential-002\n",
            "2023-08-26 14:40:35,595 INFO     Search time: 0.0063\n",
            "2023-08-26 14:40:35,595 INFO     Plan length: 5\n",
            "2023-08-26 14:40:35,596 INFO     validate could not be found on the PATH so the plan can not be validated.\n"
          ]
        }
      ]
    },
    {
      "cell_type": "code",
      "source": [
        "%%bash\n",
        "pyperplan --heuristic hmax --search astar benchmarks/pegsol/domain.pddl benchmarks/pegsol/task03.pddl"
      ],
      "metadata": {
        "id": "Bh5EjxKDRdUL",
        "colab": {
          "base_uri": "https://localhost:8080/"
        },
        "outputId": "5a02d3c6-70be-456c-a31e-83aa41fa9080"
      },
      "execution_count": null,
      "outputs": [
        {
          "output_type": "stream",
          "name": "stdout",
          "text": [
            "2023-08-26 14:47:24,000 INFO     using search: astar_search\n",
            "2023-08-26 14:47:24,000 INFO     using heuristic: hMaxHeuristic\n",
            "2023-08-26 14:47:24,000 INFO     Parsing Domain /content/benchmarks/pegsol/domain.pddl\n",
            "2023-08-26 14:47:24,001 INFO     Parsing Problem /content/benchmarks/pegsol/task03.pddl\n",
            "2023-08-26 14:47:24,004 INFO     5 Predicates parsed\n",
            "2023-08-26 14:47:24,004 INFO     3 Actions parsed\n",
            "2023-08-26 14:47:24,004 INFO     33 Objects parsed\n",
            "2023-08-26 14:47:24,004 INFO     0 Constants parsed\n",
            "2023-08-26 14:47:24,004 INFO     Grounding start: pegsolitaire-sequential-011\n",
            "2023-08-26 14:47:24,161 INFO     Relevance analysis removed 0 facts\n",
            "2023-08-26 14:47:24,161 INFO     Grounding end: pegsolitaire-sequential-011\n",
            "2023-08-26 14:47:24,161 INFO     100 Variables created\n",
            "2023-08-26 14:47:24,161 INFO     185 Operators created\n",
            "2023-08-26 14:47:24,162 INFO     Search start: pegsolitaire-sequential-011\n",
            "2023-08-26 14:47:24,163 INFO     Initial h value: 2.000000\n",
            "2023-08-26 14:47:24,204 INFO     Goal reached. Start extraction of solution.\n",
            "2023-08-26 14:47:24,204 INFO     39 Nodes expanded\n",
            "2023-08-26 14:47:24,204 INFO     Search end: pegsolitaire-sequential-011\n",
            "2023-08-26 14:47:24,204 INFO     Search time: 0.042\n",
            "2023-08-26 14:47:24,204 INFO     Plan length: 9\n",
            "2023-08-26 14:47:24,205 INFO     validate could not be found on the PATH so the plan can not be validated.\n"
          ]
        }
      ]
    },
    {
      "cell_type": "code",
      "source": [
        "%%bash\n",
        "pyperplan --heuristic hmax --search astar benchmarks/pegsol/domain.pddl benchmarks/pegsol/task30.pddl"
      ],
      "metadata": {
        "id": "W4HolqIp16hc"
      },
      "execution_count": null,
      "outputs": []
    },
    {
      "cell_type": "markdown",
      "source": [
        "### 4° Domínio\n",
        "\n",
        "<font color='red'> Insira os comandos de execução do Pyperplan para o domínio e instâncias que você selecionou nas células a seguir (cada instância em uma célula)."
      ],
      "metadata": {
        "id": "jcc930M618LQ"
      }
    },
    {
      "cell_type": "markdown",
      "source": [
        "Pyperplan com A* e hadd:"
      ],
      "metadata": {
        "id": "6N3r6tKCRSxz"
      }
    },
    {
      "cell_type": "code",
      "source": [
        "%%bash\n",
        "pyperplan --heuristic hadd --search astar benchmarks/freecell/domain.pddl benchmarks/freecell/task01.pddl"
      ],
      "metadata": {
        "id": "PvidApo31-7o",
        "colab": {
          "base_uri": "https://localhost:8080/"
        },
        "outputId": "690200b2-b844-4870-f965-46f561f09219"
      },
      "execution_count": null,
      "outputs": [
        {
          "output_type": "stream",
          "name": "stdout",
          "text": [
            "2023-08-26 16:43:55,073 INFO     using search: astar_search\n",
            "2023-08-26 16:43:55,074 INFO     using heuristic: hAddHeuristic\n",
            "2023-08-26 16:43:55,076 INFO     Parsing Domain /content/benchmarks/freecell/domain.pddl\n",
            "2023-08-26 16:43:55,091 INFO     Parsing Problem /content/benchmarks/freecell/task01.pddl\n",
            "2023-08-26 16:43:55,101 INFO     11 Predicates parsed\n",
            "2023-08-26 16:43:55,101 INFO     10 Actions parsed\n",
            "2023-08-26 16:43:55,101 INFO     21 Objects parsed\n",
            "2023-08-26 16:43:55,101 INFO     0 Constants parsed\n",
            "2023-08-26 16:43:55,101 INFO     Grounding start: freecell2-4\n",
            "2023-08-26 16:43:59,076 INFO     Relevance analysis removed 0 facts\n",
            "2023-08-26 16:43:59,080 INFO     Grounding end: freecell2-4\n",
            "2023-08-26 16:43:59,081 INFO     526 Variables created\n",
            "2023-08-26 16:43:59,081 INFO     4656 Operators created\n",
            "2023-08-26 16:43:59,111 INFO     Search start: freecell2-4\n",
            "2023-08-26 16:43:59,117 INFO     Initial h value: 12.000000\n",
            "2023-08-26 16:43:59,436 INFO     Goal reached. Start extraction of solution.\n",
            "2023-08-26 16:43:59,436 INFO     11 Nodes expanded\n",
            "2023-08-26 16:43:59,436 INFO     Search end: freecell2-4\n",
            "2023-08-26 16:43:59,436 INFO     Search time: 0.32\n",
            "2023-08-26 16:43:59,443 INFO     Plan length: 10\n",
            "2023-08-26 16:43:59,444 INFO     validate could not be found on the PATH so the plan can not be validated.\n"
          ]
        }
      ]
    },
    {
      "cell_type": "code",
      "source": [
        "%%bash\n",
        "pyperplan --heuristic hadd --search astar benchmarks/freecell/domain.pddl benchmarks/freecell/task02.pddl"
      ],
      "metadata": {
        "id": "3X98S0yb1-z-",
        "colab": {
          "base_uri": "https://localhost:8080/"
        },
        "outputId": "a28fa23f-892d-4b80-8f31-35845e4119af"
      },
      "execution_count": null,
      "outputs": [
        {
          "output_type": "stream",
          "name": "stdout",
          "text": [
            "2023-08-26 16:43:59,607 INFO     using search: astar_search\n",
            "2023-08-26 16:43:59,607 INFO     using heuristic: hAddHeuristic\n",
            "2023-08-26 16:43:59,607 INFO     Parsing Domain /content/benchmarks/freecell/domain.pddl\n",
            "2023-08-26 16:43:59,613 INFO     Parsing Problem /content/benchmarks/freecell/task02.pddl\n",
            "2023-08-26 16:43:59,615 INFO     11 Predicates parsed\n",
            "2023-08-26 16:43:59,615 INFO     10 Actions parsed\n",
            "2023-08-26 16:43:59,616 INFO     26 Objects parsed\n",
            "2023-08-26 16:43:59,616 INFO     0 Constants parsed\n",
            "2023-08-26 16:43:59,616 INFO     Grounding start: freecell3-4\n",
            "2023-08-26 16:44:11,939 INFO     Relevance analysis removed 0 facts\n",
            "2023-08-26 16:44:11,948 INFO     Grounding end: freecell3-4\n",
            "2023-08-26 16:44:11,948 INFO     782 Variables created\n",
            "2023-08-26 16:44:11,948 INFO     9052 Operators created\n",
            "2023-08-26 16:44:12,002 INFO     Search start: freecell3-4\n",
            "2023-08-26 16:44:12,020 INFO     Initial h value: 21.000000\n",
            "2023-08-26 16:44:13,684 INFO     Goal reached. Start extraction of solution.\n",
            "2023-08-26 16:44:13,685 INFO     18 Nodes expanded\n",
            "2023-08-26 16:44:13,685 INFO     Search end: freecell3-4\n",
            "2023-08-26 16:44:13,685 INFO     Search time: 1.7\n",
            "2023-08-26 16:44:13,695 INFO     Plan length: 17\n",
            "2023-08-26 16:44:13,696 INFO     validate could not be found on the PATH so the plan can not be validated.\n"
          ]
        }
      ]
    },
    {
      "cell_type": "code",
      "source": [
        "%%bash\n",
        "pyperplan --heuristic hadd --search astar benchmarks/freecell/domain.pddl benchmarks/freecell/task03.pddl"
      ],
      "metadata": {
        "id": "Zf8fiCZb1-rZ",
        "colab": {
          "base_uri": "https://localhost:8080/"
        },
        "outputId": "1c1c798a-65f9-433a-d6e3-ec006e7a5a45"
      },
      "execution_count": null,
      "outputs": [
        {
          "output_type": "stream",
          "name": "stdout",
          "text": [
            "2023-08-26 16:44:13,867 INFO     using search: astar_search\n",
            "2023-08-26 16:44:13,868 INFO     using heuristic: hAddHeuristic\n",
            "2023-08-26 16:44:13,868 INFO     Parsing Domain /content/benchmarks/freecell/domain.pddl\n",
            "2023-08-26 16:44:13,876 INFO     Parsing Problem /content/benchmarks/freecell/task03.pddl\n",
            "2023-08-26 16:44:13,879 INFO     11 Predicates parsed\n",
            "2023-08-26 16:44:13,879 INFO     10 Actions parsed\n",
            "2023-08-26 16:44:13,879 INFO     30 Objects parsed\n",
            "2023-08-26 16:44:13,879 INFO     0 Constants parsed\n",
            "2023-08-26 16:44:13,880 INFO     Grounding start: freecell4-4\n",
            "2023-08-26 16:44:37,433 INFO     Relevance analysis removed 0 facts\n",
            "2023-08-26 16:44:37,441 INFO     Grounding end: freecell4-4\n",
            "2023-08-26 16:44:37,441 INFO     1022 Variables created\n",
            "2023-08-26 16:44:37,441 INFO     12076 Operators created\n",
            "2023-08-26 16:44:37,546 INFO     Search start: freecell4-4\n",
            "2023-08-26 16:44:37,560 INFO     Initial h value: 34.000000\n",
            "2023-08-26 16:44:39,155 INFO     Goal reached. Start extraction of solution.\n",
            "2023-08-26 16:44:39,156 INFO     21 Nodes expanded\n",
            "2023-08-26 16:44:39,156 INFO     Search end: freecell4-4\n",
            "2023-08-26 16:44:39,156 INFO     Search time: 1.6\n",
            "2023-08-26 16:44:39,168 INFO     Plan length: 19\n",
            "2023-08-26 16:44:39,169 INFO     validate could not be found on the PATH so the plan can not be validated.\n"
          ]
        }
      ]
    },
    {
      "cell_type": "markdown",
      "source": [
        "Pyperplan com A* e hmax:"
      ],
      "metadata": {
        "id": "WQ2zNdLZRe_h"
      }
    },
    {
      "cell_type": "code",
      "source": [
        "%%bash\n",
        "pyperplan --heuristic hmax --search astar benchmarks/freecell/domain.pddl benchmarks/freecell/task01.pddl"
      ],
      "metadata": {
        "id": "94gdftoK1-iX",
        "colab": {
          "base_uri": "https://localhost:8080/"
        },
        "outputId": "3176ad89-8e5c-4f8e-f36c-e4a0a3b3c401"
      },
      "execution_count": null,
      "outputs": [
        {
          "output_type": "stream",
          "name": "stdout",
          "text": [
            "2023-08-26 16:44:39,298 INFO     using search: astar_search\n",
            "2023-08-26 16:44:39,298 INFO     using heuristic: hMaxHeuristic\n",
            "2023-08-26 16:44:39,298 INFO     Parsing Domain /content/benchmarks/freecell/domain.pddl\n",
            "2023-08-26 16:44:39,303 INFO     Parsing Problem /content/benchmarks/freecell/task01.pddl\n",
            "2023-08-26 16:44:39,304 INFO     11 Predicates parsed\n",
            "2023-08-26 16:44:39,304 INFO     10 Actions parsed\n",
            "2023-08-26 16:44:39,304 INFO     21 Objects parsed\n",
            "2023-08-26 16:44:39,304 INFO     0 Constants parsed\n",
            "2023-08-26 16:44:39,304 INFO     Grounding start: freecell2-4\n",
            "2023-08-26 16:44:41,962 INFO     Relevance analysis removed 0 facts\n",
            "2023-08-26 16:44:41,966 INFO     Grounding end: freecell2-4\n",
            "2023-08-26 16:44:41,966 INFO     526 Variables created\n",
            "2023-08-26 16:44:41,966 INFO     4656 Operators created\n",
            "2023-08-26 16:44:41,986 INFO     Search start: freecell2-4\n",
            "2023-08-26 16:44:41,989 INFO     Initial h value: 3.000000\n",
            "2023-08-26 16:45:07,803 INFO     Goal reached. Start extraction of solution.\n",
            "2023-08-26 16:45:07,803 INFO     1045 Nodes expanded\n",
            "2023-08-26 16:45:07,805 INFO     Search end: freecell2-4\n",
            "2023-08-26 16:45:07,805 INFO     Search time: 2.6e+01\n",
            "2023-08-26 16:45:07,809 INFO     Plan length: 8\n",
            "2023-08-26 16:45:07,810 INFO     validate could not be found on the PATH so the plan can not be validated.\n"
          ]
        }
      ]
    },
    {
      "cell_type": "code",
      "source": [
        "%%bash\n",
        "pyperplan --heuristic hmax --search astar benchmarks/freecell/domain.pddl benchmarks/freecell/task02.pddl"
      ],
      "metadata": {
        "id": "czuOTR1A1-CE",
        "colab": {
          "base_uri": "https://localhost:8080/"
        },
        "outputId": "2a7a8c9b-ec0b-4c10-8a35-7143f816bc13"
      },
      "execution_count": 20,
      "outputs": [
        {
          "output_type": "stream",
          "name": "stdout",
          "text": [
            "2023-08-26 17:08:25,497 INFO     using search: astar_search\n",
            "2023-08-26 17:08:25,497 INFO     using heuristic: hMaxHeuristic\n",
            "2023-08-26 17:08:25,497 INFO     Parsing Domain /content/benchmarks/freecell/domain.pddl\n",
            "2023-08-26 17:08:25,504 INFO     Parsing Problem /content/benchmarks/freecell/task02.pddl\n",
            "2023-08-26 17:08:25,506 INFO     11 Predicates parsed\n",
            "2023-08-26 17:08:25,507 INFO     10 Actions parsed\n",
            "2023-08-26 17:08:25,507 INFO     26 Objects parsed\n",
            "2023-08-26 17:08:25,507 INFO     0 Constants parsed\n",
            "2023-08-26 17:08:25,507 INFO     Grounding start: freecell3-4\n",
            "2023-08-26 17:08:33,862 INFO     Relevance analysis removed 0 facts\n",
            "2023-08-26 17:08:33,872 INFO     Grounding end: freecell3-4\n",
            "2023-08-26 17:08:33,873 INFO     782 Variables created\n",
            "2023-08-26 17:08:33,873 INFO     9052 Operators created\n",
            "2023-08-26 17:08:33,927 INFO     Search start: freecell3-4\n",
            "2023-08-26 17:08:33,946 INFO     Initial h value: 5.000000\n",
            "2023-08-26 17:59:09,976 INFO     Goal reached. Start extraction of solution.\n",
            "2023-08-26 17:59:09,976 INFO     41865 Nodes expanded\n",
            "2023-08-26 17:59:10,090 INFO     Search end: freecell3-4\n",
            "2023-08-26 17:59:10,090 INFO     Search time: 3e+03\n",
            "2023-08-26 17:59:10,103 INFO     Plan length: 14\n",
            "2023-08-26 17:59:10,105 INFO     validate could not be found on the PATH so the plan can not be validated.\n"
          ]
        }
      ]
    },
    {
      "cell_type": "code",
      "source": [
        "%%bash\n",
        "pyperplan --heuristic hmax --search astar benchmarks/freecell/domain.pddl benchmarks/freecell/task03.pddl"
      ],
      "metadata": {
        "id": "oRqUr5BkRgZh",
        "colab": {
          "base_uri": "https://localhost:8080/"
        },
        "outputId": "3cb50146-3d21-4aaa-99c0-03ebad926373"
      },
      "execution_count": 21,
      "outputs": [
        {
          "output_type": "stream",
          "name": "stdout",
          "text": [
            "2023-08-26 17:59:10,233 INFO     using search: astar_search\n",
            "2023-08-26 17:59:10,233 INFO     using heuristic: hMaxHeuristic\n",
            "2023-08-26 17:59:10,233 INFO     Parsing Domain /content/benchmarks/freecell/domain.pddl\n",
            "2023-08-26 17:59:10,237 INFO     Parsing Problem /content/benchmarks/freecell/task03.pddl\n",
            "2023-08-26 17:59:10,239 INFO     11 Predicates parsed\n",
            "2023-08-26 17:59:10,239 INFO     10 Actions parsed\n",
            "2023-08-26 17:59:10,239 INFO     30 Objects parsed\n",
            "2023-08-26 17:59:10,239 INFO     0 Constants parsed\n",
            "2023-08-26 17:59:10,239 INFO     Grounding start: freecell4-4\n",
            "2023-08-26 17:59:28,250 INFO     Relevance analysis removed 0 facts\n",
            "2023-08-26 17:59:28,257 INFO     Grounding end: freecell4-4\n",
            "2023-08-26 17:59:28,257 INFO     1022 Variables created\n",
            "2023-08-26 17:59:28,257 INFO     12076 Operators created\n",
            "2023-08-26 17:59:28,332 INFO     Search start: freecell4-4\n",
            "2023-08-26 17:59:28,346 INFO     Initial h value: 6.000000\n",
            "2023-08-26 23:11:12,345 INFO     Goal reached. Start extraction of solution.\n",
            "2023-08-26 23:11:12,346 INFO     210511 Nodes expanded\n",
            "2023-08-26 23:11:12,925 INFO     Search end: freecell4-4\n",
            "2023-08-26 23:11:12,926 INFO     Search time: 1.9e+04\n",
            "2023-08-26 23:11:12,942 INFO     Plan length: 18\n",
            "2023-08-26 23:11:12,944 INFO     validate could not be found on the PATH so the plan can not be validated.\n"
          ]
        }
      ]
    },
    {
      "cell_type": "markdown",
      "source": [
        "# Instruções de envio\n",
        "\n",
        "Você deve submeter no moodle dois arquivos:\n",
        "\n",
        "\n",
        "* Um cópia do arquivo **EP1-Pyperplan.ipynb** com todas as células previamente preenchidas (quando necessário) e executadas (caso você já tenha o pyperplan instalado, não é necessário executar a primeira célula). Os outputs devem estar visíveis e legíveis.\n",
        "*  Um arquivo com extensão **.pdf** contendo uma tabela com os resultados estatísticos devolvidos pelo Pyperplan e um texto analisando os resultados.\n",
        "\n",
        "Importante: Não esqueça de colocar seu nome e NUSP nos arquivos que serão entregues.\n",
        "\n"
      ],
      "metadata": {
        "id": "-ZOu9sC_4Y_G"
      }
    }
  ]
}