{
 "cells": [
  {
   "cell_type": "code",
   "execution_count": null,
   "metadata": {},
   "outputs": [],
   "source": [
    "import numpy as np\n",
    "from mdp2 import CarRental\n",
    "\n",
    "c = CarRental(10)\n",
    "c.print('policy')"
   ]
  },
  {
   "attachments": {},
   "cell_type": "markdown",
   "metadata": {},
   "source": [
    "# Transitions Tests"
   ]
  },
  {
   "cell_type": "code",
   "execution_count": null,
   "metadata": {},
   "outputs": [],
   "source": [
    "s1 = 99\n",
    "# s1 = 399\n",
    "a = 5\n",
    "\n",
    "print(c.STATES[s1], c.ACTIONS[a])\n",
    "s,r =  c.transition(s1, a)\n",
    "# print(s, r)\n",
    "\n",
    "print(c.requests, c.returns)\n",
    "print(c.STATES[s], r)"
   ]
  },
  {
   "cell_type": "code",
   "execution_count": null,
   "metadata": {},
   "outputs": [],
   "source": [
    "c.policy_iteration()\n",
    "c.print('policy')"
   ]
  },
  {
   "cell_type": "code",
   "execution_count": null,
   "metadata": {},
   "outputs": [],
   "source": [
    "square = {2: 4, -3: 9, -1: 1, -2: 4}\n",
    "\n",
    "key2 = max(square, key = lambda k: square[k])\n",
    "print(key2)"
   ]
  },
  {
   "cell_type": "code",
   "execution_count": null,
   "metadata": {},
   "outputs": [],
   "source": [
    "max(1, 4)"
   ]
  },
  {
   "cell_type": "code",
   "execution_count": null,
   "metadata": {},
   "outputs": [],
   "source": [
    "from rental import Rental\n",
    "\n",
    "r = Rental()\n",
    "r.PolicyEval()\n",
    "# r.PolicyInprove()\n",
    "# r.Pi"
   ]
  },
  {
   "cell_type": "code",
   "execution_count": null,
   "metadata": {},
   "outputs": [],
   "source": [
    "import numpy as np\n",
    "from scipy.stats import poisson\n",
    "\n",
    "demand = [3, 4]\n",
    "dropoff = [3, 2]\n",
    "\n",
    "def prob(s, s_, a):\n",
    "    temp_s = np.array(s) + np.array([a, -a])\n",
    "    p_1, p_2 = 0,0\n",
    "    \n",
    "    for requests_1, requests_2 in zip(range(temp_s[0]+1), range(temp_s[1]+1)):\n",
    "        diff = temp_s[0] - s_[0]\n",
    "        if requests_1 >= diff:\n",
    "            p_1 += poisson.pmf(requests_1, demand[0]) * poisson.pmf(requests_1-diff, dropoff[0])\n",
    "    \n",
    "        diff = temp_s[1] - s_[1]\n",
    "        if requests_2 >= diff:\n",
    "            p_2 += poisson.pmf(requests_2, demand[1]) * poisson.pmf(requests_2-diff, dropoff[1])\n",
    "\n",
    "    return p_1 * p_2\n",
    "\n",
    "\n",
    "prob((5,9), (5, 4), 2)"
   ]
  },
  {
   "cell_type": "code",
   "execution_count": null,
   "metadata": {},
   "outputs": [],
   "source": [
    "s = (5,9)\n",
    "a = [2, -2]\n",
    "s_ = (5,4)\n",
    "\n",
    "p[(5,4) | (5,9), (2,-2)] = p[(5,4) | (7,7)] = {\n",
    "        p(2 requests e 0 returns) +\n",
    "        p(3 requests e 1 returns) +\n",
    "        p(4 requests e 2 returns) +\n",
    "        p(5 requests e 3 returns) +\n",
    "        p(6 requests e 4 returns) +\n",
    "        p(7 requests e 5 returns)\n",
    "\n",
    "        * \n",
    "\n",
    "        p(3 requests e 0 returns) +\n",
    "        p(4 requests e 1 returns) +\n",
    "        p(5 requests e 2 returns) +\n",
    "        p(6 requests e 3 returns) +\n",
    "        p(7 requests e 4 returns)\n",
    "}"
   ]
  },
  {
   "cell_type": "code",
   "execution_count": null,
   "metadata": {},
   "outputs": [],
   "source": [
    "s = (5,9)\n",
    "a = [-2, 2]\n",
    "s_ = (5,4)\n",
    "\n",
    "p[(5,4) | (5,9), (-2, 2)] = p[(5,4) | (3,11)] = {\n",
    "        p(0 requests e 2 returns) +\n",
    "        p(1 requests e 3 returns) +\n",
    "        p(2 requests e 4 returns) +\n",
    "        p(3 requests e 5 returns)\n",
    "\n",
    "        * \n",
    "\n",
    "        p(7 requests e 0 returns) +\n",
    "        p(8 requests e 1 returns) +\n",
    "        p(9 requests e 2 returns) +\n",
    "        p(10 requests e 3 returns) +\n",
    "        p(11 requests e 4 returns)\n",
    "}"
   ]
  },
  {
   "cell_type": "code",
   "execution_count": null,
   "metadata": {},
   "outputs": [],
   "source": [
    "ACTIONS = [-5, -4, -3, -2, -1, 0, 1, 2, 3, 4, 5]\n",
    "MAX_CARS = 20\n",
    "REQUEST_1_LAMBDA = 3\n",
    "DROPOFF_1_LAMBDA = 3\n",
    "REQUEST_2_LAMBDA = 4\n",
    "DROPOFF_B_LAMBDA = 2\n",
    "\n",
    "def precompute_model(lambda_requests, lambda_dropoffs):\n",
    "    P = {}\n",
    "    for requests in range(MAX_CARS + max(ACTIONS) + 1):\n",
    "        request_prob = poisson.pmf(requests, lambda_requests)\n",
    "        \n",
    "        for dropoffs in range(MAX_CARS + max(ACTIONS) + 1):\n",
    "            dropoffs_prob = poisson.pmf(dropoffs, lambda_dropoffs)\n",
    "            \n",
    "            for n in range(MAX_CARS + max(ACTIONS) + 1):\n",
    "                satisfied_requests = min(requests, n)\n",
    "                new_n = max(0, min(MAX_CARS, n + dropoffs - satisfied_requests))\n",
    "                if (n, new_n) not in P:\n",
    "                    P[(n, new_n)] = 0.\n",
    "                P[(n, new_n)] += request_prob * dropoffs_prob\n",
    "    return P\n",
    "\n",
    "_probs_1 = precompute_model(REQUEST_1_LAMBDA, DROPOFF_1_LAMBDA)\n",
    "_probs_2 = precompute_model(REQUEST_2_LAMBDA, DROPOFF_B_LAMBDA)\n",
    "\n",
    "s = (5,9)\n",
    "a = [2, -2]\n",
    "s_temp = np.array(s) + np.array(a)\n",
    "s_ = (5,4)\n",
    "\n",
    "print(_probs_1[s[0], s_[0]]*_probs_2[s[1], s_[1]])\n",
    "# print(_probs_1)"
   ]
  },
  {
   "cell_type": "code",
   "execution_count": null,
   "metadata": {},
   "outputs": [],
   "source": [
    "from rental import *\n",
    "\n",
    "# policy_improve()"
   ]
  },
  {
   "cell_type": "code",
   "execution_count": 3,
   "metadata": {},
   "outputs": [
    {
     "data": {
      "text/plain": [
       "array([[[0.00000000e+00, 0.00000000e+00, 0.00000000e+00, ...,\n",
       "         0.00000000e+00, 0.00000000e+00, 0.00000000e+00],\n",
       "        [0.00000000e+00, 0.00000000e+00, 0.00000000e+00, ...,\n",
       "         0.00000000e+00, 0.00000000e+00, 0.00000000e+00],\n",
       "        [0.00000000e+00, 0.00000000e+00, 0.00000000e+00, ...,\n",
       "         0.00000000e+00, 0.00000000e+00, 0.00000000e+00],\n",
       "        ...,\n",
       "        [0.00000000e+00, 0.00000000e+00, 0.00000000e+00, ...,\n",
       "         0.00000000e+00, 0.00000000e+00, 0.00000000e+00],\n",
       "        [0.00000000e+00, 0.00000000e+00, 0.00000000e+00, ...,\n",
       "         0.00000000e+00, 0.00000000e+00, 0.00000000e+00],\n",
       "        [0.00000000e+00, 0.00000000e+00, 0.00000000e+00, ...,\n",
       "         0.00000000e+00, 0.00000000e+00, 0.00000000e+00]],\n",
       "\n",
       "       [[0.00000000e+00, 0.00000000e+00, 0.00000000e+00, ...,\n",
       "         0.00000000e+00, 0.00000000e+00, 0.00000000e+00],\n",
       "        [0.00000000e+00, 0.00000000e+00, 0.00000000e+00, ...,\n",
       "         0.00000000e+00, 0.00000000e+00, 0.00000000e+00],\n",
       "        [0.00000000e+00, 0.00000000e+00, 0.00000000e+00, ...,\n",
       "         0.00000000e+00, 0.00000000e+00, 0.00000000e+00],\n",
       "        ...,\n",
       "        [0.00000000e+00, 0.00000000e+00, 0.00000000e+00, ...,\n",
       "         0.00000000e+00, 0.00000000e+00, 0.00000000e+00],\n",
       "        [0.00000000e+00, 0.00000000e+00, 0.00000000e+00, ...,\n",
       "         0.00000000e+00, 0.00000000e+00, 0.00000000e+00],\n",
       "        [0.00000000e+00, 0.00000000e+00, 0.00000000e+00, ...,\n",
       "         0.00000000e+00, 0.00000000e+00, 0.00000000e+00]],\n",
       "\n",
       "       [[0.00000000e+00, 0.00000000e+00, 0.00000000e+00, ...,\n",
       "         0.00000000e+00, 0.00000000e+00, 0.00000000e+00],\n",
       "        [0.00000000e+00, 0.00000000e+00, 0.00000000e+00, ...,\n",
       "         0.00000000e+00, 0.00000000e+00, 0.00000000e+00],\n",
       "        [0.00000000e+00, 0.00000000e+00, 0.00000000e+00, ...,\n",
       "         0.00000000e+00, 0.00000000e+00, 0.00000000e+00],\n",
       "        ...,\n",
       "        [0.00000000e+00, 0.00000000e+00, 0.00000000e+00, ...,\n",
       "         0.00000000e+00, 0.00000000e+00, 0.00000000e+00],\n",
       "        [0.00000000e+00, 0.00000000e+00, 0.00000000e+00, ...,\n",
       "         0.00000000e+00, 0.00000000e+00, 0.00000000e+00],\n",
       "        [0.00000000e+00, 0.00000000e+00, 0.00000000e+00, ...,\n",
       "         0.00000000e+00, 0.00000000e+00, 0.00000000e+00]],\n",
       "\n",
       "       ...,\n",
       "\n",
       "       [[0.00000000e+00, 0.00000000e+00, 0.00000000e+00, ...,\n",
       "         0.00000000e+00, 0.00000000e+00, 0.00000000e+00],\n",
       "        [0.00000000e+00, 0.00000000e+00, 0.00000000e+00, ...,\n",
       "         0.00000000e+00, 0.00000000e+00, 0.00000000e+00],\n",
       "        [0.00000000e+00, 0.00000000e+00, 0.00000000e+00, ...,\n",
       "         0.00000000e+00, 0.00000000e+00, 0.00000000e+00],\n",
       "        ...,\n",
       "        [1.42712655e-03, 4.57431290e-03, 1.09899899e-02, ...,\n",
       "         1.37374874e-03, 2.85894556e-04, 4.45976871e-05],\n",
       "        [2.19097440e-03, 6.06408919e-03, 1.23875216e-02, ...,\n",
       "         5.18128642e-04, 9.31110177e-05, 1.27208139e-05],\n",
       "        [2.90453768e-03, 6.83522335e-03, 1.16887558e-02, ...,\n",
       "         1.68745729e-04, 2.65585056e-05, 3.21762279e-06]],\n",
       "\n",
       "       [[0.00000000e+00, 0.00000000e+00, 0.00000000e+00, ...,\n",
       "         0.00000000e+00, 0.00000000e+00, 0.00000000e+00],\n",
       "        [0.00000000e+00, 0.00000000e+00, 0.00000000e+00, ...,\n",
       "         0.00000000e+00, 0.00000000e+00, 0.00000000e+00],\n",
       "        [0.00000000e+00, 0.00000000e+00, 0.00000000e+00, ...,\n",
       "         0.00000000e+00, 0.00000000e+00, 0.00000000e+00],\n",
       "        ...,\n",
       "        [8.14132407e-04, 2.97955258e-03, 8.29005827e-03, ...,\n",
       "         3.09688040e-03, 7.58011149e-04, 1.36935897e-04],\n",
       "        [1.42712655e-03, 4.57431290e-03, 1.09899899e-02, ...,\n",
       "         1.37374874e-03, 2.85894556e-04, 4.45977038e-05],\n",
       "        [2.19097440e-03, 6.06408919e-03, 1.23875216e-02, ...,\n",
       "         5.18128642e-04, 9.31110180e-05, 1.27208186e-05]],\n",
       "\n",
       "       [[0.00000000e+00, 0.00000000e+00, 0.00000000e+00, ...,\n",
       "         0.00000000e+00, 0.00000000e+00, 0.00000000e+00],\n",
       "        [0.00000000e+00, 0.00000000e+00, 0.00000000e+00, ...,\n",
       "         0.00000000e+00, 0.00000000e+00, 0.00000000e+00],\n",
       "        [0.00000000e+00, 0.00000000e+00, 0.00000000e+00, ...,\n",
       "         0.00000000e+00, 0.00000000e+00, 0.00000000e+00],\n",
       "        ...,\n",
       "        [4.11855865e-04, 1.69974436e-03, 5.39986332e-03, ...,\n",
       "         5.84437788e-03, 1.70880584e-03, 3.63067209e-04],\n",
       "        [8.14132407e-04, 2.97955258e-03, 8.29005827e-03, ...,\n",
       "         3.09688040e-03, 7.58011149e-04, 1.36935900e-04],\n",
       "        [1.42712655e-03, 4.57431290e-03, 1.09899899e-02, ...,\n",
       "         1.37374874e-03, 2.85894556e-04, 4.45977048e-05]]])"
      ]
     },
     "execution_count": 3,
     "metadata": {},
     "output_type": "execute_result"
    }
   ],
   "source": [
    "P"
   ]
  },
  {
   "cell_type": "code",
   "execution_count": null,
   "metadata": {},
   "outputs": [],
   "source": []
  }
 ],
 "metadata": {
  "kernelspec": {
   "display_name": "base",
   "language": "python",
   "name": "python3"
  },
  "language_info": {
   "codemirror_mode": {
    "name": "ipython",
    "version": 3
   },
   "file_extension": ".py",
   "mimetype": "text/x-python",
   "name": "python",
   "nbconvert_exporter": "python",
   "pygments_lexer": "ipython3",
   "version": "3.9.5 (default, May 18 2021, 14:42:02) [MSC v.1916 64 bit (AMD64)]"
  },
  "orig_nbformat": 4,
  "vscode": {
   "interpreter": {
    "hash": "19d1d53a962d236aa061289c2ac16dc8e6d9648c89fe79f459ae9a3493bc67b4"
   }
  }
 },
 "nbformat": 4,
 "nbformat_minor": 2
}
