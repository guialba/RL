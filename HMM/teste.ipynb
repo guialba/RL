{
 "cells": [
  {
   "attachments": {},
   "cell_type": "markdown",
   "metadata": {},
   "source": [
    "# Model"
   ]
  },
  {
   "cell_type": "code",
   "execution_count": 39,
   "metadata": {},
   "outputs": [],
   "source": [
    "m = {\n",
    "    ## Variables\n",
    "    'M': 3, # valores observaveis\n",
    "    'N': 2, # estados ocultos \n",
    "    \n",
    "    ## Probabilities\n",
    "    'A': [ # nxn\n",
    "        [.5, .5],\n",
    "        [.5, .5]\n",
    "    ],\n",
    "    'B': [ # nxm\n",
    "        [.4, .3, .2],\n",
    "        [.2, .3, .4]\n",
    "    ],\n",
    "    'P': [.5, .5] # 1xn\n",
    "}"
   ]
  },
  {
   "attachments": {},
   "cell_type": "markdown",
   "metadata": {},
   "source": [
    "# Gerador de Trajetória"
   ]
  },
  {
   "cell_type": "code",
   "execution_count": 40,
   "metadata": {},
   "outputs": [
    {
     "data": {
      "text/plain": [
       "[0, 0, 2, 1, 2, 2, 2, 2, 1, 0, 0, 1, 1, 0, 0]"
      ]
     },
     "execution_count": 40,
     "metadata": {},
     "output_type": "execute_result"
    }
   ],
   "source": [
    "import random\n",
    "\n",
    "def generate(T, model):\n",
    "    draw = lambda size, p: random.choices(range(size), p)[0]\n",
    "    \n",
    "    q = draw(model['N'], model['P'])\n",
    "    for t in range(1, T+1):\n",
    "        yield draw(model['M'], model['B'][q]), q\n",
    "        q = draw(model['N'], model['A'][q])\n",
    "\n",
    "O = [n for n, _ in generate(15, m)]\n",
    "O"
   ]
  },
  {
   "attachments": {},
   "cell_type": "markdown",
   "metadata": {},
   "source": [
    "# Forward-Backward"
   ]
  },
  {
   "cell_type": "code",
   "execution_count": 41,
   "metadata": {},
   "outputs": [
    {
     "name": "stdout",
     "output_type": "stream",
     "text": [
      "0.009000000000000003\n",
      "5.314410000000003e-07\n",
      "p:  1.4348907000000008e-08\n"
     ]
    }
   ],
   "source": [
    "def alpha(t, i, O, model):\n",
    "    if t == 0:\n",
    "        return model['P'][i] * model['B'][i][O[t]]\n",
    "    else:\n",
    "        return sum([alpha(t-1, j, O, model)* model['A'][j][i] for j in range(model['N'])])* model['B'][i][O[t]]\n",
    "    \n",
    "def beta(t, i, O, model):\n",
    "    if t == (len(O)-1):\n",
    "        return 1\n",
    "    else:\n",
    "        return sum([model['A'][i][j] * model['B'][j][O[t+1]]*beta(t+1, j, O, model) for j in range(model['N'])])\n",
    "    \n",
    "print(alpha(2, 0, O, m))\n",
    "print(beta(2, 0, O, m))\n",
    "\n",
    "print('p: ', sum([alpha(len(O)-1, i, O, m) for i in range(m['N'])]))"
   ]
  },
  {
   "attachments": {},
   "cell_type": "markdown",
   "metadata": {},
   "source": [
    "# Expectation Maximization (EM)"
   ]
  },
  {
   "cell_type": "code",
   "execution_count": 52,
   "metadata": {},
   "outputs": [
    {
     "name": "stdout",
     "output_type": "stream",
     "text": [
      "0.6666666666666666\n",
      "0.5043859649122807\n",
      "0.2857142857142857\n"
     ]
    }
   ],
   "source": [
    "def xi(t, a, b, O, model):\n",
    "    return (alpha(t, a, O, model) * model['A'][a][b] * model['B'][b][O[t+1]] * beta(t+1, b, O, model)) / sum([alpha(t, i, O, model) * model['A'][i][j] * model['B'][j][O[t+1]] * beta(t+1, j, O, model) for i in range(model['N']) for j in range(model['N'])])\n",
    "\n",
    "def gamma(t, i, O, model):\n",
    "    return sum([xi(t, i, j, O, model) for j in range(model['N'])]) \n",
    "\n",
    "\n",
    "def estimate_pi(i, O, model):\n",
    "    return gamma(0, i, O, model)\n",
    "\n",
    "def estimate_A(i,j, O, model):\n",
    "    return sum([xi(t, i,j, O, model) for t in range(len(O)-2)]) / sum([gamma(t, i, O, model) for t in range(len(O)-2)])\n",
    "\n",
    "\n",
    "def estimate_B(j,k, O, model):\n",
    "    return sum([gamma(t, j, O, model) for t in range(len(O)-1) if O[t]==k]) / sum([gamma(t, j, O, model) for t in range(len(O)-1)])\n",
    "\n",
    "print(estimate_pi(0, O, m))\n",
    "print(estimate_A(0,0, O, m))\n",
    "print(estimate_B(0,1, O, m))"
   ]
  },
  {
   "attachments": {},
   "cell_type": "markdown",
   "metadata": {},
   "source": [
    "# Iterate"
   ]
  },
  {
   "attachments": {},
   "cell_type": "markdown",
   "metadata": {},
   "source": [
    "## Random Init"
   ]
  },
  {
   "cell_type": "code",
   "execution_count": 53,
   "metadata": {},
   "outputs": [
    {
     "data": {
      "text/plain": [
       "{'M': 3,\n",
       " 'N': 2,\n",
       " 'A': [[0.3281315953088063, 0.6718684046911937],\n",
       "  [0.6324612337013811, 0.36753876629861887]],\n",
       " 'B': [[0.4480545254589664, 0.32867427045369174, 0.22327120408734186],\n",
       "  [0.012706451752925771, 0.9482333701604805, 0.03906017808659372]],\n",
       " 'P': [0.5228571390863379, 0.4771428609136621]}"
      ]
     },
     "execution_count": 53,
     "metadata": {},
     "output_type": "execute_result"
    }
   ],
   "source": [
    "import numpy as np\n",
    "\n",
    "\n",
    "def init_P(N):\n",
    "    d = np.random.random(N)\n",
    "    return (d / sum(d)).tolist()\n",
    "\n",
    "def init_P2(N,M):\n",
    "    return [init_P(M) for _ in range(N)]\n",
    "\n",
    "n_value =2\n",
    "m_value =3\n",
    "m_new = {\n",
    "    ## Variables\n",
    "    'M': m_value,\n",
    "    'N': n_value,\n",
    "    ## Probabilities\n",
    "    'A': init_P2(n_value,n_value),\n",
    "    'B': init_P2(n_value,m_value),\n",
    "    'P': init_P(n_value) # 1xn\n",
    "}\n",
    "\n",
    "m_new"
   ]
  },
  {
   "cell_type": "code",
   "execution_count": 54,
   "metadata": {},
   "outputs": [
    {
     "name": "stdout",
     "output_type": "stream",
     "text": [
      "p:  1.4348907000000008e-08\n",
      "p:  2.579210540545468e-10\n"
     ]
    }
   ],
   "source": [
    "print('p: ', sum([alpha(len(O)-1, i, O, m) for i in range(m['N'])]))\n",
    "print('p: ', sum([alpha(len(O)-1, i, O, m_new) for i in range(m_new['N'])]))"
   ]
  },
  {
   "cell_type": "code",
   "execution_count": 55,
   "metadata": {},
   "outputs": [],
   "source": [
    "def get_estimate_for_A(O, model):\n",
    "    return [\n",
    "        [ round(estimate_A(i,j, O, model), 2) for j in range(model['N']) ] \n",
    "        for i in range(model['N']) \n",
    "    ]\n",
    "\n",
    "def get_estimate_for_B(O, model):\n",
    "    return [\n",
    "        [ round(estimate_B(j,k, O, model), 2) for k in range(model['M']) ] \n",
    "        for j in range(model['N']) \n",
    "    ]\n",
    "\n",
    "def get_estimate_for_Pi(O, model):\n",
    "    return [ round(estimate_pi(i, O, model), 2) for i in range(model['N']) ] \n",
    "\n",
    "# m_new['A'] = get_estimate_for_A(O, m_new)\n",
    "# m_new['B'] = get_estimate_for_B(O, m_new)\n",
    "# m_new['P'] = get_estimate_for_Pi(O, m_new)\n",
    "# m_new"
   ]
  },
  {
   "cell_type": "code",
   "execution_count": 56,
   "metadata": {},
   "outputs": [
    {
     "name": "stdout",
     "output_type": "stream",
     "text": [
      "p:  1.4348907000000008e-08\n",
      "p:  7.577860398776726e-08\n",
      "\n",
      "p:  1.4348907000000008e-08\n",
      "p:  9.554222108732408e-08\n",
      "\n",
      "p:  1.4348907000000008e-08\n",
      "p:  1.1079806657938958e-07\n",
      "\n",
      "p:  1.4348907000000008e-08\n",
      "p:  1.1009213064951889e-07\n",
      "\n",
      "p:  1.4348907000000008e-08\n",
      "p:  1.179044594170593e-07\n",
      "\n",
      "p:  1.4348907000000008e-08\n",
      "p:  1.1426980728961011e-07\n",
      "\n",
      "p:  1.4348907000000008e-08\n",
      "p:  1.0674442764486726e-07\n",
      "\n",
      "p:  1.4348907000000008e-08\n",
      "p:  1.2058268224677273e-07\n",
      "\n",
      "p:  1.4348907000000008e-08\n",
      "p:  1.2879977511700206e-07\n",
      "\n",
      "p:  1.4348907000000008e-08\n",
      "p:  1.2395339573187848e-07\n",
      "\n",
      "p:  1.4348907000000008e-08\n",
      "p:  1.3344518402426463e-07\n",
      "\n",
      "p:  1.4348907000000008e-08\n",
      "p:  1.3606811031747703e-07\n",
      "\n",
      "p:  1.4348907000000008e-08\n",
      "p:  1.4351372713706765e-07\n",
      "\n",
      "p:  1.4348907000000008e-08\n",
      "p:  1.3558494896305224e-07\n",
      "\n",
      "p:  1.4348907000000008e-08\n",
      "p:  1.5178542167201672e-07\n",
      "\n",
      "p:  1.4348907000000008e-08\n",
      "p:  1.4464567902311056e-07\n",
      "\n",
      "p:  1.4348907000000008e-08\n",
      "p:  1.6633612338443028e-07\n",
      "\n",
      "p:  1.4348907000000008e-08\n",
      "p:  1.6849587619711068e-07\n",
      "\n",
      "p:  1.4348907000000008e-08\n",
      "p:  1.9131414977900972e-07\n",
      "\n",
      "p:  1.4348907000000008e-08\n",
      "p:  2.6352782382320233e-07\n",
      "\n"
     ]
    }
   ],
   "source": [
    "n_iter = 20\n",
    "for _ in range(n_iter):\n",
    "    m_new['A'] = get_estimate_for_A(O, m_new)\n",
    "    m_new['B'] = get_estimate_for_B(O, m_new)\n",
    "    m_new['P'] = get_estimate_for_Pi(O, m_new)\n",
    "    print('p: ', sum([alpha(len(O)-1, i, O, m) for i in range(m['N'])]))\n",
    "    print('p: ', sum([alpha(len(O)-1, i, O, m_new) for i in range(m_new['N'])]))\n",
    "    print('')"
   ]
  },
  {
   "cell_type": "code",
   "execution_count": 57,
   "metadata": {},
   "outputs": [
    {
     "data": {
      "text/plain": [
       "{'M': 3,\n",
       " 'N': 2,\n",
       " 'A': [[0.5, 0.5], [0.5, 0.5]],\n",
       " 'B': [[0.4, 0.3, 0.2], [0.2, 0.3, 0.4]],\n",
       " 'P': [0.5, 0.5]}"
      ]
     },
     "execution_count": 57,
     "metadata": {},
     "output_type": "execute_result"
    }
   ],
   "source": [
    "m"
   ]
  },
  {
   "cell_type": "code",
   "execution_count": 58,
   "metadata": {},
   "outputs": [
    {
     "data": {
      "text/plain": [
       "{'M': 3,\n",
       " 'N': 2,\n",
       " 'A': [[0.48, 0.52], [0.36, 0.64]],\n",
       " 'B': [[0.79, 0.03, 0.19], [0.03, 0.49, 0.49]],\n",
       " 'P': [1.0, 0.0]}"
      ]
     },
     "execution_count": 58,
     "metadata": {},
     "output_type": "execute_result"
    }
   ],
   "source": [
    "m_new"
   ]
  },
  {
   "cell_type": "code",
   "execution_count": null,
   "metadata": {},
   "outputs": [],
   "source": []
  }
 ],
 "metadata": {
  "kernelspec": {
   "display_name": "RL",
   "language": "python",
   "name": "python3"
  },
  "language_info": {
   "codemirror_mode": {
    "name": "ipython",
    "version": 3
   },
   "file_extension": ".py",
   "mimetype": "text/x-python",
   "name": "python",
   "nbconvert_exporter": "python",
   "pygments_lexer": "ipython3",
   "version": "3.9.13"
  },
  "orig_nbformat": 4
 },
 "nbformat": 4,
 "nbformat_minor": 2
}
