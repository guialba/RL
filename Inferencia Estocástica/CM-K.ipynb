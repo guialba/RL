{
 "cells": [
  {
   "cell_type": "code",
   "execution_count": 1,
   "metadata": {},
   "outputs": [],
   "source": [
    "import numpy as np\n",
    "from itertools import product\n",
    "\n",
    "k_counter = {}\n",
    "log_like = {}\n",
    "\n",
    "def BIC_pd(S, x, k=10):\n",
    "    global k_counter, log_like\n",
    "    k_counter = {}\n",
    "    def log_l(S, x, k):\n",
    "        if k == 0:\n",
    "            k_counter[k-1] = {'': len(x)}\n",
    "        \n",
    "        C = [''.join(context) for context in list(product(S, repeat=k+1))]\n",
    "        \n",
    "        countSs = lambda S,s: len(set(S.find(s, i) for i,_ in enumerate(S)) - {-1})\n",
    "        if k not in k_counter:\n",
    "            k_counter[k] = {a: countSs(x,a) for a in C}\n",
    "\n",
    "        return sum(k_counter[k][a] * np.log(k_counter[k][a]/k_counter[k-1][a[:-1]]) for a in C if k_counter[k][a]>0 and k_counter[k-1][a[:-1]]>0)\n",
    "\n",
    "    log_like = {}\n",
    "    def estimate_order_BIC(S, x, k):\n",
    "        # N = max(k, len(x))\n",
    "        N = k if len(x) > k else len(x) \n",
    "        for k in range(N):\n",
    "            if k not in log_like:\n",
    "                log_like[k] = log_l(S, x, k)\n",
    "\n",
    "        k_bic = [-log_like[k0] + (len(S)**k0 * (len(S)-1) * np.log(len(x)))/2 for k0 in range(N)]\n",
    "        return np.argmin(k_bic)+1\n",
    "\n",
    "    return estimate_order_BIC(S, x, k)\n",
    "\n",
    "# print(log_l('10' ,'111000111000', 4))\n",
    "# BIC_pd('10', '111000111000')\n",
    "# print(log_l('10' ,'111101111011110', 0))\n",
    "# print(log_l('10' ,'111101111011110', 2))\n",
    "# print([log_l('10' ,'111101111011110', n) for n in range(2)])\n",
    "# print([log_l('10' ,'111101111011110', n) for n in range(10)])\n",
    "# BIC_pd('10', '111101111011110')\n",
    "# BIC_pd('10', '110'*1000)"
   ]
  },
  {
   "cell_type": "markdown",
   "metadata": {},
   "source": [
    "# Ex. 1"
   ]
  },
  {
   "cell_type": "code",
   "execution_count": 1,
   "metadata": {},
   "outputs": [],
   "source": [
    "with open('OrderEst_ex1', 'r') as f:\n",
    "    l1 = f.readline()\n",
    "    (l2, l3) = f.readline().split(' ')\n",
    "\n",
    "# print(l1)\n",
    "# print(l2)\n",
    "# print(l3)"
   ]
  },
  {
   "cell_type": "code",
   "execution_count": 4,
   "metadata": {},
   "outputs": [
    {
     "data": {
      "text/plain": [
       "3"
      ]
     },
     "execution_count": 4,
     "metadata": {},
     "output_type": "execute_result"
    }
   ],
   "source": [
    "S = '12'\n",
    "\n",
    "s = ''.join(f'{int(i)-1}' for i in S)\n",
    "x = ''.join(f'{int(i)-1}' for i in l3 if i in S)\n",
    "BIC_pd(s, x, k=8)"
   ]
  },
  {
   "attachments": {},
   "cell_type": "markdown",
   "metadata": {},
   "source": [
    "# Ex.2"
   ]
  },
  {
   "cell_type": "code",
   "execution_count": 2,
   "metadata": {},
   "outputs": [],
   "source": [
    "with open('OrderEst_ex2', 'r') as f:\n",
    "    l1 = f.readline()\n",
    "    (l2, l3) = f.readline().split(' ')\n",
    "\n",
    "# print(l1)\n",
    "# print(l2)\n",
    "# print(l3)"
   ]
  },
  {
   "cell_type": "code",
   "execution_count": 6,
   "metadata": {},
   "outputs": [
    {
     "data": {
      "text/plain": [
       "4"
      ]
     },
     "execution_count": 6,
     "metadata": {},
     "output_type": "execute_result"
    }
   ],
   "source": [
    "S = '12'\n",
    "\n",
    "s = ''.join(f'{int(i)-1}' for i in S)\n",
    "x = ''.join(f'{int(i)-1}' for i in l3 if i in S)\n",
    "BIC_pd(s, x, k=8)"
   ]
  },
  {
   "attachments": {},
   "cell_type": "markdown",
   "metadata": {},
   "source": [
    "# Ex.3"
   ]
  },
  {
   "cell_type": "code",
   "execution_count": 3,
   "metadata": {},
   "outputs": [],
   "source": [
    "with open('OrderEst_ex3', 'r') as f:\n",
    "    l1 = f.readline()\n",
    "    (l2, l3) = f.readline().split(' ')\n",
    "\n",
    "# print(l1)\n",
    "# print(l2)\n",
    "# print(l3)"
   ]
  },
  {
   "cell_type": "code",
   "execution_count": 8,
   "metadata": {},
   "outputs": [
    {
     "data": {
      "text/plain": [
       "4"
      ]
     },
     "execution_count": 8,
     "metadata": {},
     "output_type": "execute_result"
    }
   ],
   "source": [
    "S = '123'\n",
    "\n",
    "s = ''.join(f'{int(i)-1}' for i in S)\n",
    "x = ''.join(f'{int(i)-1}' for i in l3 if i in S)\n",
    "BIC_pd(s, x, k=8)"
   ]
  },
  {
   "attachments": {},
   "cell_type": "markdown",
   "metadata": {},
   "source": [
    "# Ex.4"
   ]
  },
  {
   "cell_type": "code",
   "execution_count": 4,
   "metadata": {},
   "outputs": [],
   "source": [
    "with open('OrderEst_ex4', 'r') as f:\n",
    "    l1 = f.readline()\n",
    "    (l2, l3) = f.readline().split(' ')\n",
    "\n",
    "# print(l1)\n",
    "# print(l2)\n",
    "# print(l3)"
   ]
  },
  {
   "cell_type": "code",
   "execution_count": 3,
   "metadata": {},
   "outputs": [
    {
     "data": {
      "text/plain": [
       "6"
      ]
     },
     "execution_count": 3,
     "metadata": {},
     "output_type": "execute_result"
    }
   ],
   "source": [
    "S = '123'\n",
    "\n",
    "s = ''.join(f'{int(i)-1}' for i in S)\n",
    "x = ''.join(f'{int(i)-1}' for i in l3 if i in S)\n",
    "BIC_pd(s, x, k=8)"
   ]
  },
  {
   "cell_type": "code",
   "execution_count": null,
   "metadata": {},
   "outputs": [],
   "source": []
  }
 ],
 "metadata": {
  "kernelspec": {
   "display_name": "base",
   "language": "python",
   "name": "python3"
  },
  "language_info": {
   "codemirror_mode": {
    "name": "ipython",
    "version": 3
   },
   "file_extension": ".py",
   "mimetype": "text/x-python",
   "name": "python",
   "nbconvert_exporter": "python",
   "pygments_lexer": "ipython3",
   "version": "3.9.5"
  },
  "orig_nbformat": 4,
  "vscode": {
   "interpreter": {
    "hash": "19d1d53a962d236aa061289c2ac16dc8e6d9648c89fe79f459ae9a3493bc67b4"
   }
  }
 },
 "nbformat": 4,
 "nbformat_minor": 2
}
