{
 "cells": [
  {
   "attachments": {},
   "cell_type": "markdown",
   "metadata": {},
   "source": [
    "# Função Estimadora"
   ]
  },
  {
   "cell_type": "code",
   "execution_count": 1,
   "metadata": {},
   "outputs": [],
   "source": [
    "import numpy as np\n",
    "import pandas as pd\n",
    "\n",
    "def estimate_Q(S, x):\n",
    "    # matriz de contagem \n",
    "    n = np.array([sum(all(x[n:n+2] == (i,j)) for n in range(len(x))) for j in S for i in S]).reshape(len(S), len(S)).T\n",
    "    # p_ij = n_ij \\ SUM(n_i)\n",
    "    p = lambda i,j: n[i,j] / sum(n[i]) \n",
    "    return np.array([[p(i,j) for j in range(len(S))] for i in range(len(S))])\n",
    "    "
   ]
  },
  {
   "attachments": {},
   "cell_type": "markdown",
   "metadata": {},
   "source": [
    "# CM 1 "
   ]
  },
  {
   "cell_type": "code",
   "execution_count": 2,
   "metadata": {},
   "outputs": [
    {
     "data": {
      "text/plain": [
       "array([[0.78411405, 0.21588595],\n",
       "       [0.20825147, 0.79174853]])"
      ]
     },
     "execution_count": 2,
     "metadata": {},
     "output_type": "execute_result"
    }
   ],
   "source": [
    "S = {0,1}\n",
    "x = np.array(pd.read_csv('CM_ex1', delimiter=' ').x)\n",
    "estimate_Q(S, x)"
   ]
  },
  {
   "cell_type": "markdown",
   "metadata": {},
   "source": [
    "# CM 2"
   ]
  },
  {
   "cell_type": "code",
   "execution_count": 3,
   "metadata": {},
   "outputs": [
    {
     "data": {
      "text/plain": [
       "array([[0.66891892, 0.33108108, 0.        ],\n",
       "       [0.        , 0.58369099, 0.41630901],\n",
       "       [0.2059448 , 0.        , 0.7940552 ]])"
      ]
     },
     "execution_count": 3,
     "metadata": {},
     "output_type": "execute_result"
    }
   ],
   "source": [
    "S = {1, 2, 3}\n",
    "x = np.array(pd.read_csv('CM_ex2', delimiter=' ').x)\n",
    "estimate_Q(S, x)"
   ]
  },
  {
   "attachments": {},
   "cell_type": "markdown",
   "metadata": {},
   "source": [
    "# CM 3"
   ]
  },
  {
   "cell_type": "code",
   "execution_count": 4,
   "metadata": {},
   "outputs": [
    {
     "data": {
      "text/plain": [
       "array([[0.1       , 0.415625  , 0.484375  ],\n",
       "       [0.27777778, 0.1871345 , 0.53508772],\n",
       "       [0.56804734, 0.42899408, 0.00295858]])"
      ]
     },
     "execution_count": 4,
     "metadata": {},
     "output_type": "execute_result"
    }
   ],
   "source": [
    "S = {1, 2, 3}\n",
    "x = np.array(pd.read_csv('CM_ex3', delimiter=' ').x)\n",
    "estimate_Q(S, x)"
   ]
  },
  {
   "attachments": {},
   "cell_type": "markdown",
   "metadata": {},
   "source": [
    "# CM 4"
   ]
  },
  {
   "cell_type": "code",
   "execution_count": 5,
   "metadata": {},
   "outputs": [
    {
     "data": {
      "text/plain": [
       "array([[0.32484076, 0.61146497, 0.06369427, 0.        , 0.        ,\n",
       "        0.        ],\n",
       "       [0.5047619 , 0.3047619 , 0.        , 0.        , 0.        ,\n",
       "        0.19047619],\n",
       "       [0.        , 0.48387097, 0.        , 0.        , 0.51612903,\n",
       "        0.        ],\n",
       "       [0.        , 0.        , 0.11111111, 0.44973545, 0.43915344,\n",
       "        0.        ],\n",
       "       [0.        , 0.        , 0.        , 0.30563798, 0.58753709,\n",
       "        0.10682493],\n",
       "       [0.        , 0.47368421, 0.        , 0.        , 0.52631579,\n",
       "        0.        ]])"
      ]
     },
     "execution_count": 5,
     "metadata": {},
     "output_type": "execute_result"
    }
   ],
   "source": [
    "S={1,2,3,4,5,6}\n",
    "x = np.array(pd.read_csv('CM_ex4', delimiter=' ').x)\n",
    "estimate_Q(S, x)"
   ]
  },
  {
   "cell_type": "code",
   "execution_count": null,
   "metadata": {},
   "outputs": [],
   "source": []
  }
 ],
 "metadata": {
  "kernelspec": {
   "display_name": "base",
   "language": "python",
   "name": "python3"
  },
  "language_info": {
   "codemirror_mode": {
    "name": "ipython",
    "version": 3
   },
   "file_extension": ".py",
   "mimetype": "text/x-python",
   "name": "python",
   "nbconvert_exporter": "python",
   "pygments_lexer": "ipython3",
   "version": "3.9.5"
  },
  "orig_nbformat": 4
 },
 "nbformat": 4,
 "nbformat_minor": 2
}
