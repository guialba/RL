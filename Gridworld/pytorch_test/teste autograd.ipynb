{
 "cells": [
  {
   "cell_type": "code",
   "execution_count": 2,
   "metadata": {},
   "outputs": [],
   "source": [
    "import torch\n",
    "import numpy as np"
   ]
  },
  {
   "cell_type": "code",
   "execution_count": 2,
   "metadata": {},
   "outputs": [
    {
     "data": {
      "text/plain": [
       "tensor([[1, 2],\n",
       "        [3, 4]])"
      ]
     },
     "execution_count": 2,
     "metadata": {},
     "output_type": "execute_result"
    }
   ],
   "source": [
    "data = [[1, 2],[3, 4]]\n",
    "x_data = torch.tensor(data)\n",
    "x_data"
   ]
  },
  {
   "cell_type": "code",
   "execution_count": 84,
   "metadata": {},
   "outputs": [
    {
     "name": "stdout",
     "output_type": "stream",
     "text": [
      "tensor(-0.0513, grad_fn=<LogBackward0>) tensor(-0.0382, grad_fn=<LogBackward0>) tensor(-1.2040, grad_fn=<LogBackward0>)\n",
      "[1.0526316 0.        0.       ] [ 0.        -0.7792208  0.       ] [0.        0.        3.3333333]\n"
     ]
    }
   ],
   "source": [
    "import torch\n",
    "from torch.autograd import Variable\n",
    "\n",
    "def eta(theta, s=10, h=0):\n",
    "    # return theta[0] ** 2\n",
    "    S = {\n",
    "        0: list(set(range(10, 25)) - {14}),\n",
    "        1: list(range(10))+[14], \n",
    "    }\n",
    "    if s in S[h]:\n",
    "        return theta[0]\n",
    "    else:\n",
    "        return (1-theta[0])\n",
    "\n",
    "def pi(theta, a=1, a_star=1, size_A=4):\n",
    "    # return 2 * theta[1] + 3\n",
    "    e = theta[1]\n",
    "    if a == a_star:\n",
    "        return (1-e) + e/size_A\n",
    "    else:\n",
    "        return e/size_A\n",
    "\n",
    "def psi(theta):\n",
    "    # return torch.log(theta[2])\n",
    "    return theta[2]\n",
    "\n",
    "\n",
    "theta = Variable(torch.Tensor([.95, .05, .3]), requires_grad=True)\n",
    "\n",
    "valor1 = torch.log(eta(theta))\n",
    "valor2 = torch.log(pi(theta))\n",
    "valor3 = torch.log(psi(theta))\n",
    "\n",
    "valor1.backward(retain_graph=True)\n",
    "gradiente1 = theta.grad.clone()\n",
    "\n",
    "theta.grad.zero_()  \n",
    "\n",
    "valor2.backward(retain_graph=True)\n",
    "gradiente2 = theta.grad.clone()\n",
    "\n",
    "theta.grad.zero_()\n",
    "\n",
    "valor3.backward()\n",
    "gradiente3 = theta.grad.clone()\n",
    "\n",
    "print(valor1, valor2, valor3)\n",
    "print(gradiente1.numpy(), gradiente2.numpy(), gradiente3.numpy())"
   ]
  },
  {
   "cell_type": "code",
   "execution_count": null,
   "metadata": {},
   "outputs": [],
   "source": []
  }
 ],
 "metadata": {
  "kernelspec": {
   "display_name": "base",
   "language": "python",
   "name": "python3"
  },
  "language_info": {
   "codemirror_mode": {
    "name": "ipython",
    "version": 3
   },
   "file_extension": ".py",
   "mimetype": "text/x-python",
   "name": "python",
   "nbconvert_exporter": "python",
   "pygments_lexer": "ipython3",
   "version": "3.9.13"
  },
  "orig_nbformat": 4
 },
 "nbformat": 4,
 "nbformat_minor": 2
}
