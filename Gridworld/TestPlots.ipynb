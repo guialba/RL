{
 "cells": [
  {
   "cell_type": "code",
   "execution_count": 65,
   "metadata": {},
   "outputs": [
    {
     "name": "stdout",
     "output_type": "stream",
     "text": [
      "[[ 1.90976819  1.61111736  0.32282875  1.23370282  0.63373699  0.26702956\n",
      "  -0.88929626  0.2191904   0.86785193  0.68515414]\n",
      " [ 0.75617871  1.84046396  0.53111884  1.90507315 -0.22621085 -2.00492209\n",
      "   0.79840579  1.1582708   0.36638315 -2.64100635]]\n"
     ]
    },
    {
     "data": {
      "image/png": "[encoded data removed]",
      "text/plain": [
       "<Figure size 432x288 with 1 Axes>"
      ]
     },
     "metadata": {
      "needs_background": "light"
     },
     "output_type": "display_data"
    }
   ],
   "source": [
    "import numpy as np\n",
    "import matplotlib.pyplot as plt\n",
    "import matplotlib.patches as patches\n",
    "import random\n",
    "import math\n",
    "\n",
    "fig = plt.figure()\n",
    "ax = fig.gca()\n",
    "\n",
    "v = np.array([\n",
    "    np.random.normal(size=10), \n",
    "    np.random.normal(size=10)\n",
    "])\n",
    "\n",
    "xr = range(v.shape[1])\n",
    "yr = range(v.shape[0])\n",
    "\n",
    "xr, yr = np.meshgrid(range(v.shape[1]), range(v.shape[0]))\n",
    "\n",
    "\n",
    "actions = [(0, +1), (+1, 0), (0, -1), (-1, 0)]\n",
    "arrows = np.array([(0, -1) for _ in range(v.shape[1]) for _ in range(v.shape[0])])\n",
    "# arrows = np.array([random.choice(actions) for _ in range(v.shape[1]) for _ in range(v.shape[0])])\n",
    "arrows = arrows.reshape([*v.shape, 2])\n",
    "\n",
    "ax.imshow(v)\n",
    "x = ax.quiver(xr, yr, arrows[:, :, 0], arrows[:, :, 1], pivot='mid')\n",
    "# \n",
    "for iy, ix in np.ndindex(v.shape):   \n",
    "    angle = math.atan2(arrows[iy, ix, 1], arrows[iy, ix, 0]) * 180 / math.pi \n",
    "    ax.quiverkey(x, ix, iy, 1, label=f'{round(v[iy, ix], 2)}', angle=angle, labelpos='N', coordinates='data')\n",
    "\n",
    "\n",
    "ax.scatter(0, 0, marker='o', s=1000, c='w', alpha=0.5)\n",
    "ax.scatter(2, 1, marker='*', s=1000, c='w', alpha=0.5)\n",
    "# ax.scatter(4, 0, marker='s', s=1000, c='w', zorder=2)\n",
    "\n",
    "rect = patches.Rectangle((4-.5, 0-.5), 1, 1, linewidth=1, edgecolor='black', facecolor='w', zorder=2)\n",
    "ax.add_patch(rect)\n",
    "\n",
    "print(v)"
   ]
  },
  {
   "cell_type": "code",
   "execution_count": null,
   "metadata": {},
   "outputs": [],
   "source": []
  },
  {
   "cell_type": "code",
   "execution_count": 86,
   "metadata": {},
   "outputs": [
    {
     "data": {
      "text/plain": [
       "[(2, 1)]"
      ]
     },
     "execution_count": 86,
     "metadata": {},
     "output_type": "execute_result"
    }
   ],
   "source": [
    "effects = {\n",
    "    (4,2):{'terminal': True, 'reward': 10},\n",
    "    (2,1):{'blocked': True},\n",
    "}\n",
    "\n",
    "'blocked' in effects[(4,2)]\n",
    "'blocked' in effects[(2,1)]\n",
    "effects[(2, 1)]['blocked']\n",
    "# effects[(4, 2)]['blocked']\n",
    "\n",
    "\n",
    "[s for s, eff in effects.items() if eff.get('blocked', False)]"
   ]
  },
  {
   "cell_type": "code",
   "execution_count": 107,
   "metadata": {},
   "outputs": [
    {
     "data": {
      "text/plain": [
       "array([[0.09, 0.49],\n",
       "       [0.25, 0.25]])"
      ]
     },
     "execution_count": 107,
     "metadata": {},
     "output_type": "execute_result"
    }
   ],
   "source": [
    "np.array([[0.3, 0.7], [0.5, 0.5]])**2"
   ]
  },
  {
   "cell_type": "code",
   "execution_count": null,
   "metadata": {},
   "outputs": [],
   "source": []
  }
 ],
 "metadata": {
  "kernelspec": {
   "display_name": "base",
   "language": "python",
   "name": "python3"
  },
  "language_info": {
   "codemirror_mode": {
    "name": "ipython",
    "version": 3
   },
   "file_extension": ".py",
   "mimetype": "text/x-python",
   "name": "python",
   "nbconvert_exporter": "python",
   "pygments_lexer": "ipython3",
   "version": "3.9.5"
  },
  "orig_nbformat": 4,
  "vscode": {
   "interpreter": {
    "hash": "19d1d53a962d236aa061289c2ac16dc8e6d9648c89fe79f459ae9a3493bc67b4"
   }
  }
 },
 "nbformat": 4,
 "nbformat_minor": 2
}
