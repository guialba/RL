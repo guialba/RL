{
 "cells": [
  {
   "attachments": {},
   "cell_type": "markdown",
   "metadata": {},
   "source": [
    "<!-- # 1 Modelo -->\n",
    "1"
   ]
  },
  {
   "cell_type": "code",
   "execution_count": 1,
   "metadata": {},
   "outputs": [
    {
     "data": {
      "text/plain": [
       "[0, 0, 0, -1, -1, -1, -1, 0, 0, 0, -1, 0, 0, 1, 0, 0, 0, 1, 2, 2, 3]"
      ]
     },
     "execution_count": 1,
     "metadata": {},
     "output_type": "execute_result"
    }
   ],
   "source": [
    "# import numpy as np\n",
    "import random\n",
    "import math\n",
    "\n",
    "def generate(s, n=20, std=1):\n",
    "    yield s\n",
    "    for _ in range(n):\n",
    "        s = random.gauss(s, std)\n",
    "        sign = s/abs(s)\n",
    "        s = int(sign * math.floor(abs(s)))\n",
    "        yield s\n",
    "\n",
    "O = [s for s in generate(0)]\n",
    "O"
   ]
  },
  {
   "attachments": {},
   "cell_type": "markdown",
   "metadata": {},
   "source": [
    "<!-- $\\cal{L}[\\theta;\\xi] = log \\; p_0(s_0) + \\sum_{t=0}^{\\mathrm{T}-1}log \\; p(s_{t+1}|s_t)$ <br><br> -->\n",
    "$\\cal{L}[\\xi] = log \\; p_0(s_0) \\prod_{t=0}^{\\mathrm{T}-1}p(s_{t+1}|s_t)$"
   ]
  },
  {
   "attachments": {},
   "cell_type": "markdown",
   "metadata": {},
   "source": [
    "$ p(s_{i+1} = s_i | s_i) = 2 * 0.34 $ <br>\n",
    "$ p(s_{i+1} = s_i\\pm 1 | s_i) = 13.5 $ <br>\n",
    "$ p(s_{i+1} = s_i\\pm 2 | s_i) = 0.0235 $ <br>\n",
    "$ p(s_{i+1} = s_i\\pm 3 | s_i) = 0.0015 $ <br>\n"
   ]
  },
  {
   "cell_type": "code",
   "execution_count": 2,
   "metadata": {},
   "outputs": [
    {
     "data": {
      "text/plain": [
       "-22.2646117938252"
      ]
     },
     "execution_count": 2,
     "metadata": {},
     "output_type": "execute_result"
    }
   ],
   "source": [
    "import numpy as np\n",
    "\n",
    "def ll(O):\n",
    "    p0 = 1\n",
    "    p = [.68, .135, .0235, .0015] + [1e-5]*50\n",
    "\n",
    "    return np.log(np.prod([p0] + [p[abs(O[t+1]-v)] for t, v in enumerate(O) if t < len(O)-1]))\n",
    "\n",
    "ll(O)"
   ]
  },
  {
   "cell_type": "code",
   "execution_count": 3,
   "metadata": {},
   "outputs": [
    {
     "name": "stdout",
     "output_type": "stream",
     "text": [
      "[0, 2, 0, -1, -2, -4, -5, -5, -3, -5, -6, -9, -6, -5, -7, -6, -8, -6, -6, -9, -11]\n"
     ]
    },
    {
     "data": {
      "text/plain": [
       "-66.04987219799635"
      ]
     },
     "execution_count": 3,
     "metadata": {},
     "output_type": "execute_result"
    }
   ],
   "source": [
    "Q = [s for s in generate(0, n=20, std=2)]\n",
    "print(Q)\n",
    "ll(Q)"
   ]
  },
  {
   "attachments": {},
   "cell_type": "markdown",
   "metadata": {},
   "source": [
    "<!-- # 2 Modelos -->\n",
    "2"
   ]
  },
  {
   "cell_type": "code",
   "execution_count": 4,
   "metadata": {},
   "outputs": [],
   "source": [
    "m = {\n",
    "    ## Variables\n",
    "    'N': 2, # estados\n",
    "    \n",
    "    ## Probabilities\n",
    "    'A': [ # m1\n",
    "        [.4, .6],\n",
    "        [.7, .3]\n",
    "    ],\n",
    "    'P': [.5, .5] # 1xn\n",
    "}"
   ]
  },
  {
   "cell_type": "code",
   "execution_count": 5,
   "metadata": {},
   "outputs": [
    {
     "data": {
      "text/plain": [
       "[1, 1, 0, 1, 1, 0, 1, 0, 0, 0, 0, 1, 0, 1, 1]"
      ]
     },
     "execution_count": 5,
     "metadata": {},
     "output_type": "execute_result"
    }
   ],
   "source": [
    "import random\n",
    "\n",
    "def generate(T, model):\n",
    "    draw = lambda size, p: random.choices(range(size), p)[0]\n",
    "    \n",
    "    q = draw(model['N'], model['P'])\n",
    "    for t in range(1, T+1):\n",
    "        q = draw(model['N'], model['A'][q])\n",
    "        yield q\n",
    "\n",
    "O = [n for n in generate(15, m)]\n",
    "O"
   ]
  },
  {
   "cell_type": "code",
   "execution_count": 6,
   "metadata": {},
   "outputs": [
    {
     "data": {
      "text/plain": [
       "-10.523940059979111"
      ]
     },
     "execution_count": 6,
     "metadata": {},
     "output_type": "execute_result"
    }
   ],
   "source": [
    "def ll(O, m):\n",
    "    return np.log(np.prod([m['P'][O[0]]] + [m['A'][v][O[t+1]] for t, v in enumerate(O) if t < len(O)-1]))\n",
    "\n",
    "ll(O, m)"
   ]
  },
  {
   "attachments": {},
   "cell_type": "markdown",
   "metadata": {},
   "source": [
    "$\\cal{L}[\\xi] = log \\; p_0(s_0) \\prod_{t=0}^{\\mathrm{T}-1}\\sum_{m}p(m_{t+1}|m_t)p_m(s_{t+1}|s_t)$"
   ]
  },
  {
   "cell_type": "code",
   "execution_count": 7,
   "metadata": {},
   "outputs": [],
   "source": [
    "m = {\n",
    "    ## Variables\n",
    "    'N': 2, # estados\n",
    "    \n",
    "    ## Probabilities\n",
    "    'A': [ # m1\n",
    "        [.5, .5],\n",
    "        [.5, .5]\n",
    "    ],\n",
    "    'B': [ # m2\n",
    "        [.7, .3],\n",
    "        [.2, .8]\n",
    "    ],\n",
    "    'P': [.5, .5] # 1xn\n",
    "}"
   ]
  },
  {
   "cell_type": "code",
   "execution_count": 8,
   "metadata": {},
   "outputs": [
    {
     "data": {
      "text/plain": [
       "[0, 1, 0, 0, 0, 1, 1, 1, 1, 0, 1, 0, 1, 0, 0]"
      ]
     },
     "execution_count": 8,
     "metadata": {},
     "output_type": "execute_result"
    }
   ],
   "source": [
    "import random\n",
    "\n",
    "def generate(T, model):\n",
    "    draw = lambda size, p: random.choices(range(size), p)[0]\n",
    "    \n",
    "    q = draw(model['N'], model['P'])\n",
    "    for t in range(1, T+1):\n",
    "        if (t // 5) % 2:\n",
    "            q = draw(model['N'], model['B'][q])\n",
    "        else:\n",
    "            q = draw(model['N'], model['A'][q])\n",
    "        yield q\n",
    "\n",
    "O = [n for n in generate(15, m)]\n",
    "O"
   ]
  },
  {
   "cell_type": "code",
   "execution_count": 9,
   "metadata": {},
   "outputs": [
    {
     "data": {
      "text/plain": [
       "-11.382424225626611"
      ]
     },
     "execution_count": 9,
     "metadata": {},
     "output_type": "execute_result"
    }
   ],
   "source": [
    "def ll(O, m):\n",
    "    return np.log(np.prod([m['P'][O[0]]] + [.5*m['A'][v][O[t+1]] + .5*m['B'][v][O[t+1]] for t, v in enumerate(O) if t < len(O)-1]))\n",
    "\n",
    "ll(O, m)"
   ]
  },
  {
   "cell_type": "code",
   "execution_count": null,
   "metadata": {},
   "outputs": [],
   "source": []
  }
 ],
 "metadata": {
  "kernelspec": {
   "display_name": "base",
   "language": "python",
   "name": "python3"
  },
  "language_info": {
   "codemirror_mode": {
    "name": "ipython",
    "version": 3
   },
   "file_extension": ".py",
   "mimetype": "text/x-python",
   "name": "python",
   "nbconvert_exporter": "python",
   "pygments_lexer": "ipython3",
   "version": "3.9.13"
  },
  "orig_nbformat": 4,
  "vscode": {
   "interpreter": {
    "hash": "19d1d53a962d236aa061289c2ac16dc8e6d9648c89fe79f459ae9a3493bc67b4"
   }
  }
 },
 "nbformat": 4,
 "nbformat_minor": 2
}
