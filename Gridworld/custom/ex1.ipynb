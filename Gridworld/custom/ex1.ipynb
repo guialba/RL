{
 "cells": [
  {
   "cell_type": "code",
   "execution_count": 9,
   "metadata": {},
   "outputs": [
    {
     "data": {
      "text/plain": [
       "[((1, 1), (-1, 0)),\n",
       " (array([ 0.17457422, -2.37913653]), (0, 1)),\n",
       " (array([-0.20934359, -2.77206563]), (0, -1)),\n",
       " (array([ 0.13895005, -5.4993873 ]), (1, 0)),\n",
       " (array([-1.78721487, -6.27173108]), (0, -1)),\n",
       " (array([-0.2328606 , -7.41651143]), (1, 0)),\n",
       " (array([-0.93852625, -9.16342832]), (1, 0)),\n",
       " (array([-4.05882011, -7.42535937]), (0, -1)),\n",
       " (array([-4.04140683, -7.17665938]), (0, -1)),\n",
       " (array([ -3.53340676, -10.93067656]), (0, 1)),\n",
       " (array([ 0.25196604, -6.00361381]), (-1, 0)),\n",
       " (array([-2.28595654, -5.95253708]), (1, 0)),\n",
       " (array([-3.40030998, -7.08058952]), (0, 1)),\n",
       " (array([-3.42863862, -5.40617324]), (0, -1)),\n",
       " (array([-5.13214457, -5.0103036 ]), (-1, 0)),\n",
       " (array([-5.29308977, -3.74358287]), (0, 1)),\n",
       " (array([-5.38084618,  0.32684079]), (1, 0)),\n",
       " (array([-2.23894698, -0.09108282]), (1, 0)),\n",
       " (array([-2.59569329,  0.46114801]), (-1, 0)),\n",
       " (array([-3.86693028,  2.27696239]), (-1, 0)),\n",
       " (array([-4.74271826,  2.77894336]), (-1, 0)),\n",
       " (array([-6.11026871,  5.11871743]), (1, 0)),\n",
       " (array([-4.11647301,  3.96005031]), (0, -1)),\n",
       " (array([-5.10072206,  2.50643804]), (-1, 0)),\n",
       " (array([-5.7963446 , -0.75441536]), (0, 1)),\n",
       " (array([-8.57145179, -1.24377788]), (-1, 0)),\n",
       " (array([-9.96124058,  1.65797556]), (-1, 0)),\n",
       " (array([-14.1681638 ,   3.54410247]), (-1, 0)),\n",
       " (array([-15.21027551,   4.97115137]), (-1, 0)),\n",
       " (array([-15.9616425 ,   4.79581648]), (0, -1)),\n",
       " (array([-19.37637855,   3.63715604]), (-1, 0)),\n",
       " (array([-19.38481151,   6.37797697]), (-1, 0)),\n",
       " (array([-19.67562074,   6.00979135]), (1, 0)),\n",
       " (array([-18.38176762,   8.1044528 ]), (0, -1)),\n",
       " (array([-17.5378163 ,   7.91135649]), (-1, 0)),\n",
       " (array([-18.3831121 ,   6.59187827]), (0, 1)),\n",
       " (array([-16.91673664,   7.91119375]), (0, -1)),\n",
       " (array([-14.93825524,   8.07393172]), (0, -1)),\n",
       " (array([-17.09363556,   9.29692363]), (0, -1)),\n",
       " (array([-16.59082475,   6.88437837]), (0, 1)),\n",
       " (array([-17.33300617,   7.7039256 ]), (1, 0)),\n",
       " (array([-16.95047684,   7.96391796]), (0, -1)),\n",
       " (array([-18.28642547,   4.93139597]), (-1, 0)),\n",
       " (array([-14.11998885,   4.08944622]), (1, 0)),\n",
       " (array([-16.59579242,   1.10819279]), (0, -1)),\n",
       " (array([-20.21628699,   1.36647401]), (-1, 0)),\n",
       " (array([-20.14347163,   2.45619709]), (0, 1)),\n",
       " (array([-22.22322364,   0.88111791]), (-1, 0)),\n",
       " (array([-23.46329532,   2.23358881]), (0, 1)),\n",
       " (array([-25.68930379,   1.86601546]), (0, 1)),\n",
       " (array([-25.74229948,  -0.78448951]), (-1, 0)),\n",
       " (array([-26.66997909,  -2.04237476]), (1, 0)),\n",
       " (array([-27.40814115,  -1.26886498]), (1, 0)),\n",
       " (array([-26.52492608,  -0.14907576]), (1, 0)),\n",
       " (array([-24.5169724 ,  -4.06188154]), (-1, 0)),\n",
       " (array([-24.66759989,  -3.30413706]), (0, 1)),\n",
       " (array([-23.55570998,  -2.28067602]), (0, 1)),\n",
       " (array([-25.84161237,  -2.85566035]), (1, 0)),\n",
       " (array([-23.05136084,  -2.342897  ]), (1, 0)),\n",
       " (array([-23.23847092,  -2.49476351]), (0, -1)),\n",
       " (array([-21.91558287,  -1.9400789 ]), (1, 0)),\n",
       " (array([-19.03718981,  -3.05205817]), (0, -1)),\n",
       " (array([-17.84101347,  -1.74649133]), (-1, 0)),\n",
       " (array([-20.04725415,  -1.11236453]), (0, -1)),\n",
       " (array([-18.3559411 ,  -5.36285247]), (0, 1)),\n",
       " (array([-19.64925627,  -3.20771621]), (-1, 0)),\n",
       " (array([-22.12811259,  -8.59751906]), (1, 0)),\n",
       " (array([-21.37177246,  -7.00877385]), (0, -1)),\n",
       " (array([-22.12864939,  -6.84591328]), (-1, 0)),\n",
       " (array([-26.26227788,  -8.48769499]), (0, 1)),\n",
       " (array([-25.51121753,  -7.85031073]), (1, 0)),\n",
       " (array([-26.07041286,  -8.13636949]), (1, 0)),\n",
       " (array([-23.59899877,  -8.4760757 ]), (-1, 0)),\n",
       " (array([-27.05767843, -12.01367084]), (1, 0)),\n",
       " (array([-29.98796225, -12.89624288]), (-1, 0)),\n",
       " (array([-29.11766661, -12.17284533]), (0, 1)),\n",
       " (array([-30.16022599,  -9.37821455]), (0, 1)),\n",
       " (array([-31.25327135,  -9.11340607]), (0, -1)),\n",
       " (array([-33.35435432, -13.84525793]), (0, 1)),\n",
       " (array([-34.06279086,  -8.96344589]), (0, 1)),\n",
       " (array([-34.26545542, -13.74289743]), (0, 1)),\n",
       " (array([-36.7589776 , -11.14918634]), (0, 1)),\n",
       " (array([-40.01778388,  -8.98492707]), (0, -1)),\n",
       " (array([-39.57933972,  -8.62085573]), (-1, 0)),\n",
       " (array([-41.59817786,  -4.75206821]), (0, -1)),\n",
       " (array([-41.76308311,  -5.83695293]), (1, 0)),\n",
       " (array([-39.48701481,  -3.76164914]), (1, 0)),\n",
       " (array([-39.54183777,  -2.82800173]), (0, 1)),\n",
       " (array([-36.73660705,  -0.260625  ]), (1, 0)),\n",
       " (array([-34.50098417,  -0.40413239]), (0, 1)),\n",
       " (array([-36.21193786,   0.32893735]), (0, -1)),\n",
       " (array([-33.61716138,   1.63895521]), (-1, 0)),\n",
       " (array([-33.99558967,   0.18709231]), (1, 0)),\n",
       " (array([-30.30210512,   2.99024628]), (-1, 0)),\n",
       " (array([-30.32946901,   3.87608205]), (0, -1)),\n",
       " (array([-26.09717711,   2.12323579]), (0, 1)),\n",
       " (array([-24.62454162,   3.33701908]), (-1, 0)),\n",
       " (array([-28.43595373,   0.59266141]), (1, 0)),\n",
       " (array([-28.92727435,  -0.05460841]), (0, 1)),\n",
       " (array([-32.62874263,   2.21963222]), (0, 1))]"
      ]
     },
     "execution_count": 9,
     "metadata": {},
     "output_type": "execute_result"
    }
   ],
   "source": [
    "import numpy as np\n",
    "import random\n",
    "\n",
    "\n",
    "# def transiction(s, a, p=-.5):\n",
    "def transiction(s, a, p=2):\n",
    "    # mu = np.sum(np.array(s) + np.array(a))/2 + p\n",
    "    # return tuple(np.random.normal(mu, 1, 2))\n",
    "    return np.array(s) + np.array(a) + np.random.normal(0, p, 2)\n",
    "    # return random.gauss(s[0]+a, 1), random.gauss(s[1]+a, 1)\n",
    "\n",
    "def generate(s, n):    \n",
    "    for _ in range(n):\n",
    "        a = random.choice([(1,0), (-1,0), (0,1), (0,-1)])\n",
    "        # a = (1,0)\n",
    "        yield s, a\n",
    "        s = transiction(s, a)\n",
    "\n",
    "\n",
    "s_0 = (1,1)\n",
    "O = [(s, a) for (s, a) in generate(s_0, 100)]\n",
    "O"
   ]
  },
  {
   "attachments": {},
   "cell_type": "markdown",
   "metadata": {},
   "source": [
    "$\\cal{L}[\\xi] = log \\; p_0(s_0) \\sum_{t=0}^{\\mathrm{T}-1}log \\; (\\pi_{\\theta}(a_t|s_t)p(s_{t+1}|s_t, a_t))$"
   ]
  },
  {
   "cell_type": "code",
   "execution_count": 10,
   "metadata": {},
   "outputs": [
    {
     "data": {
      "text/plain": [
       "-409.3760191007249"
      ]
     },
     "execution_count": 10,
     "metadata": {},
     "output_type": "execute_result"
    }
   ],
   "source": [
    "from scipy.stats import norm\n",
    "\n",
    "def ll(O, theta):\n",
    "    p = lambda s_, s, a: norm.pdf(s_[0], (np.array(s[0]) + np.array(a[0])), theta) * norm.pdf(s_[1], (np.array(s[1]) + np.array(a[1])), theta)\n",
    "    return np.sum([np.log(p(s, O[t-1][0], O[t-1][1])) for t,(s,_) in enumerate(O) if 0 < t])\n",
    "\n",
    "# ll(O, -.5)\n",
    "ll(O, 2)"
   ]
  },
  {
   "cell_type": "code",
   "execution_count": 11,
   "metadata": {},
   "outputs": [
    {
     "name": "stdout",
     "output_type": "stream",
     "text": [
      "2 -409.3760191007249\n"
     ]
    }
   ],
   "source": [
    "best_theta = 0\n",
    "best_ll = -np.inf\n",
    "\n",
    "for i in range(10):\n",
    "    theta = 1 + i\n",
    "    new_ll = ll(O, theta)\n",
    "    if new_ll > best_ll:\n",
    "        best_ll = new_ll\n",
    "        best_theta = theta\n",
    "\n",
    "print(best_theta, best_ll)"
   ]
  },
  {
   "cell_type": "code",
   "execution_count": 12,
   "metadata": {},
   "outputs": [
    {
     "name": "stdout",
     "output_type": "stream",
     "text": [
      "like:  tensor(-409.3760, grad_fn=<SumBackward0>)\n"
     ]
    }
   ],
   "source": [
    "import torch\n",
    "from torch.autograd import Variable\n",
    "from torch.distributions import normal\n",
    "\n",
    "s = Variable(torch.from_numpy(np.array(O)[:-1,0])).type(torch.FloatTensor)\n",
    "a = Variable(torch.from_numpy(np.array(O)[:-1,1])).type(torch.IntTensor)\n",
    "s_ = Variable(torch.from_numpy(np.array(O)[1:,0])).type(torch.FloatTensor)\n",
    "\n",
    "\n",
    "p = Variable(torch.Tensor([2]), requires_grad=True)\n",
    "\n",
    "loglike = torch.sum(normal.Normal(s[:,0] + a[:,0], p).log_prob(s_[:,0]) + normal.Normal(s[:,1] + a[:,1], p).log_prob(s_[:,1]))\n",
    "\n",
    "loglike.backward()\n",
    "gradiente = p.grad.clone()\n",
    "print('like: ', loglike)\n",
    "# gradiente.numpy()"
   ]
  },
  {
   "cell_type": "code",
   "execution_count": 27,
   "metadata": {},
   "outputs": [
    {
     "name": "stdout",
     "output_type": "stream",
     "text": [
      "loglike  = 408.95837 p = [1.9088361]\n"
     ]
    }
   ],
   "source": [
    "import torch\n",
    "from torch.autograd import Variable\n",
    "from torch.distributions import normal\n",
    "\n",
    "s = Variable(torch.from_numpy(np.array(O)[:-1,0])).type(torch.FloatTensor)\n",
    "a = Variable(torch.from_numpy(np.array(O)[:-1,1])).type(torch.IntTensor)\n",
    "s_ = Variable(torch.from_numpy(np.array(O)[1:,0])).type(torch.FloatTensor)\n",
    "\n",
    "p = Variable(torch.randn(1), requires_grad=True)\n",
    "while p.data.numpy()[0] <= 0:\n",
    "    p = Variable(torch.randn(1), requires_grad=True)\n",
    "\n",
    "\n",
    "learning_rate = 0.00002\n",
    "e = np.inf\n",
    "for t in range(10000):\n",
    "    loglike = -torch.sum(normal.Normal(s[:,0] + a[:,0], p).log_prob(s_[:,0]) + normal.Normal(s[:,1] + a[:,1], p).log_prob(s_[:,1]))\n",
    "    loglike.backward()\n",
    "    \n",
    "    new_p = p.data - learning_rate * p.grad.data\n",
    "    if (new_p - p.data) == 0:\n",
    "        break\n",
    "    else:\n",
    "        p.data = new_p\n",
    "        p.grad.data.zero_()\n",
    "\n",
    "print(\"loglike  =\", loglike.data.numpy(), \"p =\", p.data.numpy())"
   ]
  }
 ],
 "metadata": {
  "kernelspec": {
   "display_name": "base",
   "language": "python",
   "name": "python3"
  },
  "language_info": {
   "codemirror_mode": {
    "name": "ipython",
    "version": 3
   },
   "file_extension": ".py",
   "mimetype": "text/x-python",
   "name": "python",
   "nbconvert_exporter": "python",
   "pygments_lexer": "ipython3",
   "version": "3.9.13"
  },
  "orig_nbformat": 4,
  "vscode": {
   "interpreter": {
    "hash": "19d1d53a962d236aa061289c2ac16dc8e6d9648c89fe79f459ae9a3493bc67b4"
   }
  }
 },
 "nbformat": 4,
 "nbformat_minor": 2
}
