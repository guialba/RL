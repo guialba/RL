{
 "cells": [
  {
   "attachments": {},
   "cell_type": "markdown",
   "metadata": {},
   "source": [
    "$p_{\\theta}(s_{t+1}|s_t, a_t) = \\{_{pdf(x_{t+1}, \\; (x_t+a_t^0), \\; \\theta_2) \\; \\times \\; pdf(y_{t+1}, \\; (y_t+a_t^1), \\; \\theta_2) \\; if \\; x_t >= \\theta_0}^{pdf(x_{t+1}, \\; (x_t+a_t^0), \\; \\theta_1) \\; \\times \\; pdf(y_{t+1}, \\; (y_t+a_t^1), \\; \\theta_1) \\; if \\; x_t < \\theta_0}$"
   ]
  },
  {
   "cell_type": "code",
   "execution_count": 155,
   "metadata": {},
   "outputs": [
    {
     "data": {
      "text/plain": [
       "[((1, 1), (1, 0)),\n",
       " ((1.5188314264394287, 0.5596376883141133), (-1, 0)),\n",
       " ((-1.1949229485312567, -4.649901097556078), (-1, 0)),\n",
       " ((-4.861304473651968, -3.363642314607672), (-1, 0)),\n",
       " ((-7.07592364763015, -1.4702861987006082), (0, -1)),\n",
       " ((-3.294625000798343, -2.2159424969472026), (-1, 0)),\n",
       " ((-7.713388056230321, -5.725450298819245), (0, 1)),\n",
       " ((-9.04880939500287, -5.583638139331882), (0, -1)),\n",
       " ((-9.090376190328207, -4.170825980559461), (1, 0)),\n",
       " ((-6.259421081016324, -4.3459095778345835), (-1, 0)),\n",
       " ((-4.680824013063962, -5.999302007259261), (-1, 0)),\n",
       " ((-5.769969996958715, -2.558314162401247), (-1, 0)),\n",
       " ((-6.0757889674823335, -0.23656896256920756), (-1, 0)),\n",
       " ((-10.725693501195899, -3.6768229052759724), (-1, 0)),\n",
       " ((-11.144554963579989, -3.804437264965139), (0, 1)),\n",
       " ((-9.52052043806917, -4.395347636350924), (1, 0)),\n",
       " ((-9.925902602777567, -4.513901501613909), (0, 1)),\n",
       " ((-13.346198509471916, -2.4339635289078094), (1, 0)),\n",
       " ((-8.417505948400404, -3.4918558379070834), (0, -1)),\n",
       " ((-9.889985027218042, -3.9849786661236974), (1, 0)),\n",
       " ((-11.426102534920345, -3.151200051033677), (-1, 0)),\n",
       " ((-11.8902840488493, -3.27788516683305), (1, 0)),\n",
       " ((-11.807439169343187, -4.151330214341934), (0, 1)),\n",
       " ((-16.49178488518663, -1.3797081198654932), (-1, 0)),\n",
       " ((-20.994992811183593, -3.955016506788117), (0, 1)),\n",
       " ((-22.217942784752626, -3.8830305824033404), (0, -1)),\n",
       " ((-22.5799728315167, -7.180798924261243), (-1, 0)),\n",
       " ((-23.12279080366545, -5.4622007085650415), (1, 0)),\n",
       " ((-25.525846299660618, -9.231706566812939), (0, 1)),\n",
       " ((-28.19062950076134, -8.57009786839424), (-1, 0)),\n",
       " ((-29.68704295109285, -9.688468853653223), (-1, 0)),\n",
       " ((-30.689832253754798, -8.2129534410303), (0, -1)),\n",
       " ((-31.923634872845934, -13.79740729508324), (1, 0)),\n",
       " ((-29.129692657863274, -11.115469123958736), (-1, 0)),\n",
       " ((-29.556912319381077, -10.240785121197556), (0, -1)),\n",
       " ((-29.27873891170828, -12.932288045441268), (0, -1)),\n",
       " ((-28.614546318785152, -14.864448461371364), (1, 0)),\n",
       " ((-26.863155314626987, -16.799582561809704), (-1, 0)),\n",
       " ((-26.36394416121131, -17.855248443398267), (0, -1)),\n",
       " ((-26.489483779513435, -17.908241931000592), (0, 1)),\n",
       " ((-27.52409826283553, -17.255423597290584), (-1, 0)),\n",
       " ((-29.13191769748439, -19.76850936824303), (0, 1)),\n",
       " ((-29.696142483341795, -19.940228992627187), (0, -1)),\n",
       " ((-29.34347048727561, -21.650461019026505), (0, -1)),\n",
       " ((-30.810651131697536, -23.457040449587545), (1, 0)),\n",
       " ((-33.94925936786011, -20.548566963163438), (0, -1)),\n",
       " ((-35.7854865147744, -21.081995039871217), (-1, 0)),\n",
       " ((-37.906787293240136, -22.247780668030785), (0, 1)),\n",
       " ((-38.299458226061084, -21.12728184869747), (0, -1)),\n",
       " ((-41.92665821479333, -23.34828592617779), (0, -1)),\n",
       " ((-41.25968625900704, -24.300751410254165), (1, 0)),\n",
       " ((-40.54730959062934, -22.408956943499994), (-1, 0)),\n",
       " ((-44.36854155921624, -22.902692919301366), (0, 1)),\n",
       " ((-41.95610375318629, -23.501251046338222), (0, -1)),\n",
       " ((-43.0983547341512, -24.606547959840892), (-1, 0)),\n",
       " ((-46.67563889603015, -25.76289334020086), (1, 0)),\n",
       " ((-46.26625721681098, -31.443438614565903), (0, -1)),\n",
       " ((-48.45130654504582, -31.07335135912548), (0, -1)),\n",
       " ((-49.25842992246938, -30.198983339780696), (1, 0)),\n",
       " ((-45.84754420531242, -30.540050901915794), (1, 0)),\n",
       " ((-40.09294215480513, -31.654716967535176), (1, 0)),\n",
       " ((-37.701851839410864, -32.346319603363554), (1, 0)),\n",
       " ((-36.44519898237023, -35.6803744530098), (1, 0)),\n",
       " ((-34.894374743145086, -36.02714056375128), (0, 1)),\n",
       " ((-32.24292040898001, -31.033138902110746), (0, -1)),\n",
       " ((-30.359152565940544, -30.517353329315128), (-1, 0)),\n",
       " ((-30.488977113342315, -26.706202849732467), (0, 1)),\n",
       " ((-29.303661763357972, -24.690470442744054), (0, 1)),\n",
       " ((-29.427999918738458, -25.08834178994848), (1, 0)),\n",
       " ((-30.412356775085403, -24.246980105192034), (-1, 0)),\n",
       " ((-30.69072595317726, -26.86625375504176), (0, 1)),\n",
       " ((-30.394174062313734, -25.95450241412388), (0, 1)),\n",
       " ((-29.888490008242933, -26.156059023294013), (0, -1)),\n",
       " ((-28.49175019550579, -29.13303825346196), (0, 1)),\n",
       " ((-28.47296479787193, -29.595038293981634), (0, 1)),\n",
       " ((-31.692326204823445, -27.026891778874923), (0, -1)),\n",
       " ((-28.8813579200525, -28.878338685638134), (0, 1)),\n",
       " ((-27.790958650805287, -27.234066768685892), (0, 1)),\n",
       " ((-27.875985727006032, -24.819020617047222), (0, -1)),\n",
       " ((-27.839981589399862, -21.943887121975852), (1, 0)),\n",
       " ((-26.484597279991544, -25.60712435595983), (0, -1)),\n",
       " ((-27.493512642033075, -31.772028505743457), (0, -1)),\n",
       " ((-27.914365293730338, -33.33753187415532), (0, 1)),\n",
       " ((-27.180431177841072, -26.018596643972337), (-1, 0)),\n",
       " ((-30.5470880116117, -27.45625957248331), (1, 0)),\n",
       " ((-27.687397984234238, -26.541886409529347), (-1, 0)),\n",
       " ((-26.6524665611082, -26.070680104846023), (1, 0)),\n",
       " ((-23.42355945353757, -26.079305717155133), (0, -1)),\n",
       " ((-23.89161356221831, -28.329831576323347), (0, 1)),\n",
       " ((-26.724058728894573, -31.942474554629335), (-1, 0)),\n",
       " ((-29.708706215666258, -33.0988254133972), (0, 1)),\n",
       " ((-26.19197606037869, -32.03714211810711), (-1, 0)),\n",
       " ((-25.92655991724061, -30.232337453445442), (-1, 0)),\n",
       " ((-29.72079186639819, -25.76128246200971), (-1, 0)),\n",
       " ((-28.80654101879685, -21.603398707228433), (1, 0)),\n",
       " ((-25.571428485619656, -22.86738524472314), (0, 1)),\n",
       " ((-26.36000982448953, -23.6857960022611), (1, 0)),\n",
       " ((-29.318943797057962, -21.177281593608658), (0, 1)),\n",
       " ((-30.91200066723529, -19.912612633280588), (1, 0)),\n",
       " ((-29.055319010778117, -19.30366535426498), (0, 1))]"
      ]
     },
     "execution_count": 155,
     "metadata": {},
     "output_type": "execute_result"
    }
   ],
   "source": [
    "import numpy as np\n",
    "import random\n",
    "\n",
    "theta = [5, (2,4)]\n",
    "\n",
    "def transiction(s, a, p=2):\n",
    "    return tuple(np.array(s) + np.array(a) + np.random.normal(0, p, 2))\n",
    "\n",
    "def pickModel(s, theta):\n",
    "    psi, sigma = theta\n",
    "    x,_ = s\n",
    "    return sigma[int(x >= psi)]\n",
    "\n",
    "def generate(s, n, theta):   \n",
    "    for _ in range(n):\n",
    "        a = random.choice([(1,0), (-1,0), (0,1), (0,-1)])\n",
    "        yield s, a\n",
    "        s = transiction(s, a, pickModel(s, theta))\n",
    "\n",
    "s_0 = (1,1)\n",
    "O = [(s, a) for (s, a) in generate(s_0, 100, theta)]\n",
    "O"
   ]
  },
  {
   "attachments": {},
   "cell_type": "markdown",
   "metadata": {},
   "source": [
    "$ \\theta = \\{\\psi, \\sigma \\} $"
   ]
  },
  {
   "attachments": {},
   "cell_type": "markdown",
   "metadata": {},
   "source": [
    "$\\psi$: Parametros para definição do modelo que será utilizado em cada estado<br>\n",
    "$\\sigma$: Parametros para cada Modelo $\\{\\sigma_1, \\sigma_2, ...\\}$ <br>"
   ]
  },
  {
   "attachments": {},
   "cell_type": "markdown",
   "metadata": {},
   "source": [
    "$p_{\\theta}(s_{t+1}|s_t, a_t) = \\mu(s_{t+1}, s_t, a_t, \\sigma_1) \\; \\times \\; \\beta(s_t) + \\mu(s_{t+1}, s_t, a_t, \\sigma_2) \\; \\times \\; \\beta(s_t) + ...$\n"
   ]
  },
  {
   "attachments": {},
   "cell_type": "markdown",
   "metadata": {},
   "source": [
    "\n",
    "$p_{\\theta}(s_{t+1}|s_t, a_t) = \\sum_{i=1}^k \\mu(s_{t+1}, s_t, a_t, \\sigma_i) \\beta(s_t)_i \\;\\;\\;\\;\\; for \\;\\; k = |\\sigma_{\\theta}|$  \n"
   ]
  },
  {
   "attachments": {},
   "cell_type": "markdown",
   "metadata": {},
   "source": [
    "$\\mu: S \\times S \\times A \\times \\sigma_{\\theta} \\mapsto [0,1]; \\;\\; \\mu(s', s, a, \\sigma) = pdf(s'_x, (s_x+a_x), \\sigma) \\; \\times \\; pdf(s'_y, (s_y+a_y), \\sigma)$"
   ]
  },
  {
   "attachments": {},
   "cell_type": "markdown",
   "metadata": {},
   "source": [
    "##### 2 modelos: Sigmoid\n",
    "\n",
    "$ \\beta: S \\mapsto [0,1]; \\;\\; \\beta(s; \\psi_{\\theta})_i = (i-1) + \\frac{1}{1+e^{\\psi_{s}}}(-1)^{i-1} $;  <br>\n",
    "$ for \\;\\; i = \\{1,2\\} $"
   ]
  },
  {
   "attachments": {},
   "cell_type": "markdown",
   "metadata": {},
   "source": [
    "##### N modelos: Softmax\n",
    "\n",
    "$ \\beta: S \\mapsto [0,1]; \\;\\; \\beta(s; \\psi_{\\theta})_i = argmax[\\frac{e^{\\psi_{s,i}}}{\\sum_{j=1}^k e^{\\psi_{s,j}}}] $;   <br>\n",
    "$ for \\;\\; k = |\\sigma_{\\theta}| \\;\\; ; \\;\\; i=1,...,k $"
   ]
  },
  {
   "attachments": {},
   "cell_type": "markdown",
   "metadata": {},
   "source": [
    "$\\cal{L}[\\xi | \\theta] = \\sum_{t=0}^{\\mathrm{T}-1} log \\; p_{\\theta}(s_{t+1}|s_t, a_t)$"
   ]
  },
  {
   "attachments": {},
   "cell_type": "markdown",
   "metadata": {},
   "source": []
  },
  {
   "attachments": {},
   "cell_type": "markdown",
   "metadata": {},
   "source": [
    "$\\cal{L}[\\xi | \\theta] = \\sum_{t=0}^{\\mathrm{T}-1} log \\; p_{\\theta}(s_{t+1}|s_t, a_t) - \\gamma$"
   ]
  },
  {
   "attachments": {},
   "cell_type": "markdown",
   "metadata": {},
   "source": [
    "$ \\gamma = \\sum_t \\sum_{s\\;vizinho\\;s_t} (1-\\beta(s)) * \\beta(s_t) + \\beta(s) * (1-\\beta(s_t)) $"
   ]
  },
  {
   "attachments": {},
   "cell_type": "markdown",
   "metadata": {},
   "source": [
    "$ \\gamma = \\sum_t \\sum_{s\\;vizinho\\;s_t} KL(p(s), p(s_t))$ <br>\n",
    "KL = Kullback-Leibler "
   ]
  },
  {
   "attachments": {},
   "cell_type": "markdown",
   "metadata": {},
   "source": [
    "$ \\gamma = \\sum_t \\sum_{s} KL(p(s), p(s_t)) * e^{-|s_t - s|} $"
   ]
  },
  {
   "attachments": {},
   "cell_type": "markdown",
   "metadata": {},
   "source": [
    "$ KL(P||Q) = \\sum_x P(x) log (\\frac{P(x)}{Q(x)}) $"
   ]
  },
  {
   "cell_type": "code",
   "execution_count": null,
   "metadata": {},
   "outputs": [],
   "source": [
    "from scipy.stats import norm\n",
    "\n",
    "def ll(O, theta, c=10):\n",
    "    psi, *sig = theta\n",
    "\n",
    "    beta = lambda x,y, theta: c * (theta-x)\n",
    "    p = lambda x_,y_, x,y, ax,ay: ( \n",
    "        norm.pdf(x_, (x + ax), sig[1])  \n",
    "        * norm.pdf(y_, (y + ay), sig[1]) \n",
    "        * (1/(1 + np.e **beta(x,y, psi)))\n",
    "        +\n",
    "        norm.pdf(x_, (x + ax), sig[0]) \n",
    "        * norm.pdf(y_, (y + ay), sig[0])\n",
    "        * (1 - (1/(1 + np.e **beta(x,y, psi))))\n",
    "    )\n",
    "\n",
    "    S,A = list(zip(*O))\n",
    "    \n",
    "    ps = lambda x_, y_: np.sum([p(x_,y_, x,y, ax,ay) for (x,y) in S for (ax,ay) in A])\n",
    "    d = lambda p1, p2: (1-p1)*p2 + p1*(1-p2)\n",
    "    gamma = np.sum([d(ps(x,y), ps(xt,yt)) for t,((xt,yt),_) in enumerate(O) for (x,y) in S if (abs(x-xt)<1.5 and abs(y-yt)<1.5)])\n",
    "    return np.sum([np.log(p(*st, *O[t-1][0], *O[t-1][1])) for t,(st,_) in enumerate(O) if 0 < t]) - gamma\n",
    "\n",
    "ll(O, (5, 2, 4), c=10)"
   ]
  },
  {
   "cell_type": "code",
   "execution_count": 152,
   "metadata": {},
   "outputs": [
    {
     "data": {
      "text/plain": [
       "-41.989061021388764"
      ]
     },
     "execution_count": 152,
     "metadata": {},
     "output_type": "execute_result"
    }
   ],
   "source": [
    "from scipy.stats import norm\n",
    "\n",
    "def ll(O, theta, c=10):\n",
    "    psi, *sig = theta\n",
    "\n",
    "    beta = lambda x,y, theta: c * (theta-x)\n",
    "    p = lambda x_,y_, x,y, ax,ay: ( \n",
    "        norm.pdf(x_, (x + ax), sig[1])  \n",
    "        * norm.pdf(y_, (y + ay), sig[1]) \n",
    "        * (1/(1 + np.e **beta(x,y, psi)))\n",
    "        +\n",
    "        norm.pdf(x_, (x + ax), sig[0]) \n",
    "        * norm.pdf(y_, (y + ay), sig[0])\n",
    "        * (1 - (1/(1 + np.e **beta(x,y, psi))))\n",
    "    )\n",
    "\n",
    "    S,A = list(zip(*O))\n",
    "    \n",
    "    ps = lambda x_, y_: np.sum([p(x_,y_, x,y, ax,ay) for (x,y) in S for (ax,ay) in A])\n",
    "    d = lambda p1, p2: (1-p1)*p2 + p1*(1-p2)\n",
    "    gamma = np.sum([d(ps(x,y), ps(xt,yt)) for t,((xt,yt),_) in enumerate(O) for (x,y) in S if (abs(x-xt)<1.5 and abs(y-yt)<1.5)])\n",
    "    return np.sum([np.log(p(*st, *O[t-1][0], *O[t-1][1])) for t,(st,_) in enumerate(O) if 0 < t]) - gamma\n",
    "\n",
    "ll(O, (5, 2, 4), c=10)"
   ]
  },
  {
   "cell_type": "code",
   "execution_count": 156,
   "metadata": {},
   "outputs": [
    {
     "data": {
      "text/plain": [
       "613915.6865961527"
      ]
     },
     "execution_count": 156,
     "metadata": {},
     "output_type": "execute_result"
    }
   ],
   "source": [
    "from scipy.stats import norm\n",
    "\n",
    "def ll(O, theta, c=10):\n",
    "    psi, *sig = theta\n",
    "\n",
    "    beta = lambda x,y, theta: c * (theta-x)\n",
    "    \n",
    "    _p = {}\n",
    "    def p(x_,y_, x,y, ax,ay):\n",
    "        if (x_,y_, x,y, ax,ay) not in _p:\n",
    "            _p[(x_,y_, x,y, ax,ay)] = ( \n",
    "                norm.pdf(x_, (x + ax), sig[1])  \n",
    "                * norm.pdf(y_, (y + ay), sig[1]) \n",
    "                * (1/(1 + np.e **beta(x,y, psi)))\n",
    "                +\n",
    "                norm.pdf(x_, (x + ax), sig[0]) \n",
    "                * norm.pdf(y_, (y + ay), sig[0])\n",
    "                * (1 - (1/(1 + np.e **beta(x,y, psi))))\n",
    "            )\n",
    "        return _p[(x_,y_, x,y, ax,ay)]\n",
    "\n",
    "    S,A = list(zip(*O))\n",
    "    \n",
    "    _ps = {}\n",
    "    def ps(x_,y_):\n",
    "        if (x_,y_) not in _ps:\n",
    "            _ps[(x_,y_)] = np.sum([p(x_,y_, x,y, ax,ay) for (x,y) in S for (ax,ay) in A])\n",
    "        return _ps[(x_,y_)]\n",
    "                   \n",
    "    d = lambda p1, p2: (1-p1)*p2 + p1*(1-p2)\n",
    "    gamma = np.sum([d(ps(x,y), ps(xt,yt)) for t,((xt,yt),_) in enumerate(O) for (x,y) in S if (abs(x-xt)<1.5 and abs(y-yt)<1.5)])\n",
    "    return np.sum([np.log(p(*st, *O[t-1][0], *O[t-1][1])) for t,(st,_) in enumerate(O) if 0 < t]) - gamma\n",
    "\n",
    "ll(O, (5, 2, 4), c=10)"
   ]
  },
  {
   "cell_type": "code",
   "execution_count": 154,
   "metadata": {},
   "outputs": [
    {
     "name": "stdout",
     "output_type": "stream",
     "text": [
      "(3, 1, 4) -19.74068303836114\n"
     ]
    }
   ],
   "source": [
    "# best_theta = 0\n",
    "# best_ll = -np.inf\n",
    "\n",
    "# for psi in range(10):\n",
    "#     for p1 in range(10):\n",
    "#         for p2 in range(10):\n",
    "#             theta = (psi+1, p1+1, p2+1)\n",
    "#             new_ll = ll(O, theta)\n",
    "#             if new_ll > best_ll:\n",
    "#                 best_ll = new_ll\n",
    "#                 best_theta = theta\n",
    "\n",
    "# print(best_theta, best_ll)"
   ]
  },
  {
   "cell_type": "code",
   "execution_count": null,
   "metadata": {},
   "outputs": [],
   "source": []
  },
  {
   "cell_type": "code",
   "execution_count": 170,
   "metadata": {},
   "outputs": [],
   "source": [
    "import torch\n",
    "from torch.autograd import Variable\n",
    "from torch.distributions import normal\n",
    "\n",
    "s = Variable(torch.from_numpy(np.array(O)[:-1,0])).type(torch.DoubleTensor)\n",
    "a = Variable(torch.from_numpy(np.array(O)[:-1,1])).type(torch.IntTensor)\n",
    "s_ = Variable(torch.from_numpy(np.array(O)[1:,0])).type(torch.DoubleTensor)\n",
    "\n",
    "us = torch.unique(s, dim=0)\n",
    "ua = torch.unique(a, dim=0)\n",
    "\n",
    "p = torch.nn.parameter.Parameter(torch.Tensor(3).uniform_(1, 10))\n",
    "\n",
    "c=10\n",
    "beta = c * (p[0] - s[:,0]) \n",
    "\n",
    "pTheta = (\n",
    "        torch.exp(normal.Normal(s[:,0] + a[:,0], p[2]).log_prob(s_[:,0]))\n",
    "        * torch.exp(normal.Normal(s[:,1] + a[:,1], p[2]).log_prob(s_[:,1]))\n",
    "        * torch.sigmoid(-beta)\n",
    "        + \n",
    "        torch.exp(normal.Normal(s[:,0] + a[:,0], p[1]).log_prob(s_[:,0]))\n",
    "        * torch.exp(normal.Normal(s[:,1] + a[:,1], p[1]).log_prob(s_[:,1]))\n",
    "        * (1 - torch.sigmoid(-beta))\n",
    "    )\n"
   ]
  },
  {
   "cell_type": "code",
   "execution_count": null,
   "metadata": {},
   "outputs": [],
   "source": []
  },
  {
   "cell_type": "code",
   "execution_count": 225,
   "metadata": {},
   "outputs": [
    {
     "data": {
      "text/plain": [
       "Parameter containing:\n",
       "tensor([5.5514, 1.9257, 4.2273], requires_grad=True)"
      ]
     },
     "execution_count": 225,
     "metadata": {},
     "output_type": "execute_result"
    }
   ],
   "source": [
    "import torch\n",
    "from torch.autograd import Variable\n",
    "from torch.distributions import normal\n",
    "\n",
    "def estimate(beta=1.5, init_p=None):\n",
    "    s = Variable(torch.from_numpy(np.array(O)[:-1,0])).type(torch.DoubleTensor)\n",
    "    a = Variable(torch.from_numpy(np.array(O)[:-1,1])).type(torch.IntTensor)\n",
    "    s_ = Variable(torch.from_numpy(np.array(O)[1:,0])).type(torch.DoubleTensor)\n",
    "\n",
    "    us = torch.unique(s)\n",
    "\n",
    "    if init_p is not None:\n",
    "        p = torch.nn.parameter.Parameter(torch.tensor(init_p))\n",
    "    else:\n",
    "        p = torch.nn.parameter.Parameter(torch.Tensor(3).uniform_(1, 10))\n",
    "\n",
    "\n",
    "    pTheta = (\n",
    "        torch.exp(normal.Normal(s[:,0] + a[:,0], p[2]).log_prob(s_[:,0]))\n",
    "        * torch.exp(normal.Normal(s[:,1] + a[:,1], p[2]).log_prob(s_[:,1]))\n",
    "        * torch.sigmoid(-beta * (p[0]-s[:,0]))\n",
    "        + \n",
    "        torch.exp(normal.Normal(s[:,0] + a[:,0], p[1]).log_prob(s_[:,0]))\n",
    "        * torch.exp(normal.Normal(s[:,1] + a[:,1], p[1]).log_prob(s_[:,1]))\n",
    "        * (1 - torch.sigmoid(-beta * (p[0]-s[:,0])))\n",
    "    )\n",
    "\n",
    "    probs = torch.sum(pTheta[s])\n",
    "    gamma = lambda: (\n",
    "        torch.sum()\n",
    "    )\n",
    "\n",
    "    loglike = lambda: -torch.sum(torch.log(pTheta)) + gamma\n",
    "\n",
    "    # optim = torch.optim.SGD([p], lr=1e-2, momentum=0.9)\n",
    "    optim = torch.optim.SGD([p], lr=1e-2)\n",
    "\n",
    "    for i in range(1000):\n",
    "        # print(i, p)\n",
    "        ll = loglike()\n",
    "        optim.zero_grad()\n",
    "        ll.backward()\n",
    "        optim.step() \n",
    "\n",
    "        with torch.no_grad():\n",
    "            p[:] = p.clamp(min=1e-1)\n",
    "\n",
    "    return p\n",
    "\n",
    "\n",
    "estimate(2)"
   ]
  },
  {
   "cell_type": "code",
   "execution_count": 233,
   "metadata": {},
   "outputs": [
    {
     "name": "stdout",
     "output_type": "stream",
     "text": [
      "0.0 Parameter containing:\n",
      "tensor([1.0000, 2.4884, 2.4884], requires_grad=True)\n",
      "0.5 Parameter containing:\n",
      "tensor([8.2470, 1.9428, 4.9115], requires_grad=True)\n",
      "1.0 Parameter containing:\n",
      "tensor([6.5869, 1.9313, 4.5599], requires_grad=True)\n",
      "1.5 Parameter containing:\n",
      "tensor([5.8309, 1.9270, 4.3175], requires_grad=True)\n",
      "2.0 Parameter containing:\n",
      "tensor([5.5514, 1.9257, 4.2273], requires_grad=True)\n",
      "2.5 Parameter containing:\n",
      "tensor([5.4274, 1.9251, 4.1834], requires_grad=True)\n",
      "3.0 Parameter containing:\n",
      "tensor([5.3500, 1.9250, 4.1500], requires_grad=True)\n",
      "3.5 Parameter containing:\n",
      "tensor([5.2903, 1.9254, 4.1201], requires_grad=True)\n",
      "4.0 Parameter containing:\n",
      "tensor([5.2436, 1.9259, 4.0949], requires_grad=True)\n",
      "4.5 Parameter containing:\n",
      "tensor([5.2107, 1.9265, 4.0764], requires_grad=True)\n"
     ]
    }
   ],
   "source": [
    "start = [1., 1., 1.]\n",
    "\n",
    "for i in range(10):\n",
    "    print(i*.5, estimate(i*.5, start))"
   ]
  },
  {
   "cell_type": "code",
   "execution_count": 253,
   "metadata": {},
   "outputs": [
    {
     "name": "stdout",
     "output_type": "stream",
     "text": [
      "0.0 [2.37, 3.19, 1.62] [4.57, 1.62, 3.19] [5.14, 1.62, 3.19] [6.27, 1.62, 3.19] [5.37, 1.62, 3.19]\n",
      "0.5 [8.25, 1.94, 4.91] [8.28, 1.94, 4.92] [8.22, 1.94, 4.9] [8.33, 1.94, 4.94] [8.27, 1.94, 4.92]\n",
      "1.0 [6.59, 1.93, 4.56] [6.59, 1.93, 4.56] [6.59, 1.93, 4.56] [6.59, 1.93, 4.56] [6.59, 1.93, 4.56]\n",
      "1.5 [5.83, 1.93, 4.32] [5.83, 1.93, 4.32] [5.83, 1.93, 4.32] [5.83, 1.93, 4.32] [5.83, 1.93, 4.32]\n",
      "2.0 [5.55, 1.93, 4.23] [5.55, 1.93, 4.23] [5.55, 1.93, 4.23] [5.55, 1.93, 4.23] [5.55, 1.93, 4.23]\n",
      "2.5 [5.43, 1.93, 4.18] [5.43, 1.93, 4.18] [5.43, 1.93, 4.18] [5.43, 1.93, 4.18] [5.43, 1.93, 4.18]\n",
      "3.0 [5.35, 1.93, 4.15] [5.35, 1.93, 4.15] [5.35, 1.93, 4.15] [5.35, 1.93, 4.15] [5.35, 1.93, 4.15]\n",
      "3.5 [8.47, 2.19, 4.66] [5.29, 1.93, 4.12] [5.29, 1.93, 4.12] [5.29, 1.93, 4.12] [8.47, 2.19, 4.66]\n",
      "4.0 [5.24, 1.93, 4.09] [5.24, 1.93, 4.09] [5.24, 1.93, 4.09] [5.24, 1.93, 4.09] [5.24, 1.93, 4.09]\n",
      "4.5 [8.52, 2.19, 4.64] [8.52, 2.19, 4.64] [8.52, 2.19, 4.64] [5.21, 1.93, 4.08] [5.21, 1.93, 4.08]\n"
     ]
    }
   ],
   "source": [
    "for i in range(10):\n",
    "    n = [[round(n, 2) for n in estimate(i*.5).data.tolist()] for _ in range(5)]\n",
    "    print(i*.5, *n)"
   ]
  }
 ],
 "metadata": {
  "kernelspec": {
   "display_name": "base",
   "language": "python",
   "name": "python3"
  },
  "language_info": {
   "codemirror_mode": {
    "name": "ipython",
    "version": 3
   },
   "file_extension": ".py",
   "mimetype": "text/x-python",
   "name": "python",
   "nbconvert_exporter": "python",
   "pygments_lexer": "ipython3",
   "version": "3.9.13"
  },
  "orig_nbformat": 4,
  "vscode": {
   "interpreter": {
    "hash": "19d1d53a962d236aa061289c2ac16dc8e6d9648c89fe79f459ae9a3493bc67b4"
   }
  }
 },
 "nbformat": 4,
 "nbformat_minor": 2
}
