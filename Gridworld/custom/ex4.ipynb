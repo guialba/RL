{
 "cells": [
  {
   "attachments": {},
   "cell_type": "markdown",
   "metadata": {},
   "source": [
    "$p_{\\theta}(s_{t+1}|s_t, a_t) = \\{_{pdf(x_{t+1}, \\; (x_t+a_t^0), \\; \\theta_2) \\; \\times \\; pdf(y_{t+1}, \\; (y_t+a_t^1), \\; \\theta_2) \\; if \\; x_t >= \\theta_0}^{pdf(x_{t+1}, \\; (x_t+a_t^0), \\; \\theta_1) \\; \\times \\; pdf(y_{t+1}, \\; (y_t+a_t^1), \\; \\theta_1) \\; if \\; x_t < \\theta_0}$"
   ]
  },
  {
   "cell_type": "code",
   "execution_count": 305,
   "metadata": {},
   "outputs": [
    {
     "data": {
      "text/plain": [
       "[((1, 1), (-1, 0)),\n",
       " ((0.9959485774055967, 4.607723646725001), (1, 0)),\n",
       " ((0.4744647441088885, 0.4105614202052088), (0, 1)),\n",
       " ((-0.7996525387207853, 3.6544994583264083), (1, 0)),\n",
       " ((1.882817063702133, 4.8614541759435035), (0, 1)),\n",
       " ((1.6780352903267675, 5.193383872884208), (-1, 0)),\n",
       " ((2.737440318019689, 4.494209423559863), (-1, 0)),\n",
       " ((-2.740755581633972, 3.859616740888901), (0, 1)),\n",
       " ((-3.9839237944011936, 3.699222405743485), (0, -1)),\n",
       " ((-2.9085441193933916, 4.988268300956815), (0, -1)),\n",
       " ((-2.9115285372154367, 4.508961769219203), (0, 1)),\n",
       " ((-5.433400819240807, 3.904973784566475), (-1, 0)),\n",
       " ((-5.301183155499765, 1.7798686529787844), (0, -1)),\n",
       " ((-1.0237870158496927, 0.12509951385072904), (-1, 0)),\n",
       " ((0.38444359380589566, -1.8094598364119725), (0, 1)),\n",
       " ((-4.433043440356112, 1.4107716502282162), (0, 1)),\n",
       " ((-6.201022206975728, 2.6010352075889815), (1, 0)),\n",
       " ((-8.407851681818169, 5.44531951835546), (-1, 0)),\n",
       " ((-6.650731401403752, 2.988092242828417), (1, 0)),\n",
       " ((-5.077049429854704, 5.328782123690775), (0, 1)),\n",
       " ((-4.715748490801482, 8.8316258298297), (0, -1)),\n",
       " ((-3.258991064924086, 8.955652103902636), (-1, 0)),\n",
       " ((-3.979297989553949, 9.835698536928883), (0, 1)),\n",
       " ((0.0512848375316608, 15.403977919010295), (1, 0)),\n",
       " ((1.1060639582867988, 13.728075439151759), (-1, 0)),\n",
       " ((-0.26573307792527806, 13.805293837392185), (0, -1)),\n",
       " ((0.8165892734673483, 16.342071574398453), (0, 1)),\n",
       " ((-1.8896041871770906, 13.917500183500668), (1, 0)),\n",
       " ((-0.2954815984761143, 12.071748505584269), (0, -1)),\n",
       " ((-1.4890501431628147, 14.506837851328825), (0, -1)),\n",
       " ((-4.976687832643876, 13.393002193318136), (1, 0)),\n",
       " ((0.13343020587990218, 11.207270571208078), (0, -1)),\n",
       " ((1.4454545342157945, 9.937586051160956), (-1, 0)),\n",
       " ((1.9482423010467471, 8.934016165154326), (0, 1)),\n",
       " ((-1.1497380991425898, 11.686716535073124), (-1, 0)),\n",
       " ((-1.780351314387387, 11.747879864376078), (-1, 0)),\n",
       " ((-3.647095062630769, 12.795575569011913), (1, 0)),\n",
       " ((0.726325412310235, 14.315963710014907), (1, 0)),\n",
       " ((5.737894598080663, 13.753356350104763), (0, -1)),\n",
       " ((0.781899271040313, 9.138851769572135), (0, 1)),\n",
       " ((-1.5204412569819912, 9.395477576739518), (0, -1)),\n",
       " ((-2.579474190617977, 7.999131648361491), (1, 0)),\n",
       " ((-5.823635218749206, 5.6163366145815194), (-1, 0)),\n",
       " ((-6.422854621005403, 6.963841146057629), (1, 0)),\n",
       " ((-3.707206724882274, 4.886796155267055), (0, 1)),\n",
       " ((-5.417837170216082, 8.139103519752211), (0, -1)),\n",
       " ((-6.51266243517305, 9.413062420345428), (0, -1)),\n",
       " ((-10.091899396809174, 9.853557390699391), (0, -1)),\n",
       " ((-8.044340956273594, 7.843930299758158), (0, 1)),\n",
       " ((-6.222333021975844, 12.038988593482589), (-1, 0)),\n",
       " ((-6.5296547894516, 10.222474105656035), (0, 1)),\n",
       " ((-5.031060938342651, 10.422341340491087), (1, 0)),\n",
       " ((-3.785678194649516, 13.014025435341813), (0, -1)),\n",
       " ((-4.8797690954090305, 10.946712126282286), (0, -1)),\n",
       " ((-5.036723848642404, 10.159117486872827), (1, 0)),\n",
       " ((-3.8642251368177227, 8.010916697182193), (-1, 0)),\n",
       " ((-4.534523461880312, 8.531566922583721), (0, 1)),\n",
       " ((-2.245067136249345, 7.397922602645712), (0, -1)),\n",
       " ((-0.63035968643428, 7.393952713257443), (0, 1)),\n",
       " ((1.9996093905393542, 9.734096300047387), (1, 0)),\n",
       " ((5.775385842419293, 6.802087791837227), (0, 1)),\n",
       " ((11.225668207362418, 5.730235660389932), (0, -1)),\n",
       " ((10.774755794270826, 8.180831709435191), (-1, 0)),\n",
       " ((15.120844973961141, 14.76793448528068), (1, 0)),\n",
       " ((20.319219103303666, 8.09633283480507), (0, -1)),\n",
       " ((20.319607839213102, 6.838401238842447), (0, 1)),\n",
       " ((11.511462538965569, 9.404617073222227), (-1, 0)),\n",
       " ((7.005184752877598, 7.667916420257553), (-1, 0)),\n",
       " ((3.6243403555989433, 8.102422415283456), (1, 0)),\n",
       " ((4.0659202237889325, 6.8811902089362995), (1, 0)),\n",
       " ((7.038549924790354, 5.509902727341634), (0, -1)),\n",
       " ((6.92001055761318, 6.955199682035776), (-1, 0)),\n",
       " ((-0.5550547099359111, 9.378314612425932), (1, 0)),\n",
       " ((-1.040930723423738, 9.351591306804163), (-1, 0)),\n",
       " ((1.5706622857094836, 11.101385049415509), (-1, 0)),\n",
       " ((-0.2260984384647351, 13.874416181153862), (-1, 0)),\n",
       " ((2.120072980671435, 12.079338568773512), (-1, 0)),\n",
       " ((1.894711246156794, 12.162778805912357), (-1, 0)),\n",
       " ((-0.3526031500470648, 14.072420944894404), (-1, 0)),\n",
       " ((-0.4847074584565598, 15.07189749685471), (1, 0)),\n",
       " ((-0.02593901316649383, 17.457850464253568), (0, -1)),\n",
       " ((3.1068466911009955, 19.608379196181733), (0, 1)),\n",
       " ((7.673595569414381, 13.648678051543222), (0, -1)),\n",
       " ((-0.026633699538701094, 12.683091557287337), (0, -1)),\n",
       " ((4.383577390021873, 10.675126181865881), (-1, 0)),\n",
       " ((2.124373443740007, 11.456324777456965), (-1, 0)),\n",
       " ((3.2445738289604944, 11.991956062740883), (-1, 0)),\n",
       " ((5.006533355324612, 13.148341390722479), (0, -1)),\n",
       " ((2.818138269346515, 11.615766838530279), (0, -1)),\n",
       " ((6.518031884229702, 8.766489221011849), (-1, 0)),\n",
       " ((2.6587793542738614, 10.54945201903196), (1, 0)),\n",
       " ((5.098082836854201, 9.954276604833645), (0, 1)),\n",
       " ((7.382538453502302, 11.253625347384167), (-1, 0)),\n",
       " ((12.68195400463086, 14.347698238837719), (-1, 0)),\n",
       " ((15.613257693985833, 9.603697543371538), (0, 1)),\n",
       " ((15.968281575370739, 13.760519956378793), (0, 1)),\n",
       " ((11.03175873678872, 13.860119052475165), (0, -1)),\n",
       " ((13.986343429486427, 16.47210137565861), (-1, 0)),\n",
       " ((19.40683626610437, 17.928375974477095), (-1, 0)),\n",
       " ((19.612715071102496, 18.408867482791322), (0, 1))]"
      ]
     },
     "execution_count": 305,
     "metadata": {},
     "output_type": "execute_result"
    }
   ],
   "source": [
    "import numpy as np\n",
    "import random\n",
    "\n",
    "theta = [5, (2,4)]\n",
    "\n",
    "def transiction(s, a, p=2):\n",
    "    return tuple(np.array(s) + np.array(a) + np.random.normal(0, p, 2))\n",
    "\n",
    "def pickModel(s, theta):\n",
    "    psi, sigma = theta\n",
    "    x,_ = s\n",
    "    return sigma[int(x >= psi)]\n",
    "\n",
    "def generate(s, n, theta):   \n",
    "    for _ in range(n):\n",
    "        a = random.choice([(1,0), (-1,0), (0,1), (0,-1)])\n",
    "        yield s, a\n",
    "        s = transiction(s, a, pickModel(s, theta))\n",
    "\n",
    "s_0 = (1,1)\n",
    "O = [(s, a) for (s, a) in generate(s_0, 100, theta)]\n",
    "O"
   ]
  },
  {
   "attachments": {},
   "cell_type": "markdown",
   "metadata": {},
   "source": [
    "$ \\theta = \\{\\psi, \\sigma \\} $"
   ]
  },
  {
   "attachments": {},
   "cell_type": "markdown",
   "metadata": {},
   "source": [
    "$\\psi$: Parametros para definição do modelo que será utilizado em cada estado<br>\n",
    "$\\sigma$: Parametros para cada Modelo $\\{\\sigma_1, \\sigma_2, ...\\}$ <br>"
   ]
  },
  {
   "attachments": {},
   "cell_type": "markdown",
   "metadata": {},
   "source": [
    "$p_{\\theta}(s_{t+1}|s_t, a_t) = \\mu(s_{t+1}, s_t, a_t, \\sigma_1) \\; \\times \\; \\beta(s_t) + \\mu(s_{t+1}, s_t, a_t, \\sigma_2) \\; \\times \\; \\beta(s_t) + ...$\n"
   ]
  },
  {
   "attachments": {},
   "cell_type": "markdown",
   "metadata": {},
   "source": [
    "\n",
    "$p_{\\theta}(s_{t+1}|s_t, a_t) = \\sum_{i=1}^k \\mu(s_{t+1}, s_t, a_t, \\sigma_i) \\beta(s_t)_i \\;\\;\\;\\;\\; for \\;\\; k = |\\sigma_{\\theta}|$  \n"
   ]
  },
  {
   "attachments": {},
   "cell_type": "markdown",
   "metadata": {},
   "source": [
    "$\\mu: S \\times S \\times A \\times \\sigma_{\\theta} \\mapsto [0,1]; \\;\\; \\mu(s', s, a, \\sigma) = pdf(s'_x, (s_x+a_x), \\sigma) \\; \\times \\; pdf(s'_y, (s_y+a_y), \\sigma)$"
   ]
  },
  {
   "attachments": {},
   "cell_type": "markdown",
   "metadata": {},
   "source": [
    "##### 2 modelos: Sigmoid\n",
    "\n",
    "$ \\beta: S \\mapsto [0,1]; \\;\\; \\beta(s; \\psi_{\\theta})_i = (i-1) + \\frac{1}{1+e^{\\psi_{s}}}(-1)^{i-1} $;  <br>\n",
    "$ for \\;\\; i = \\{1,2\\} $"
   ]
  },
  {
   "attachments": {},
   "cell_type": "markdown",
   "metadata": {},
   "source": [
    "##### N modelos: Softmax\n",
    "\n",
    "$ \\beta: S \\mapsto [0,1]; \\;\\; \\beta(s; \\psi_{\\theta})_i = argmax[\\frac{e^{\\psi_{s,i}}}{\\sum_{j=1}^k e^{\\psi_{s,j}}}] $;   <br>\n",
    "$ for \\;\\; k = |\\sigma_{\\theta}| \\;\\; ; \\;\\; i=1,...,k $"
   ]
  },
  {
   "attachments": {},
   "cell_type": "markdown",
   "metadata": {},
   "source": [
    "$\\cal{L}[\\xi | \\theta] = \\sum_{t=0}^{\\mathrm{T}-1} log \\; p_{\\theta}(s_{t+1}|s_t, a_t)$"
   ]
  },
  {
   "cell_type": "code",
   "execution_count": 306,
   "metadata": {},
   "outputs": [
    {
     "data": {
      "text/plain": [
       "-460.2748975735503"
      ]
     },
     "execution_count": 306,
     "metadata": {},
     "output_type": "execute_result"
    }
   ],
   "source": [
    "from scipy.stats import norm\n",
    "\n",
    "def ll(O, theta):\n",
    "    psi, sigma = theta\n",
    "\n",
    "    def mi(x_,y_, x,y, ax, ay, sig):\n",
    "        return norm.pdf(x_, (x + ax), sig) * norm.pdf(y_, (y + ay), sig) \n",
    "    def beta(x,_, i):\n",
    "        return i + 1/(1+np.e**(10*(x-psi))) * (-1)**i\n",
    "    def p(s_,s,a):\n",
    "        return np.sum([mi(*s_,*s,*a, sig)*beta(*s, i) for i,sig in enumerate(sigma)])\n",
    "    \n",
    "    return np.sum([np.log(p(st, *O[t-1])) for t,(st,_) in enumerate(O) if t>0])\n",
    "\n",
    "ll(O, (5, (2, 4)))"
   ]
  },
  {
   "cell_type": "code",
   "execution_count": 307,
   "metadata": {},
   "outputs": [],
   "source": [
    "# best_theta = 0\n",
    "# best_ll = -np.inf\n",
    "\n",
    "# for psi in range(10):\n",
    "#     for p1 in range(10):\n",
    "#         for p2 in range(10):\n",
    "#             theta = (psi+1, (p1+1, p2+1))\n",
    "#             new_ll = ll(O, theta)\n",
    "#             if new_ll > best_ll:\n",
    "#                 best_ll = new_ll\n",
    "#                 best_theta = theta\n",
    "\n",
    "# print(best_theta, best_ll)"
   ]
  },
  {
   "cell_type": "code",
   "execution_count": 308,
   "metadata": {},
   "outputs": [
    {
     "data": {
      "text/plain": [
       "tensor(-460.2749, dtype=torch.float64, grad_fn=<SumBackward0>)"
      ]
     },
     "execution_count": 308,
     "metadata": {},
     "output_type": "execute_result"
    }
   ],
   "source": [
    "import torch\n",
    "from torch.autograd import Variable\n",
    "from torch.distributions import normal\n",
    "\n",
    "s = Variable(torch.from_numpy(np.array(O)[:-1,0])).type(torch.DoubleTensor)\n",
    "a = Variable(torch.from_numpy(np.array(O)[:-1,1])).type(torch.IntTensor)\n",
    "s_ = Variable(torch.from_numpy(np.array(O)[1:,0])).type(torch.DoubleTensor)\n",
    "\n",
    "# p = torch.nn.parameter.Parameter(torch.Tensor(3).uniform_(1, 10))\n",
    "p = torch.nn.parameter.Parameter(torch.Tensor([5,2,4]))\n",
    "\n",
    "mi = torch.cat([(torch.exp(normal.Normal(s[:,0] + a[:,0], i).log_prob(s_[:,0])) * \n",
    "                 torch.exp(normal.Normal(s[:,1] + a[:,1], i).log_prob(s_[:,1]))\n",
    "               ) for i in p[1:]])\n",
    "beta =  torch.cat((torch.ones(len(O)-1) + torch.sigmoid(-10 * (p[0] - s[:,0])) * (-1)**torch.ones(len(O)-1),\n",
    "                   torch.zeros(len(O)-1) + torch.sigmoid(-10 * (p[0] - s[:,0])) * (-1)**torch.zeros(len(O)-1)\n",
    "                ))\n",
    "p_theta = torch.sum((mi*beta).reshape(2, len(O)-1), 0)\n",
    "ll = torch.sum(torch.log(p_theta))\n",
    "ll"
   ]
  },
  {
   "cell_type": "code",
   "execution_count": null,
   "metadata": {},
   "outputs": [],
   "source": []
  },
  {
   "cell_type": "code",
   "execution_count": 311,
   "metadata": {},
   "outputs": [
    {
     "data": {
      "text/plain": [
       "Parameter containing:\n",
       "tensor([2.7292, 2.0920, 3.6426], requires_grad=True)"
      ]
     },
     "execution_count": 311,
     "metadata": {},
     "output_type": "execute_result"
    }
   ],
   "source": [
    "import torch\n",
    "from torch.autograd import Variable\n",
    "from torch.distributions import normal\n",
    "\n",
    "def estimate(init_p=None):\n",
    "    s = Variable(torch.from_numpy(np.array(O)[:-1,0])).type(torch.DoubleTensor)\n",
    "    a = Variable(torch.from_numpy(np.array(O)[:-1,1])).type(torch.IntTensor)\n",
    "    s_ = Variable(torch.from_numpy(np.array(O)[1:,0])).type(torch.DoubleTensor)\n",
    "\n",
    "    if init_p is not None:\n",
    "        p = torch.nn.parameter.Parameter(torch.tensor(init_p))\n",
    "    else:\n",
    "        p = torch.nn.parameter.Parameter(torch.Tensor(3).uniform_(1, 10))\n",
    "\n",
    "\n",
    "    def loglike():\n",
    "        mi = torch.cat([(torch.exp(normal.Normal(s[:,0] + a[:,0], i).log_prob(s_[:,0])) * \n",
    "                    torch.exp(normal.Normal(s[:,1] + a[:,1], i).log_prob(s_[:,1]))\n",
    "                ) for i in p[1:]])\n",
    "        beta =  torch.cat((torch.ones(len(O)-1) + torch.sigmoid(-10 * (p[0] - s[:,0])) * (-1)**torch.ones(len(O)-1),\n",
    "                        torch.zeros(len(O)-1) + torch.sigmoid(-10 * (p[0] - s[:,0])) * (-1)**torch.zeros(len(O)-1)\n",
    "                        ))\n",
    "        p_theta = torch.sum((mi*beta).reshape(2, len(O)-1), 0)\n",
    "        # ll = torch.sum(torch.log(p_theta))\n",
    "        return -torch.sum(torch.log(p_theta))\n",
    "\n",
    "    # optim = torch.optim.SGD([p], lr=1e-2, momentum=0.9)\n",
    "    optim = torch.optim.SGD([p], lr=1e-2)\n",
    "\n",
    "    for i in range(1000):\n",
    "        # print(i, p)\n",
    "        ll = loglike()\n",
    "        optim.zero_grad()\n",
    "        ll.backward()\n",
    "        optim.step() \n",
    "\n",
    "        with torch.no_grad():\n",
    "            p[:] = p.clamp(min=1e-1)\n",
    "\n",
    "    return p\n",
    "\n",
    "\n",
    "estimate()"
   ]
  }
 ],
 "metadata": {
  "kernelspec": {
   "display_name": "base",
   "language": "python",
   "name": "python3"
  },
  "language_info": {
   "codemirror_mode": {
    "name": "ipython",
    "version": 3
   },
   "file_extension": ".py",
   "mimetype": "text/x-python",
   "name": "python",
   "nbconvert_exporter": "python",
   "pygments_lexer": "ipython3",
   "version": "3.9.13"
  },
  "orig_nbformat": 4,
  "vscode": {
   "interpreter": {
    "hash": "19d1d53a962d236aa061289c2ac16dc8e6d9648c89fe79f459ae9a3493bc67b4"
   }
  }
 },
 "nbformat": 4,
 "nbformat_minor": 2
}
