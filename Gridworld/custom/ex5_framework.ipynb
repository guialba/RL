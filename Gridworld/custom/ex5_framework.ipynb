{
 "cells": [
  {
   "attachments": {},
   "cell_type": "markdown",
   "metadata": {},
   "source": [
    "$ \\theta = \\{\\psi, \\sigma \\} $"
   ]
  },
  {
   "attachments": {},
   "cell_type": "markdown",
   "metadata": {},
   "source": [
    "$\\psi$: Parametros para definição do modelo que será utilizado em cada estado<br>\n",
    "$\\sigma$: Parametros para cada Modelo $\\{\\sigma_1, \\sigma_2, ...\\}$ <br>"
   ]
  },
  {
   "attachments": {},
   "cell_type": "markdown",
   "metadata": {},
   "source": [
    "$ \\beta: S \\mapsto [0,1]^k \\;\\; onde \\;\\; k = |\\sigma|$ <br>\n",
    "$ \\beta(s; \\psi)_i = p_{\\psi}(\\sigma_i | s) \\; \\forall \\; i \\in (1, 2, ..., k)$ <br>\n",
    "A função $ \\beta $ define a probabilidade de cada parametro em $ \\sigma $ ser o modelo utilizado pra gerar a transição em um estado <br>"
   ]
  },
  {
   "attachments": {},
   "cell_type": "markdown",
   "metadata": {},
   "source": [
    "$\\mu: S \\times S \\times A \\times \\sigma \\mapsto [0,1] $ <br>\n",
    "$\\mu(s', s, a, \\sigma_x)= p_{\\sigma_x}(s'|s,a)$ <br>\n",
    "A função $ \\mu $ define a probabilidade de transição para um estado, dado um par de estado e ação, seguindo o modelo $\\sigma_x$ <br>"
   ]
  },
  {
   "cell_type": "code",
   "execution_count": 92,
   "metadata": {},
   "outputs": [],
   "source": [
    "import numpy as np\n",
    "import random\n",
    "\n",
    "force = .5\n",
    "actions = np.array([(force,0), (-force,0), (0,force), (0,-force)])\n",
    "theta = [5, (.005,.3)]\n",
    "\n",
    "def mu(s, a, p=2):\n",
    "    acts = actions[a]\n",
    "    return s + acts + np.random.normal(0, p, 2)\n",
    "\n",
    "def beta(x,y):\n",
    "    psi, _ = theta\n",
    "    return 1*((x**2 + y**2)**(1/2) < psi)\n",
    "\n",
    "def generate(s0, n):   \n",
    "    _, sigma = theta\n",
    "    s = s0\n",
    "    for _ in range(n):\n",
    "        a = np.random.choice(4, 1)[0]\n",
    "        m = beta(s[:,0], s[:,1])[0]\n",
    "        sa = np.insert(s, s.size, a)\n",
    "        yield np.insert(sa, sa.size, m)\n",
    "        # yield sa\n",
    "        s = mu(s, a, sigma[m])\n",
    "\n",
    "# def trajectory(s_0=(1,1), n=100):\n",
    "#     gen = generate(s_0, n)\n",
    "#     return np.fromiter(gen, dtype=np.dtype((float, 4)))\n",
    "\n",
    "# s_0 = np.array([[0,0]])\n",
    "# n = 1000\n",
    "\n",
    "# O = trajectory(s_0, n)\n",
    "# O[:] # all\n",
    "# O[:,0:2] # states\n",
    "# O[:,2] # actions\n",
    "# O[:,3] # hidden models"
   ]
  },
  {
   "cell_type": "code",
   "execution_count": 93,
   "metadata": {},
   "outputs": [
    {
     "data": {
      "text/html": [
       "<div>\n",
       "<style scoped>\n",
       "    .dataframe tbody tr th:only-of-type {\n",
       "        vertical-align: middle;\n",
       "    }\n",
       "\n",
       "    .dataframe tbody tr th {\n",
       "        vertical-align: top;\n",
       "    }\n",
       "\n",
       "    .dataframe thead th {\n",
       "        text-align: right;\n",
       "    }\n",
       "</style>\n",
       "<table border=\"1\" class=\"dataframe\">\n",
       "  <thead>\n",
       "    <tr style=\"text-align: right;\">\n",
       "      <th></th>\n",
       "      <th>n</th>\n",
       "      <th>t</th>\n",
       "      <th>s</th>\n",
       "      <th>a</th>\n",
       "      <th>m</th>\n",
       "    </tr>\n",
       "  </thead>\n",
       "  <tbody>\n",
       "    <tr>\n",
       "      <th>1</th>\n",
       "      <td>0</td>\n",
       "      <td>0</td>\n",
       "      <td>(0, 0)</td>\n",
       "      <td>0</td>\n",
       "      <td>1</td>\n",
       "    </tr>\n",
       "    <tr>\n",
       "      <th>2</th>\n",
       "      <td>0</td>\n",
       "      <td>1</td>\n",
       "      <td>(0.34212326929378584, 0.05028161974656861)</td>\n",
       "      <td>2</td>\n",
       "      <td>1</td>\n",
       "    </tr>\n",
       "    <tr>\n",
       "      <th>3</th>\n",
       "      <td>0</td>\n",
       "      <td>2</td>\n",
       "      <td>(0.01861080347742261, 0.45082811103804377)</td>\n",
       "      <td>2</td>\n",
       "      <td>1</td>\n",
       "    </tr>\n",
       "    <tr>\n",
       "      <th>4</th>\n",
       "      <td>0</td>\n",
       "      <td>3</td>\n",
       "      <td>(-0.30186574230833146, 0.9217408773478398)</td>\n",
       "      <td>1</td>\n",
       "      <td>1</td>\n",
       "    </tr>\n",
       "    <tr>\n",
       "      <th>5</th>\n",
       "      <td>0</td>\n",
       "      <td>4</td>\n",
       "      <td>(-0.14236165762369068, 0.6454140813549184)</td>\n",
       "      <td>2</td>\n",
       "      <td>1</td>\n",
       "    </tr>\n",
       "  </tbody>\n",
       "</table>\n",
       "</div>"
      ],
      "text/plain": [
       "   n  t                                           s  a  m\n",
       "1  0  0                                      (0, 0)  0  1\n",
       "2  0  1  (0.34212326929378584, 0.05028161974656861)  2  1\n",
       "3  0  2  (0.01861080347742261, 0.45082811103804377)  2  1\n",
       "4  0  3  (-0.30186574230833146, 0.9217408773478398)  1  1\n",
       "5  0  4  (-0.14236165762369068, 0.6454140813549184)  2  1"
      ]
     },
     "execution_count": 93,
     "metadata": {},
     "output_type": "execute_result"
    }
   ],
   "source": [
    "import pandas as pd\n",
    "\n",
    "def generate_data(trajectory_size=1000, n_trajectories=10, s_0=(0,0)):\n",
    "    s_0 = np.array([s_0])\n",
    "    gen = generate(s_0, 1)\n",
    "    sx,sy,a,m = next(gen)\n",
    "    df = pd.DataFrame({\n",
    "        'n':[0],\n",
    "        't':[0],\n",
    "        's':[(sx,sy)],\n",
    "        'a':[int(a)],\n",
    "        'm':[int(m)]\n",
    "        })\n",
    "\n",
    "    for i in range(n_trajectories):\n",
    "        gen = generate(s_0, trajectory_size)\n",
    "        # for t,(sx,sy,a) in enumerate(gen):\n",
    "        for t,(sx,sy,a,m) in enumerate(gen):\n",
    "            df.loc[len(df.index)] = [int(i),int(t),(sx,sy),int(a),int(m)]\n",
    "            # df.loc[len(df.index)] = [int(i),int(t),(sx,sy),int(a)]\n",
    "\n",
    "    df.drop(0, inplace=True)\n",
    "    return df\n",
    "\n",
    "df = generate_data() \n",
    "df.head()"
   ]
  },
  {
   "cell_type": "code",
   "execution_count": 94,
   "metadata": {},
   "outputs": [
    {
     "data": {
      "text/plain": [
       "<AxesSubplot: >"
      ]
     },
     "execution_count": 94,
     "metadata": {},
     "output_type": "execute_result"
    },
    {
     "data": {
      "image/png": "[encoded data removed]",
      "text/plain": [
       "<Figure size 500x500 with 1 Axes>"
      ]
     },
     "metadata": {},
     "output_type": "display_data"
    }
   ],
   "source": [
    "import matplotlib.pyplot as plt\n",
    "\n",
    "def plot_trajectory(data, ax=None):\n",
    "    if ax is None:\n",
    "        fig, ax = plt.subplots(figsize=(5, 5))\n",
    "    # ax.invert_yaxis()\n",
    "\n",
    "    size = 20\n",
    "    res = 50\n",
    "    x = np.linspace(-size, size, res).reshape(-1,1)\n",
    "    y = np.linspace(-size, size, res).reshape(-1,1)\n",
    "\n",
    "    X,Y = np.meshgrid(x,y)\n",
    "    ax.imshow(beta(X,Y), extent=(int(min(x))-1, int(max(x))+1, int(max(y))+1, int(min(y))-1))\n",
    "    ax.invert_yaxis()\n",
    "\n",
    "    df_s = pd.DataFrame(data.s.to_list(), columns=['x','y'])\n",
    "    ax.plot(df_s.x, df_s.y, color='black')\n",
    "    return ax\n",
    "\n",
    "plot_trajectory(df[df.n==0])"
   ]
  },
  {
   "cell_type": "code",
   "execution_count": 111,
   "metadata": {},
   "outputs": [],
   "source": [
    "import torch\n",
    "from torch.autograd import Variable\n",
    "from torch.distributions import normal\n",
    "import torch.nn as nn\n",
    "import torch.nn.functional as f\n",
    "\n",
    "class BetaModel(nn.Module):\n",
    "    def __init__(self):\n",
    "        super(BetaModel, self).__init__()\n",
    "        n_features = 2\n",
    "        n_models = 2\n",
    "        n_hidden = 10\n",
    "\n",
    "        self.model = nn.Sequential(\n",
    "            nn.Linear(n_features, n_hidden).double(),\n",
    "            nn.ReLU(),\n",
    "            # nn.Linear(n_hidden, n_hidden).double(),\n",
    "            # nn.ReLU(),\n",
    "            nn.Linear(n_hidden, n_models).double(),\n",
    "            nn.ReLU(),\n",
    "            nn.Softmax(dim=1)\n",
    "            # nn.LogSoftmax(dim=1)\n",
    "        )\n",
    "        \n",
    "    def forward(self, x):\n",
    "        return self.model(x)"
   ]
  },
  {
   "cell_type": "code",
   "execution_count": 112,
   "metadata": {},
   "outputs": [
    {
     "data": {
      "text/plain": [
       "tensor(-65717.0829, dtype=torch.float64)"
      ]
     },
     "execution_count": 112,
     "metadata": {},
     "output_type": "execute_result"
    }
   ],
   "source": [
    "def loglike(beta, data):\n",
    "    def prob(sig):\n",
    "        acts = np.stack((\n",
    "            np.take(actions[:,0], data.a.iloc[:-1]), \n",
    "            np.take(actions[:,1], data.a.iloc[:-1])\n",
    "        ), axis=-1)\n",
    "\n",
    "        s = Variable(torch.from_numpy(data['s'].iloc[:-1].apply(pd.Series).to_numpy())).type(torch.DoubleTensor)\n",
    "        a = Variable(torch.from_numpy(acts)).type(torch.DoubleTensor)\n",
    "        s_ = Variable(torch.from_numpy(data['s'].iloc[1:].apply(pd.Series).to_numpy())).type(torch.DoubleTensor)\n",
    "        \n",
    "        return torch.exp(normal.Normal(s[:,0] + a[:,0], sig).log_prob(s_[:,0])) * torch.exp(normal.Normal(s[:,1] + a[:,1], sig).log_prob(s_[:,1]))\n",
    "    \n",
    "    mi = torch.stack([prob(sig) for sig in theta[1]], dim=1)\n",
    "    p_theta = torch.sum((mi * beta), 1) \n",
    "\n",
    "    # epsilon = len(theta[1]) * np.log(data.size)\n",
    "    epsilon = 0\n",
    "    temp = torch.log(p_theta)\n",
    "    return -torch.sum(temp[~temp.isinf()]) + epsilon\n",
    "\n",
    "\n",
    "# df_teste = df.iloc[:-1].copy()\n",
    "# df_teste['m2'] = 1-df_teste.m\n",
    "# loglike(df_teste[['m2', 'm']].to_numpy(), df)"
   ]
  },
  {
   "cell_type": "code",
   "execution_count": 114,
   "metadata": {},
   "outputs": [
    {
     "data": {
      "text/plain": [
       "[tensor(-6874.9862, dtype=torch.float64, grad_fn=<AddBackward0>)]"
      ]
     },
     "execution_count": 114,
     "metadata": {},
     "output_type": "execute_result"
    }
   ],
   "source": [
    "\n",
    "def train(model, data, epochs=1000):\n",
    "    x_train_tensor = torch.tensor(data.s.iloc[:-1].to_list()).type(torch.DoubleTensor)\n",
    "    \n",
    "    optim = torch.optim.SGD(model.parameters(), lr=1e-2)#, momentum=0.9)\n",
    "    # loss = nn.MSELoss(reduction='mean')\n",
    "    # loss = nn.CrossEntropyLoss()\n",
    "    # loss = nn.NLLLoss()\n",
    "    loss = loglike\n",
    "\n",
    "    model.train(True)\n",
    "    for _ in range(epochs):\n",
    "        outputs = model(x_train_tensor)\n",
    "        ll = loss(outputs, data)\n",
    "        \n",
    "        if ll.data == torch.inf or torch.isnan(ll.data):\n",
    "            break\n",
    "        ll.backward()\n",
    "        optim.step() \n",
    "        optim.zero_grad()\n",
    "    model.train(False)\n",
    "\n",
    "    return ll\n",
    "\n",
    "\n",
    "\n",
    "# def train_models(data, n_models=3):\n",
    "#     models = [BetaModel() for _ in range(n_models)]\n",
    "#     results = [train(model, data) for model in models]\n",
    "#     return models, results\n",
    "# mod, res = train_models(df[df.n==0], 1)\n",
    "# res"
   ]
  },
  {
   "cell_type": "code",
   "execution_count": 87,
   "metadata": {},
   "outputs": [],
   "source": [
    "def train_models(data, n_models=10):\n",
    "    models = [BetaModel() for _ in range(n_models)]\n",
    "    results = [train(model, data) for model in models]\n",
    "    return models, results\n",
    "\n",
    "n = 10 \n",
    "m = 5\n",
    "models = []\n",
    "results = []\n",
    "for i in range(n):\n",
    "    mod, res = train_models(df[df.n==i], m)\n",
    "    models.append(mod)\n",
    "    results.append(res)"
   ]
  },
  {
   "cell_type": "code",
   "execution_count": 116,
   "metadata": {},
   "outputs": [
    {
     "data": {
      "text/plain": [
       "<AxesSubplot: >"
      ]
     },
     "execution_count": 116,
     "metadata": {},
     "output_type": "execute_result"
    },
    {
     "data": {
      "image/png": "[encoded data removed]",
      "text/plain": [
       "<Figure size 500x500 with 1 Axes>"
      ]
     },
     "metadata": {},
     "output_type": "display_data"
    }
   ],
   "source": [
    "import matplotlib.pyplot as plt\n",
    "from matplotlib.patches import Circle\n",
    "\n",
    "def plot_test(model, data, ax=None):\n",
    "    if ax is None:\n",
    "        fig, ax = plt.subplots(figsize=(5, 5))\n",
    "    size = 20\n",
    "    res = 50\n",
    "    x = np.linspace(-size, size, res).reshape(-1,1)\n",
    "    y = np.linspace(-size, size, res).reshape(-1,1)\n",
    "\n",
    "    X,Y = np.meshgrid(x,y)\n",
    "\n",
    "    with torch.no_grad():\n",
    "        d = np.stack((X, Y), axis=-1).reshape(-1, 2)\n",
    "        d = torch.from_numpy(d).type(torch.DoubleTensor)\n",
    "        corr = model(d)[:,1].reshape(int(X.size**(1/2)), int(X.size**(1/2)))\n",
    "        # ax.imshow(corr, extent=(-r, r, r, -r), vmin=0, vmax=1)\n",
    "        ax.imshow(corr, extent=(int(min(x))-1, int(max(x))+1, int(max(y))+1, int(min(y))-1))\n",
    "    ax.invert_yaxis()\n",
    "\n",
    "    df_s = pd.DataFrame(data.s.to_list(), columns=['x','y'])\n",
    "    ax.plot(df_s.x, df_s.y, color='black')\n",
    "    ax.add_patch(Circle((0, 0), theta[0], edgecolor='red', fill=False))\n",
    "\n",
    "    return ax\n",
    "\n",
    "\n",
    "i = 0\n",
    "j = 0\n",
    "plot_test(models[i][j], df[df.n==i])"
   ]
  },
  {
   "cell_type": "code",
   "execution_count": 119,
   "metadata": {},
   "outputs": [
    {
     "data": {
      "text/html": [
       "<div>\n",
       "<style scoped>\n",
       "    .dataframe tbody tr th:only-of-type {\n",
       "        vertical-align: middle;\n",
       "    }\n",
       "\n",
       "    .dataframe tbody tr th {\n",
       "        vertical-align: top;\n",
       "    }\n",
       "\n",
       "    .dataframe thead th {\n",
       "        text-align: right;\n",
       "    }\n",
       "</style>\n",
       "<table border=\"1\" class=\"dataframe\">\n",
       "  <thead>\n",
       "    <tr style=\"text-align: right;\">\n",
       "      <th></th>\n",
       "      <th>n</th>\n",
       "      <th>nn</th>\n",
       "      <th>ll</th>\n",
       "      <th>ll_ideal</th>\n",
       "    </tr>\n",
       "  </thead>\n",
       "  <tbody>\n",
       "    <tr>\n",
       "      <th>0</th>\n",
       "      <td>0</td>\n",
       "      <td>0</td>\n",
       "      <td>-6874.986217</td>\n",
       "      <td>-65717.082874</td>\n",
       "    </tr>\n",
       "  </tbody>\n",
       "</table>\n",
       "</div>"
      ],
      "text/plain": [
       "   n  nn           ll      ll_ideal\n",
       "0  0   0 -6874.986217 -65717.082874"
      ]
     },
     "execution_count": 119,
     "metadata": {},
     "output_type": "execute_result"
    }
   ],
   "source": [
    "df_teste = df.iloc[:-1].copy()\n",
    "df_teste['m2'] = 1-df_teste.m\n",
    "\n",
    "df_results = pd.DataFrame({\n",
    "    \"n\": [i for i,values in enumerate(results) for v in values],\n",
    "    \"nn\": [j for i,values in enumerate(results) for j,v in enumerate(values)],\n",
    "    \"ll\": [v.item() for values in results for v in values],\n",
    "    \"ll_ideal\": [loglike(np.stack(\n",
    "            (1-df.iloc[:-1].m, df.iloc[:-1].m), \n",
    "            axis=-1\n",
    "        ), df).item() for i,values in enumerate(results) for j,v in enumerate(values)],\n",
    "})\n",
    "\n",
    "df_results.head(10)"
   ]
  },
  {
   "cell_type": "code",
   "execution_count": 123,
   "metadata": {},
   "outputs": [
    {
     "data": {
      "text/html": [
       "<div>\n",
       "<style scoped>\n",
       "    .dataframe tbody tr th:only-of-type {\n",
       "        vertical-align: middle;\n",
       "    }\n",
       "\n",
       "    .dataframe tbody tr th {\n",
       "        vertical-align: top;\n",
       "    }\n",
       "\n",
       "    .dataframe thead tr th {\n",
       "        text-align: left;\n",
       "    }\n",
       "\n",
       "    .dataframe thead tr:last-of-type th {\n",
       "        text-align: right;\n",
       "    }\n",
       "</style>\n",
       "<table border=\"1\" class=\"dataframe\">\n",
       "  <thead>\n",
       "    <tr>\n",
       "      <th></th>\n",
       "      <th colspan=\"4\" halign=\"left\">ll</th>\n",
       "    </tr>\n",
       "    <tr>\n",
       "      <th></th>\n",
       "      <th>mean</th>\n",
       "      <th>std</th>\n",
       "      <th>min</th>\n",
       "      <th>max</th>\n",
       "    </tr>\n",
       "    <tr>\n",
       "      <th>n</th>\n",
       "      <th></th>\n",
       "      <th></th>\n",
       "      <th></th>\n",
       "      <th></th>\n",
       "    </tr>\n",
       "  </thead>\n",
       "  <tbody>\n",
       "    <tr>\n",
       "      <th>0</th>\n",
       "      <td>-6874.986217</td>\n",
       "      <td>NaN</td>\n",
       "      <td>-6874.986217</td>\n",
       "      <td>-6874.986217</td>\n",
       "    </tr>\n",
       "  </tbody>\n",
       "</table>\n",
       "</div>"
      ],
      "text/plain": [
       "            ll                              \n",
       "          mean std          min          max\n",
       "n                                           \n",
       "0 -6874.986217 NaN -6874.986217 -6874.986217"
      ]
     },
     "execution_count": 123,
     "metadata": {},
     "output_type": "execute_result"
    }
   ],
   "source": [
    "df_results[['n', 'll']].groupby('n').agg(['mean', 'std', 'min', 'max'])"
   ]
  },
  {
   "cell_type": "code",
   "execution_count": 124,
   "metadata": {},
   "outputs": [
    {
     "data": {
      "text/html": [
       "<div>\n",
       "<style scoped>\n",
       "    .dataframe tbody tr th:only-of-type {\n",
       "        vertical-align: middle;\n",
       "    }\n",
       "\n",
       "    .dataframe tbody tr th {\n",
       "        vertical-align: top;\n",
       "    }\n",
       "\n",
       "    .dataframe thead th {\n",
       "        text-align: right;\n",
       "    }\n",
       "</style>\n",
       "<table border=\"1\" class=\"dataframe\">\n",
       "  <thead>\n",
       "    <tr style=\"text-align: right;\">\n",
       "      <th></th>\n",
       "      <th>n</th>\n",
       "      <th>nn</th>\n",
       "      <th>ll</th>\n",
       "      <th>ll_ideal</th>\n",
       "    </tr>\n",
       "  </thead>\n",
       "  <tbody>\n",
       "    <tr>\n",
       "      <th>0</th>\n",
       "      <td>0</td>\n",
       "      <td>0</td>\n",
       "      <td>-6874.986217</td>\n",
       "      <td>-65717.082874</td>\n",
       "    </tr>\n",
       "  </tbody>\n",
       "</table>\n",
       "</div>"
      ],
      "text/plain": [
       "   n  nn           ll      ll_ideal\n",
       "0  0   0 -6874.986217 -65717.082874"
      ]
     },
     "execution_count": 124,
     "metadata": {},
     "output_type": "execute_result"
    }
   ],
   "source": [
    "df_results[df_results.n==0]"
   ]
  },
  {
   "cell_type": "code",
   "execution_count": 125,
   "metadata": {},
   "outputs": [
    {
     "data": {
      "text/plain": [
       "<AxesSubplot: >"
      ]
     },
     "execution_count": 125,
     "metadata": {},
     "output_type": "execute_result"
    },
    {
     "data": {
      "image/png": "[encoded data removed]",
      "text/plain": [
       "<Figure size 500x500 with 1 Axes>"
      ]
     },
     "metadata": {},
     "output_type": "display_data"
    }
   ],
   "source": [
    "i,j = 0,0\n",
    "plot_test(models[i][j], df[df.n==i])"
   ]
  }
 ],
 "metadata": {
  "kernelspec": {
   "display_name": "base",
   "language": "python",
   "name": "python3"
  },
  "language_info": {
   "codemirror_mode": {
    "name": "ipython",
    "version": 3
   },
   "file_extension": ".py",
   "mimetype": "text/x-python",
   "name": "python",
   "nbconvert_exporter": "python",
   "pygments_lexer": "ipython3",
   "version": "3.9.13"
  },
  "orig_nbformat": 4,
  "vscode": {
   "interpreter": {
    "hash": "19d1d53a962d236aa061289c2ac16dc8e6d9648c89fe79f459ae9a3493bc67b4"
   }
  }
 },
 "nbformat": 4,
 "nbformat_minor": 2
}
