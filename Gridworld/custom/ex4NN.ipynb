{
 "cells": [
  {
   "attachments": {},
   "cell_type": "markdown",
   "metadata": {},
   "source": [
    "$p_{\\theta}(s_{t+1}|s_t, a_t) = \\{_{pdf(x_{t+1}, \\; (x_t+a_t^0), \\; \\theta_2) \\; \\times \\; pdf(y_{t+1}, \\; (y_t+a_t^1), \\; \\theta_2) \\; if \\; x_t >= \\theta_0}^{pdf(x_{t+1}, \\; (x_t+a_t^0), \\; \\theta_1) \\; \\times \\; pdf(y_{t+1}, \\; (y_t+a_t^1), \\; \\theta_1) \\; if \\; x_t < \\theta_0}$"
   ]
  },
  {
   "cell_type": "code",
   "execution_count": 47,
   "metadata": {},
   "outputs": [
    {
     "data": {
      "text/plain": [
       "[((1, 1), (-1, 0)),\n",
       " ((-0.7359601574996906, -2.5208159203056715), (0, 1)),\n",
       " ((-3.3039818279265973, -0.40309063633137), (-1, 0)),\n",
       " ((-5.811928333955676, -0.6338437203943175), (0, 1)),\n",
       " ((-5.238955357856269, 4.078502635736696), (1, 0)),\n",
       " ((-4.4166338925162565, 2.824843885897928), (0, -1)),\n",
       " ((-4.185547627907175, 6.338156450423265), (0, -1)),\n",
       " ((-6.697982250276848, 0.28031576529552016), (1, 0)),\n",
       " ((-5.7328773228426435, -0.5147347630341982), (1, 0)),\n",
       " ((-3.713530199252043, -3.5272770301814353), (0, 1)),\n",
       " ((-5.666550543963442, -1.7821559341691646), (1, 0)),\n",
       " ((-4.763945899811282, -0.9446609178732956), (1, 0)),\n",
       " ((-1.0756236465444782, 0.5953816970783139), (-1, 0)),\n",
       " ((-3.4503204212375183, -1.5115546675396936), (0, -1)),\n",
       " ((-3.9387676397367475, -7.2388943992650745), (0, 1)),\n",
       " ((-4.11980618528567, -10.546921204198341), (-1, 0)),\n",
       " ((-2.751433183533209, -9.853874633359363), (1, 0)),\n",
       " ((-2.49828754197177, -7.676613933570335), (0, 1)),\n",
       " ((-2.8973025947034747, -2.4914811983573095), (-1, 0)),\n",
       " ((-1.4484199666239848, -0.8841152299532542), (0, -1)),\n",
       " ((-2.5175636906533083, -0.7270346700815358), (1, 0)),\n",
       " ((-4.836792968056468, -1.8477930739368553), (-1, 0)),\n",
       " ((-6.728712481205641, -0.12217683098572474), (0, 1)),\n",
       " ((-7.797649379756923, 1.4150521633461388), (0, 1)),\n",
       " ((-5.950754623586869, 1.5393140853181493), (0, 1)),\n",
       " ((-7.284702945092715, 2.17095052366396), (-1, 0)),\n",
       " ((-8.913712606928076, 3.129077177458352), (1, 0)),\n",
       " ((-9.277810354235983, 1.7471374085659461), (-1, 0)),\n",
       " ((-7.509230718341305, -0.28085237956698506), (-1, 0)),\n",
       " ((-10.26641325817109, -0.16579814326797152), (-1, 0)),\n",
       " ((-10.390890939771543, 4.185697192794107), (0, -1)),\n",
       " ((-9.11741391983823, 0.7441978890592846), (0, -1)),\n",
       " ((-11.027937208530924, -0.9458202234478491), (-1, 0)),\n",
       " ((-11.107809263349939, -2.8688271115235624), (0, 1)),\n",
       " ((-12.591799242415792, -3.1587823142215603), (1, 0)),\n",
       " ((-10.166277612457835, 0.19475972839403743), (1, 0)),\n",
       " ((-11.330525961706945, -0.09071338542918694), (-1, 0)),\n",
       " ((-14.547021212121388, 2.1250057770698394), (-1, 0)),\n",
       " ((-15.663250315777463, 1.802333704582648), (-1, 0)),\n",
       " ((-15.632565233974056, 4.9007952922267295), (1, 0)),\n",
       " ((-14.872600296202647, 9.766614338342002), (0, -1)),\n",
       " ((-13.252075253598065, 7.497377708754568), (-1, 0)),\n",
       " ((-14.886410137241505, 7.564767295680023), (1, 0)),\n",
       " ((-15.17785084120857, 6.997360594444087), (-1, 0)),\n",
       " ((-15.452424942685075, 8.763328286266926), (0, -1)),\n",
       " ((-13.185651183476782, 7.238458534773155), (0, -1)),\n",
       " ((-15.851084404108594, 7.469910710267777), (0, -1)),\n",
       " ((-14.374029134678992, 5.677141348815756), (0, 1)),\n",
       " ((-14.89024729016442, 4.469748862138399), (1, 0)),\n",
       " ((-15.301038136882589, 5.282340375480025), (1, 0)),\n",
       " ((-12.977735156260161, 6.2621189164117474), (1, 0)),\n",
       " ((-8.645490887383215, 5.9644753259882295), (1, 0)),\n",
       " ((-6.386762768078382, 4.073515559603909), (0, 1)),\n",
       " ((-8.941969364349598, 7.183006225554229), (1, 0)),\n",
       " ((-4.495458497537413, 5.575255369198171), (0, 1)),\n",
       " ((-0.11835573459596027, 2.0237877410468865), (0, -1)),\n",
       " ((4.172304013029096, -1.734023404743278), (1, 0)),\n",
       " ((4.8459417266425895, -0.47277538857589274), (0, -1)),\n",
       " ((3.4284477536759663, 1.2090705775573016), (0, -1)),\n",
       " ((5.592821118587699, -0.539067356329427), (-1, 0)),\n",
       " ((0.9341910012742773, -2.5603824502668564), (0, -1)),\n",
       " ((0.2823407576226453, -2.908169276571655), (0, -1)),\n",
       " ((2.9913033341211968, -2.311304915971454), (0, 1)),\n",
       " ((3.205132380554109, -0.7918450201091433), (0, -1)),\n",
       " ((2.8083214925131044, -0.41621601152433385), (1, 0)),\n",
       " ((7.686891169828683, -1.2214592029790254), (0, 1)),\n",
       " ((12.585401948425421, -2.004204889560617), (1, 0)),\n",
       " ((14.207863459782256, -7.560254444045502), (1, 0)),\n",
       " ((17.84768071141934, -3.7308546225368184), (0, 1)),\n",
       " ((17.742387332622766, -7.271369043252914), (1, 0)),\n",
       " ((21.29878490867639, -8.569683959811373), (0, 1)),\n",
       " ((22.328625899287072, -7.0062976451266055), (1, 0)),\n",
       " ((13.99941171858399, -16.468762450979924), (1, 0)),\n",
       " ((14.909183031450787, -20.78466953523455), (0, -1)),\n",
       " ((18.676111641253883, -29.53113513543319), (-1, 0)),\n",
       " ((11.996058075742788, -36.44011257129534), (0, -1)),\n",
       " ((11.00274878261627, -37.220982210638155), (1, 0)),\n",
       " ((10.337960884672974, -33.39573199650256), (-1, 0)),\n",
       " ((13.741844326700408, -33.43178134436667), (-1, 0)),\n",
       " ((13.408064593404477, -30.172287630395058), (-1, 0)),\n",
       " ((14.093783047831451, -34.04060163449321), (0, -1)),\n",
       " ((13.103895220822224, -41.21030508582759), (0, 1)),\n",
       " ((18.67915361658144, -37.358081338710534), (0, -1)),\n",
       " ((24.397653203107037, -37.123339231420935), (-1, 0)),\n",
       " ((22.416619398091466, -38.649995912113894), (1, 0)),\n",
       " ((26.392889705822896, -39.421923086165215), (1, 0)),\n",
       " ((20.810516131795943, -35.02588983064938), (0, 1)),\n",
       " ((26.703352081730003, -35.33716362292363), (0, -1)),\n",
       " ((25.577699837633098, -34.580218178618765), (0, -1)),\n",
       " ((32.626987859714816, -38.87745855850118), (0, -1)),\n",
       " ((23.80923575057163, -43.57911366991011), (0, 1)),\n",
       " ((26.33671273716538, -40.95697403326612), (-1, 0)),\n",
       " ((23.53151654885668, -44.37553384955732), (0, -1)),\n",
       " ((19.720330221946817, -47.52599568934082), (0, -1)),\n",
       " ((18.491592921131335, -50.98414161580734), (0, 1)),\n",
       " ((24.525614837084838, -46.828722159916325), (-1, 0)),\n",
       " ((25.89265770475434, -41.41823470838124), (0, 1)),\n",
       " ((27.30567769188066, -45.898667731214715), (0, -1)),\n",
       " ((22.71352379608101, -53.03054340685732), (0, 1)),\n",
       " ((23.385562830781378, -57.374296079108575), (0, -1))]"
      ]
     },
     "execution_count": 47,
     "metadata": {},
     "output_type": "execute_result"
    }
   ],
   "source": [
    "import numpy as np\n",
    "import random\n",
    "\n",
    "theta = [5, (2,4)]\n",
    "\n",
    "def transiction(s, a, p=2):\n",
    "    return tuple(np.array(s) + np.array(a) + np.random.normal(0, p, 2))\n",
    "\n",
    "def pickModel(s, theta):\n",
    "    psi, sigma = theta\n",
    "    x,_ = s\n",
    "    return sigma[int(x >= psi)]\n",
    "\n",
    "def generate(s, n, theta):   \n",
    "    for _ in range(n):\n",
    "        a = random.choice([(1,0), (-1,0), (0,1), (0,-1)])\n",
    "        yield s, a\n",
    "        s = transiction(s, a, pickModel(s, theta))\n",
    "\n",
    "s_0 = (1,1)\n",
    "O = [(s, a) for (s, a) in generate(s_0, 100, theta)]\n",
    "O"
   ]
  },
  {
   "attachments": {},
   "cell_type": "markdown",
   "metadata": {},
   "source": [
    "$ \\theta = \\{\\psi, \\sigma \\} $"
   ]
  },
  {
   "attachments": {},
   "cell_type": "markdown",
   "metadata": {},
   "source": [
    "$\\psi$: Parametros para definição do modelo que será utilizado em cada estado<br>\n",
    "$\\sigma$: Parametros para cada Modelo $\\{\\sigma_1, \\sigma_2, ...\\}$ <br>"
   ]
  },
  {
   "attachments": {},
   "cell_type": "markdown",
   "metadata": {},
   "source": [
    "$p_{\\theta}(s_{t+1}|s_t, a_t) = \\mu(s_{t+1}, s_t, a_t, \\sigma_1) \\; \\times \\; \\beta(s_t) + \\mu(s_{t+1}, s_t, a_t, \\sigma_2) \\; \\times \\; \\beta(s_t) + ...$\n"
   ]
  },
  {
   "attachments": {},
   "cell_type": "markdown",
   "metadata": {},
   "source": [
    "\n",
    "$p_{\\theta}(s_{t+1}|s_t, a_t) = \\sum_{i=1}^k \\mu(s_{t+1}, s_t, a_t, \\sigma_i) \\beta(s_t)_i \\;\\;\\;\\;\\; for \\;\\; k = |\\sigma_{\\theta}|$  \n"
   ]
  },
  {
   "attachments": {},
   "cell_type": "markdown",
   "metadata": {},
   "source": [
    "$\\mu: S \\times S \\times A \\times \\sigma_{\\theta} \\mapsto [0,1]; \\;\\; \\mu(s', s, a, \\sigma) = pdf(s'_x, (s_x+a_x), \\sigma) \\; \\times \\; pdf(s'_y, (s_y+a_y), \\sigma)$"
   ]
  },
  {
   "attachments": {},
   "cell_type": "markdown",
   "metadata": {},
   "source": [
    "##### 2 modelos: Sigmoid\n",
    "\n",
    "$ \\beta: S \\mapsto [0,1]; \\;\\; \\beta(s; \\psi_{\\theta})_i = (i-1) + \\frac{1}{1+e^{\\psi_{s}}}(-1)^{i-1} $;  <br>\n",
    "<!-- $ \\beta: S \\mapsto [0,1]; \\;\\; \\beta(s; \\psi_{\\theta})_i = 1 - \\frac{1}{1+e^{\\psi_{s}}} $;  <br> -->\n",
    "$ for \\;\\; i = \\{1,2\\} $"
   ]
  },
  {
   "attachments": {},
   "cell_type": "markdown",
   "metadata": {},
   "source": [
    "##### N modelos: Softmax\n",
    "\n",
    "$ \\beta: S \\mapsto [0,1]; \\;\\; \\beta(s; \\psi_{\\theta})_i = \\frac{e^{\\psi_{s,i}}}{\\sum_{j=1}^k e^{\\psi_{s,j}}} $;   <br>\n",
    "$ for \\;\\; k = |\\sigma_{\\theta}| \\;\\; ; \\;\\; i=1,...,k $"
   ]
  },
  {
   "attachments": {},
   "cell_type": "markdown",
   "metadata": {},
   "source": [
    "$\\cal{L}[\\xi | \\theta] = \\sum_{t=0}^{\\mathrm{T}-1} log \\; p_{\\theta}(s_{t+1}|s_t, a_t)$"
   ]
  },
  {
   "cell_type": "code",
   "execution_count": 48,
   "metadata": {},
   "outputs": [
    {
     "data": {
      "text/plain": [
       "-472.068241284452"
      ]
     },
     "execution_count": 48,
     "metadata": {},
     "output_type": "execute_result"
    }
   ],
   "source": [
    "from scipy.stats import norm\n",
    "\n",
    "def ll(O, theta):\n",
    "    psi, sigma = theta\n",
    "\n",
    "    def mi(x_,y_, x,y, ax, ay, sig):\n",
    "        return norm.pdf(x_, (x + ax), sig) * norm.pdf(y_, (y + ay), sig) \n",
    "    def beta(x,_, i):\n",
    "        return i + 1/(1+np.e**(10*(x-psi))) * (-1)**i\n",
    "    def p(s_,s,a):\n",
    "        return np.sum([mi(*s_,*s,*a, sig)*beta(*s, i) for i,sig in enumerate(sigma)])\n",
    "    \n",
    "    return np.sum([np.log(p(st, *O[t-1])) for t,(st,_) in enumerate(O) if t>0])\n",
    "\n",
    "ll(O, (5, (2, 4)))"
   ]
  },
  {
   "cell_type": "code",
   "execution_count": 49,
   "metadata": {},
   "outputs": [],
   "source": [
    "# best_theta = 0\n",
    "# best_ll = -np.inf\n",
    "\n",
    "# for psi in range(10):\n",
    "#     for p1 in range(10):\n",
    "#         for p2 in range(10):\n",
    "#             theta = (psi+1, (p1+1, p2+1))\n",
    "#             new_ll = ll(O, theta)\n",
    "#             if new_ll > best_ll:\n",
    "#                 best_ll = new_ll\n",
    "#                 best_theta = theta\n",
    "\n",
    "# print(best_theta, best_ll)"
   ]
  },
  {
   "cell_type": "code",
   "execution_count": 50,
   "metadata": {},
   "outputs": [
    {
     "data": {
      "text/plain": [
       "tensor(-472.0682, dtype=torch.float64, grad_fn=<SumBackward0>)"
      ]
     },
     "execution_count": 50,
     "metadata": {},
     "output_type": "execute_result"
    }
   ],
   "source": [
    "import torch\n",
    "from torch.autograd import Variable\n",
    "from torch.distributions import normal\n",
    "\n",
    "s = Variable(torch.from_numpy(np.array(O)[:-1,0])).type(torch.DoubleTensor)\n",
    "a = Variable(torch.from_numpy(np.array(O)[:-1,1])).type(torch.IntTensor)\n",
    "s_ = Variable(torch.from_numpy(np.array(O)[1:,0])).type(torch.DoubleTensor)\n",
    "\n",
    "# p = torch.nn.parameter.Parameter(torch.Tensor(3).uniform_(1, 10))\n",
    "p = torch.nn.parameter.Parameter(torch.Tensor([5,2,4]))\n",
    "\n",
    "mi = torch.cat([(torch.exp(normal.Normal(s[:,0] + a[:,0], i).log_prob(s_[:,0])) * \n",
    "                 torch.exp(normal.Normal(s[:,1] + a[:,1], i).log_prob(s_[:,1]))\n",
    "               ) for i in p[1:]])\n",
    "beta =  torch.cat((torch.ones(len(O)-1) + torch.sigmoid(-10 * (p[0] - s[:,0])) * (-1)**torch.ones(len(O)-1),\n",
    "                   torch.zeros(len(O)-1) + torch.sigmoid(-10 * (p[0] - s[:,0])) * (-1)**torch.zeros(len(O)-1)\n",
    "                ))\n",
    "p_theta = torch.sum((mi*beta).reshape(2, len(O)-1), 0)\n",
    "ll = torch.sum(torch.log(p_theta))\n",
    "ll\n",
    "# beta.size()"
   ]
  },
  {
   "cell_type": "code",
   "execution_count": null,
   "metadata": {},
   "outputs": [],
   "source": []
  },
  {
   "cell_type": "code",
   "execution_count": 51,
   "metadata": {},
   "outputs": [],
   "source": [
    "# import torch\n",
    "# from torch.autograd import Variable\n",
    "# from torch.distributions import normal\n",
    "\n",
    "# s = Variable(torch.from_numpy(np.array(O)[:-1,0])).type(torch.DoubleTensor)\n",
    "# a = Variable(torch.from_numpy(np.array(O)[:-1,1])).type(torch.IntTensor)\n",
    "# s_ = Variable(torch.from_numpy(np.array(O)[1:,0])).type(torch.DoubleTensor)\n",
    "\n",
    "# p = torch.nn.parameter.Parameter(torch.Tensor([2,4]))\n",
    "# # beta\n",
    "# beta_in = nn.Linear(2, 2)\n",
    "# beta_out = nn.Linear(2, 2, bias=False)\n",
    "# beta_activation_function = nn.Softmax(dim=1)\n",
    "# psi = list(beta_in.parameters()) + list(beta_out.parameters())\n",
    "\n",
    "# mi = torch.stack([(torch.exp(normal.Normal(s[:,0] + a[:,0], i).log_prob(s_[:,0])) * torch.exp(normal.Normal(s[:,1] + a[:,1], i).log_prob(s_[:,1]))) for i in p],\n",
    "#                   dim=1\n",
    "#                 )\n",
    "# # beta = beta_out(beta_activation_function(beta_in(s.float())))\n",
    "# beta = beta_activation_function(beta_in(s.float()))\n",
    "# # p_theta = torch.sum((mi * torch.cat([beta, 1-beta])).reshape(2, len(O)-1), 0)\n",
    "# p_theta = torch.sum((mi * beta), 1)\n",
    "# ll = torch.sum(torch.log(p_theta))\n",
    "# ll"
   ]
  },
  {
   "cell_type": "code",
   "execution_count": 52,
   "metadata": {},
   "outputs": [
    {
     "name": "stdout",
     "output_type": "stream",
     "text": [
      "999\n"
     ]
    },
    {
     "data": {
      "text/plain": [
       "Parameter containing:\n",
       "tensor([2.0684, 4.1327], requires_grad=True)"
      ]
     },
     "execution_count": 52,
     "metadata": {},
     "output_type": "execute_result"
    }
   ],
   "source": [
    "import torch\n",
    "from torch.autograd import Variable\n",
    "from torch.distributions import normal\n",
    "import torch.nn as nn\n",
    "\n",
    "def estimate(init_p=None):\n",
    "    s = Variable(torch.from_numpy(np.array(O)[:-1,0])).type(torch.DoubleTensor)\n",
    "    a = Variable(torch.from_numpy(np.array(O)[:-1,1])).type(torch.IntTensor)\n",
    "    s_ = Variable(torch.from_numpy(np.array(O)[1:,0])).type(torch.DoubleTensor)\n",
    "\n",
    "    if init_p is not None:\n",
    "        sigma = torch.nn.parameter.Parameter(torch.tensor(init_p))\n",
    "    else:\n",
    "        sigma = torch.nn.parameter.Parameter(torch.Tensor(2).uniform_(1, 10))\n",
    "\n",
    "    # beta\n",
    "    beta_in = nn.Linear(2, 2)\n",
    "    # beta_in = nn.Linear(2, 1)\n",
    "    beta_out = nn.Linear(2, 2, bias=False)\n",
    "    # beta_activation_function = nn.Sigmoid()\n",
    "    beta_activation_function = nn.Softmax(dim=1)\n",
    "    psi = list(beta_in.parameters()) + list(beta_out.parameters())\n",
    "\n",
    "    def loglike():\n",
    "        mi = torch.stack([(torch.exp(normal.Normal(s[:,0] + a[:,0], sig).log_prob(s_[:,0])) * \n",
    "                    torch.exp(normal.Normal(s[:,1] + a[:,1], sig).log_prob(s_[:,1]))\n",
    "                ) for sig in sigma], dim=1)\n",
    "        # beta = beta_out(beta_activation_function(beta_in(s.float())))\n",
    "        beta = beta_activation_function(beta_in(s.float()))\n",
    "        p_theta = torch.sum((mi * beta), 1) \n",
    "\n",
    "        return -torch.sum(torch.log(p_theta))\n",
    "\n",
    "\n",
    "    # optim = torch.optim.SGD([p], lr=1e-2, momentum=0.9)\n",
    "    optim = torch.optim.SGD(psi+[sigma], lr=1e-2)\n",
    "\n",
    "    for i in range(1000):\n",
    "        ll = loglike()\n",
    "        if ll.data == torch.inf:\n",
    "            break\n",
    "        optim.zero_grad()\n",
    "        ll.backward()\n",
    "        optim.step() \n",
    "\n",
    "        with torch.no_grad():\n",
    "            sigma[:] = sigma.clamp(min=1e-1)\n",
    "\n",
    "    print(i)\n",
    "    return sigma, lambda x: beta_activation_function(beta_in(x.float()))[0], beta_in\n",
    "\n",
    "\n",
    "p, beta, layer = estimate()\n",
    "p"
   ]
  },
  {
   "cell_type": "code",
   "execution_count": 53,
   "metadata": {},
   "outputs": [
    {
     "data": {
      "text/plain": [
       "tensor([0.9818, 0.0182], grad_fn=<SelectBackward0>)"
      ]
     },
     "execution_count": 53,
     "metadata": {},
     "output_type": "execute_result"
    }
   ],
   "source": [
    "beta(torch.Tensor([[2,2]]))"
   ]
  },
  {
   "cell_type": "code",
   "execution_count": 54,
   "metadata": {},
   "outputs": [
    {
     "data": {
      "text/plain": [
       "[0.2735939025878906, 0.7264060974121094]"
      ]
     },
     "execution_count": 54,
     "metadata": {},
     "output_type": "execute_result"
    }
   ],
   "source": [
    "beta(torch.Tensor([[7,2]])).tolist()"
   ]
  },
  {
   "cell_type": "code",
   "execution_count": 55,
   "metadata": {},
   "outputs": [
    {
     "name": "stdout",
     "output_type": "stream",
     "text": [
      "tensor([[ 0.0081, -0.5960],\n",
      "        [ 1.0014, -0.5397]])\n",
      "tensor([ 3.5502, -2.5387])\n"
     ]
    }
   ],
   "source": [
    "\n",
    "for param in layer.parameters():\n",
    "  print(param.data)"
   ]
  },
  {
   "cell_type": "code",
   "execution_count": null,
   "metadata": {},
   "outputs": [],
   "source": []
  },
  {
   "cell_type": "code",
   "execution_count": 56,
   "metadata": {},
   "outputs": [
    {
     "data": {
      "image/png": "[encoded data removed]",
      "text/plain": [
       "<Figure size 640x480 with 1 Axes>"
      ]
     },
     "metadata": {},
     "output_type": "display_data"
    }
   ],
   "source": [
    "import matplotlib.pyplot as plt\n",
    "\n",
    "fig = plt.figure()\n",
    "ax = fig.gca()\n",
    "ax.invert_yaxis()\n",
    "    \n",
    "v = [[beta(torch.Tensor([[x,y]])).tolist()[0] for x in range(10)] for y in range(10)]\n",
    "\n",
    "ax.imshow(v)\n",
    "\n",
    "for i, lin in enumerate(v):\n",
    "    for j, o in enumerate(lin):\n",
    "        ax.text(j, i, (1,2)[o>.5], ha=\"right\", va=\"bottom\", color=(\"w\", \"black\")[o>.5])\n",
    "        ax.text(j, i, round(o, 2), ha=\"left\", va=\"top\", color=(\"w\", \"black\")[o>.5], size=5.5)\n",
    "        \n",
    "# v"
   ]
  }
 ],
 "metadata": {
  "kernelspec": {
   "display_name": "base",
   "language": "python",
   "name": "python3"
  },
  "language_info": {
   "codemirror_mode": {
    "name": "ipython",
    "version": 3
   },
   "file_extension": ".py",
   "mimetype": "text/x-python",
   "name": "python",
   "nbconvert_exporter": "python",
   "pygments_lexer": "ipython3",
   "version": "3.9.13"
  },
  "orig_nbformat": 4,
  "vscode": {
   "interpreter": {
    "hash": "19d1d53a962d236aa061289c2ac16dc8e6d9648c89fe79f459ae9a3493bc67b4"
   }
  }
 },
 "nbformat": 4,
 "nbformat_minor": 2
}
