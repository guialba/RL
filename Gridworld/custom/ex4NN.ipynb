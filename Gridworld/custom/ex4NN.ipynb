{
 "cells": [
  {
   "attachments": {},
   "cell_type": "markdown",
   "metadata": {},
   "source": [
    "$p_{\\theta}(s_{t+1}|s_t, a_t) = \\{_{pdf(x_{t+1}, \\; (x_t+a_t^0), \\; \\theta_2) \\; \\times \\; pdf(y_{t+1}, \\; (y_t+a_t^1), \\; \\theta_2) \\; if \\; x_t >= \\theta_0}^{pdf(x_{t+1}, \\; (x_t+a_t^0), \\; \\theta_1) \\; \\times \\; pdf(y_{t+1}, \\; (y_t+a_t^1), \\; \\theta_1) \\; if \\; x_t < \\theta_0}$"
   ]
  },
  {
   "cell_type": "code",
   "execution_count": 36,
   "metadata": {},
   "outputs": [
    {
     "data": {
      "text/plain": [
       "[((1, 1), (-1, 0)),\n",
       " ((-1.0198809638907076, 1.9044134007113662), (0, -1)),\n",
       " ((-0.866954926621498, 1.107082388448581), (0, -1)),\n",
       " ((0.5899272086523448, -0.8651121122515871), (0, -1)),\n",
       " ((3.825283753286752, -2.3553052461244732), (0, -1)),\n",
       " ((2.902396635874916, -0.36441755707545553), (0, -1)),\n",
       " ((1.3134931916116024, -4.042362116693069), (1, 0)),\n",
       " ((0.8206051929323828, -4.290732120542223), (0, -1)),\n",
       " ((0.030823475455513227, -4.183435304148263), (-1, 0)),\n",
       " ((-2.692050721581411, -6.561486980756578), (1, 0)),\n",
       " ((0.0776390357497958, -9.570117707763636), (-1, 0)),\n",
       " ((1.9463424675383043, -8.888329120093141), (-1, 0)),\n",
       " ((5.2310090899066655, -2.8011128571173876), (0, -1)),\n",
       " ((10.146676297986808, 0.934046799256592), (-1, 0)),\n",
       " ((7.284874008099186, 3.4666378889572282), (1, 0)),\n",
       " ((8.661690025858656, 4.1213017351752645), (0, 1)),\n",
       " ((5.95018149409438, 2.76403231224159), (-1, 0)),\n",
       " ((3.3975522532021953, 6.993747763020687), (1, 0)),\n",
       " ((4.226107533331469, 4.885147557879106), (1, 0)),\n",
       " ((6.826678739836433, 3.6315978105729982), (0, 1)),\n",
       " ((9.455078077103462, -1.3069791800941672), (0, -1)),\n",
       " ((8.037486012699086, -1.2730731525754102), (-1, 0)),\n",
       " ((4.78281498999503, -0.6797172577142336), (-1, 0)),\n",
       " ((6.0994196632746345, -2.4901500584669782), (0, 1)),\n",
       " ((5.356185874459722, -4.70707782875516), (0, -1)),\n",
       " ((9.374421237422654, -11.1867204157388), (-1, 0)),\n",
       " ((2.2316195018010205, -6.464162411693398), (0, 1)),\n",
       " ((0.020331006351516745, -8.018840731882317), (-1, 0)),\n",
       " ((-1.2600530878256517, -4.795187479036589), (0, -1)),\n",
       " ((-0.7706577776558677, -3.19502099028399), (0, 1)),\n",
       " ((2.930013133614844, -1.3995926523274886), (0, 1)),\n",
       " ((2.8414290735980985, -1.178006210428305), (0, -1)),\n",
       " ((3.905170242724422, -2.703573962488583), (0, -1)),\n",
       " ((4.945524024527509, 0.5079972958846368), (0, -1)),\n",
       " ((5.220603688291103, 1.501660350621292), (1, 0)),\n",
       " ((3.8671941430416528, 6.677008778513197), (0, -1)),\n",
       " ((4.16711099072533, 5.413289935222749), (-1, 0)),\n",
       " ((0.7866204115715076, 4.011920127265944), (0, -1)),\n",
       " ((2.1042533588928736, -0.02478554790494414), (-1, 0)),\n",
       " ((0.7561596834451688, 1.3740726636528833), (-1, 0)),\n",
       " ((-2.204848932170571, 1.2271377276000834), (-1, 0)),\n",
       " ((-3.304989703858613, 1.520777545681715), (1, 0)),\n",
       " ((-1.8601496862235085, 2.474172909726069), (0, -1)),\n",
       " ((-3.4230685840893393, 2.938328876963082), (0, 1)),\n",
       " ((-0.23199527036456447, 7.608345719766282), (-1, 0)),\n",
       " ((-2.539184590173246, 10.90748702085409), (0, -1)),\n",
       " ((-4.084451232959801, 9.826151843525956), (1, 0)),\n",
       " ((-1.8075698021696627, 10.971018388840532), (0, -1)),\n",
       " ((1.04667976664415, 9.284655117938403), (0, -1)),\n",
       " ((4.921487298403678, 4.1648272564651005), (0, -1)),\n",
       " ((6.075819153182692, 4.779871022409677), (-1, 0)),\n",
       " ((6.2050015966022825, 0.27094117599488055), (0, 1)),\n",
       " ((5.095262274052667, 3.8163698237583352), (0, 1)),\n",
       " ((0.20196838622297353, -1.3379583488676046), (-1, 0)),\n",
       " ((-3.7046730534778933, 0.7758890140997083), (0, -1)),\n",
       " ((-1.9482233398318778, 0.8373623888631818), (-1, 0)),\n",
       " ((-6.792092069870908, 0.620550857305508), (1, 0)),\n",
       " ((-4.652698346459708, 0.16844069048797328), (1, 0)),\n",
       " ((-1.3297528609404026, 2.0275026678806), (1, 0)),\n",
       " ((-1.157308577108899, 4.291432800080846), (-1, 0)),\n",
       " ((-1.368102324433953, 2.06781546314758), (-1, 0)),\n",
       " ((-4.729661029004694, -2.5842002959678916), (1, 0)),\n",
       " ((-1.5222869771035894, 0.6916515424143808), (1, 0)),\n",
       " ((-1.1366265467574017, -0.3606211412594367), (0, 1)),\n",
       " ((-4.311436986551225, 0.3665571547063346), (0, 1)),\n",
       " ((-3.5644414203307053, 2.320361015593605), (-1, 0)),\n",
       " ((-5.785753062192639, 0.6352522680002812), (-1, 0)),\n",
       " ((-9.095901098952721, -0.8414083952003506), (0, -1)),\n",
       " ((-6.134170151100914, -1.7738049938904168), (1, 0)),\n",
       " ((-5.06234270835295, -4.832440877524824), (-1, 0)),\n",
       " ((-3.618235549487084, -2.472705701879118), (0, -1)),\n",
       " ((-7.412183990181012, -5.366803721705374), (0, -1)),\n",
       " ((-5.878226428046939, -8.852236284299527), (0, 1)),\n",
       " ((-4.682512780926565, -8.25012826051875), (1, 0)),\n",
       " ((-3.6526514049316012, -7.853890963406268), (0, 1)),\n",
       " ((-4.509180766570097, -3.0608252925607964), (0, -1)),\n",
       " ((-4.144113822519691, -1.210431098110429), (1, 0)),\n",
       " ((-1.9105585577006206, 0.10465809932074), (1, 0)),\n",
       " ((-2.100939291933913, -0.1323818407317476), (1, 0)),\n",
       " ((-0.5606006302239577, -0.09488848455044267), (-1, 0)),\n",
       " ((-2.5218535371371984, -0.6036176275406575), (1, 0)),\n",
       " ((-0.24640164780794138, -1.2884385173986195), (0, -1)),\n",
       " ((-2.4667648038547973, -4.410820769889462), (0, 1)),\n",
       " ((-3.3226625269824206, -6.34708846638919), (-1, 0)),\n",
       " ((-5.560713826654859, -7.900967527369208), (0, 1)),\n",
       " ((-4.445674813922275, -6.456553715759926), (0, -1)),\n",
       " ((-5.501794506861188, -5.607006400860584), (0, 1)),\n",
       " ((-3.361444723700554, -5.7119381787602155), (-1, 0)),\n",
       " ((-4.160330704488151, -6.439990322557218), (-1, 0)),\n",
       " ((-7.21238300428792, -8.258663878173707), (0, -1)),\n",
       " ((-8.903419207048294, -10.494039504386336), (-1, 0)),\n",
       " ((-10.270241632588347, -9.204180692501506), (0, -1)),\n",
       " ((-9.83584635754116, -11.415959375223132), (1, 0)),\n",
       " ((-6.6549099670750405, -12.129515243296886), (-1, 0)),\n",
       " ((-6.078511382941782, -10.738043677573653), (1, 0)),\n",
       " ((-5.8191622175258555, -11.56111965659045), (0, -1)),\n",
       " ((-6.336722626400003, -12.815269391070672), (-1, 0)),\n",
       " ((-6.33968192262192, -12.838689250928041), (-1, 0)),\n",
       " ((-4.209022508111913, -12.979150883632743), (-1, 0)),\n",
       " ((-6.220530079519098, -14.179890528203945), (0, 1))]"
      ]
     },
     "execution_count": 36,
     "metadata": {},
     "output_type": "execute_result"
    }
   ],
   "source": [
    "import numpy as np\n",
    "import random\n",
    "\n",
    "theta = [5, (2,4)]\n",
    "\n",
    "def transiction(s, a, p=2):\n",
    "    return tuple(np.array(s) + np.array(a) + np.random.normal(0, p, 2))\n",
    "\n",
    "def pickModel(s, theta):\n",
    "    psi, sigma = theta\n",
    "    x,_ = s\n",
    "    return sigma[int(x >= psi)]\n",
    "\n",
    "def generate(s, n, theta):   \n",
    "    for _ in range(n):\n",
    "        a = random.choice([(1,0), (-1,0), (0,1), (0,-1)])\n",
    "        yield s, a\n",
    "        s = transiction(s, a, pickModel(s, theta))\n",
    "\n",
    "s_0 = (1,1)\n",
    "O = [(s, a) for (s, a) in generate(s_0, 100, theta)]\n",
    "O"
   ]
  },
  {
   "attachments": {},
   "cell_type": "markdown",
   "metadata": {},
   "source": [
    "$ \\theta = \\{\\psi, \\sigma \\} $"
   ]
  },
  {
   "attachments": {},
   "cell_type": "markdown",
   "metadata": {},
   "source": [
    "$\\psi$: Parametros para definição do modelo que será utilizado em cada estado<br>\n",
    "$\\sigma$: Parametros para cada Modelo $\\{\\sigma_1, \\sigma_2, ...\\}$ <br>"
   ]
  },
  {
   "attachments": {},
   "cell_type": "markdown",
   "metadata": {},
   "source": [
    "$p_{\\theta}(s_{t+1}|s_t, a_t) = \\mu(s_{t+1}, s_t, a_t, \\sigma_1) \\; \\times \\; \\beta(s_t) + \\mu(s_{t+1}, s_t, a_t, \\sigma_2) \\; \\times \\; \\beta(s_t) + ...$\n"
   ]
  },
  {
   "attachments": {},
   "cell_type": "markdown",
   "metadata": {},
   "source": [
    "\n",
    "$p_{\\theta}(s_{t+1}|s_t, a_t) = \\sum_{i=1}^k \\mu(s_{t+1}, s_t, a_t, \\sigma_i) \\beta(s_t)_i \\;\\;\\;\\;\\; for \\;\\; k = |\\sigma_{\\theta}|$  \n"
   ]
  },
  {
   "attachments": {},
   "cell_type": "markdown",
   "metadata": {},
   "source": [
    "$\\mu: S \\times S \\times A \\times \\sigma_{\\theta} \\mapsto [0,1]; \\;\\; \\mu(s', s, a, \\sigma) = pdf(s'_x, (s_x+a_x), \\sigma) \\; \\times \\; pdf(s'_y, (s_y+a_y), \\sigma)$"
   ]
  },
  {
   "attachments": {},
   "cell_type": "markdown",
   "metadata": {},
   "source": [
    "##### 2 modelos: Sigmoid\n",
    "\n",
    "$ \\beta: S \\mapsto [0,1]; \\;\\; \\beta(s; \\psi_{\\theta})_i = (i-1) + \\frac{1}{1+e^{\\psi_{s}}}(-1)^{i-1} $;  <br>\n",
    "<!-- $ \\beta: S \\mapsto [0,1]; \\;\\; \\beta(s; \\psi_{\\theta})_i = 1 - \\frac{1}{1+e^{\\psi_{s}}} $;  <br> -->\n",
    "$ for \\;\\; i = \\{1,2\\} $"
   ]
  },
  {
   "attachments": {},
   "cell_type": "markdown",
   "metadata": {},
   "source": [
    "##### N modelos: Softmax\n",
    "\n",
    "$ \\beta: S \\mapsto [0,1]; \\;\\; \\beta(s; \\psi_{\\theta})_i = \\frac{e^{\\psi_{s,i}}}{\\sum_{j=1}^k e^{\\psi_{s,j}}} $;   <br>\n",
    "$ for \\;\\; k = |\\sigma_{\\theta}| \\;\\; ; \\;\\; i=1,...,k $"
   ]
  },
  {
   "attachments": {},
   "cell_type": "markdown",
   "metadata": {},
   "source": [
    "$\\cal{L}[\\xi | \\theta] = \\sum_{t=0}^{\\mathrm{T}-1} log \\; p_{\\theta}(s_{t+1}|s_t, a_t)$"
   ]
  },
  {
   "cell_type": "code",
   "execution_count": 37,
   "metadata": {},
   "outputs": [
    {
     "data": {
      "text/plain": [
       "-429.4970768950582"
      ]
     },
     "execution_count": 37,
     "metadata": {},
     "output_type": "execute_result"
    }
   ],
   "source": [
    "from scipy.stats import norm\n",
    "\n",
    "def ll(O, theta):\n",
    "    psi, sigma = theta\n",
    "\n",
    "    def mi(x_,y_, x,y, ax, ay, sig):\n",
    "        return norm.pdf(x_, (x + ax), sig) * norm.pdf(y_, (y + ay), sig) \n",
    "    def beta(x,_, i):\n",
    "        return i + 1/(1+np.e**(10*(x-psi))) * (-1)**i\n",
    "    def p(s_,s,a):\n",
    "        return np.sum([mi(*s_,*s,*a, sig)*beta(*s, i) for i,sig in enumerate(sigma)])\n",
    "    \n",
    "    return np.sum([np.log(p(st, *O[t-1])) for t,(st,_) in enumerate(O) if t>0])\n",
    "\n",
    "ll(O, (5, (2, 4)))"
   ]
  },
  {
   "cell_type": "code",
   "execution_count": 38,
   "metadata": {},
   "outputs": [],
   "source": [
    "# best_theta = 0\n",
    "# best_ll = -np.inf\n",
    "\n",
    "# for psi in range(10):\n",
    "#     for p1 in range(10):\n",
    "#         for p2 in range(10):\n",
    "#             theta = (psi+1, (p1+1, p2+1))\n",
    "#             new_ll = ll(O, theta)\n",
    "#             if new_ll > best_ll:\n",
    "#                 best_ll = new_ll\n",
    "#                 best_theta = theta\n",
    "\n",
    "# print(best_theta, best_ll)"
   ]
  },
  {
   "cell_type": "code",
   "execution_count": 39,
   "metadata": {},
   "outputs": [
    {
     "data": {
      "text/plain": [
       "tensor(-429.4971, dtype=torch.float64, grad_fn=<SumBackward0>)"
      ]
     },
     "execution_count": 39,
     "metadata": {},
     "output_type": "execute_result"
    }
   ],
   "source": [
    "import torch\n",
    "from torch.autograd import Variable\n",
    "from torch.distributions import normal\n",
    "\n",
    "s = Variable(torch.from_numpy(np.array(O)[:-1,0])).type(torch.DoubleTensor)\n",
    "a = Variable(torch.from_numpy(np.array(O)[:-1,1])).type(torch.IntTensor)\n",
    "s_ = Variable(torch.from_numpy(np.array(O)[1:,0])).type(torch.DoubleTensor)\n",
    "\n",
    "# p = torch.nn.parameter.Parameter(torch.Tensor(3).uniform_(1, 10))\n",
    "p = torch.nn.parameter.Parameter(torch.Tensor([5,2,4]))\n",
    "\n",
    "mi = torch.cat([(torch.exp(normal.Normal(s[:,0] + a[:,0], i).log_prob(s_[:,0])) * \n",
    "                 torch.exp(normal.Normal(s[:,1] + a[:,1], i).log_prob(s_[:,1]))\n",
    "               ) for i in p[1:]])\n",
    "beta =  torch.cat((torch.ones(len(O)-1) + torch.sigmoid(-10 * (p[0] - s[:,0])) * (-1)**torch.ones(len(O)-1),\n",
    "                   torch.zeros(len(O)-1) + torch.sigmoid(-10 * (p[0] - s[:,0])) * (-1)**torch.zeros(len(O)-1)\n",
    "                ))\n",
    "p_theta = torch.sum((mi*beta).reshape(2, len(O)-1), 0)\n",
    "ll = torch.sum(torch.log(p_theta))\n",
    "ll\n",
    "# beta.size()"
   ]
  },
  {
   "cell_type": "code",
   "execution_count": null,
   "metadata": {},
   "outputs": [],
   "source": []
  },
  {
   "cell_type": "code",
   "execution_count": 40,
   "metadata": {},
   "outputs": [],
   "source": [
    "# import torch\n",
    "# from torch.autograd import Variable\n",
    "# from torch.distributions import normal\n",
    "\n",
    "# s = Variable(torch.from_numpy(np.array(O)[:-1,0])).type(torch.DoubleTensor)\n",
    "# a = Variable(torch.from_numpy(np.array(O)[:-1,1])).type(torch.IntTensor)\n",
    "# s_ = Variable(torch.from_numpy(np.array(O)[1:,0])).type(torch.DoubleTensor)\n",
    "\n",
    "# p = torch.nn.parameter.Parameter(torch.Tensor([2,4]))\n",
    "# # beta\n",
    "# beta_in = nn.Linear(2, 2)\n",
    "# beta_out = nn.Linear(2, 2, bias=False)\n",
    "# beta_activation_function = nn.Softmax(dim=1)\n",
    "# psi = list(beta_in.parameters()) + list(beta_out.parameters())\n",
    "\n",
    "# mi = torch.stack([(torch.exp(normal.Normal(s[:,0] + a[:,0], i).log_prob(s_[:,0])) * torch.exp(normal.Normal(s[:,1] + a[:,1], i).log_prob(s_[:,1]))) for i in p],\n",
    "#                   dim=1\n",
    "#                 )\n",
    "# # beta = beta_out(beta_activation_function(beta_in(s.float())))\n",
    "# beta = beta_activation_function(beta_in(s.float()))\n",
    "# # p_theta = torch.sum((mi * torch.cat([beta, 1-beta])).reshape(2, len(O)-1), 0)\n",
    "# p_theta = torch.sum((mi * beta), 1)\n",
    "# ll = torch.sum(torch.log(p_theta))\n",
    "# ll"
   ]
  },
  {
   "cell_type": "code",
   "execution_count": 46,
   "metadata": {},
   "outputs": [
    {
     "name": "stdout",
     "output_type": "stream",
     "text": [
      "999\n"
     ]
    },
    {
     "data": {
      "text/plain": [
       "Parameter containing:\n",
       "tensor([3.3912, 1.8060], requires_grad=True)"
      ]
     },
     "execution_count": 46,
     "metadata": {},
     "output_type": "execute_result"
    }
   ],
   "source": [
    "import torch\n",
    "from torch.autograd import Variable\n",
    "from torch.distributions import normal\n",
    "import torch.nn as nn\n",
    "\n",
    "def estimate(init_p=None):\n",
    "    s = Variable(torch.from_numpy(np.array(O)[:-1,0])).type(torch.DoubleTensor)\n",
    "    a = Variable(torch.from_numpy(np.array(O)[:-1,1])).type(torch.IntTensor)\n",
    "    s_ = Variable(torch.from_numpy(np.array(O)[1:,0])).type(torch.DoubleTensor)\n",
    "\n",
    "    if init_p is not None:\n",
    "        sigma = torch.nn.parameter.Parameter(torch.tensor(init_p))\n",
    "    else:\n",
    "        sigma = torch.nn.parameter.Parameter(torch.Tensor(2).uniform_(1, 10))\n",
    "\n",
    "    # beta\n",
    "    beta_in = nn.Linear(2, 2)\n",
    "    # beta_in = nn.Linear(2, 1)\n",
    "    beta_out = nn.Linear(2, 2, bias=False)\n",
    "    # beta_activation_function = nn.Sigmoid()\n",
    "    beta_activation_function = nn.Softmax(dim=1)\n",
    "    psi = list(beta_in.parameters()) + list(beta_out.parameters())\n",
    "\n",
    "    def loglike():\n",
    "        mi = torch.stack([(torch.exp(normal.Normal(s[:,0] + a[:,0], sig).log_prob(s_[:,0])) * \n",
    "                    torch.exp(normal.Normal(s[:,1] + a[:,1], sig).log_prob(s_[:,1]))\n",
    "                ) for sig in sigma], dim=1)\n",
    "        # beta = beta_out(beta_activation_function(beta_in(s.float())))\n",
    "        beta = beta_activation_function(beta_in(s.float()))\n",
    "        p_theta = torch.sum((mi * beta), 1) \n",
    "\n",
    "        return -torch.sum(torch.log(p_theta))\n",
    "\n",
    "\n",
    "    # optim = torch.optim.SGD([p], lr=1e-2, momentum=0.9)\n",
    "    optim = torch.optim.SGD(psi+[sigma], lr=1e-2)\n",
    "\n",
    "    for i in range(1000):\n",
    "        ll = loglike()\n",
    "        if ll.data == torch.inf:\n",
    "            break\n",
    "        optim.zero_grad()\n",
    "        ll.backward()\n",
    "        optim.step() \n",
    "\n",
    "        with torch.no_grad():\n",
    "            sigma[:] = sigma.clamp(min=1e-1)\n",
    "\n",
    "    print(i)\n",
    "    return sigma, lambda x: beta_activation_function(beta_in(x.float()))[0], beta_in\n",
    "\n",
    "\n",
    "p, beta, layer = estimate()\n",
    "p"
   ]
  },
  {
   "cell_type": "code",
   "execution_count": 42,
   "metadata": {},
   "outputs": [
    {
     "data": {
      "text/plain": [
       "tensor([0.9954, 0.0046], grad_fn=<SelectBackward0>)"
      ]
     },
     "execution_count": 42,
     "metadata": {},
     "output_type": "execute_result"
    }
   ],
   "source": [
    "beta(torch.Tensor([[2,2]]))"
   ]
  },
  {
   "cell_type": "code",
   "execution_count": 43,
   "metadata": {},
   "outputs": [
    {
     "data": {
      "text/plain": [
       "[0.0017249893862754107, 0.9982750415802002]"
      ]
     },
     "execution_count": 43,
     "metadata": {},
     "output_type": "execute_result"
    }
   ],
   "source": [
    "beta(torch.Tensor([[7,2]])).tolist()"
   ]
  },
  {
   "cell_type": "code",
   "execution_count": 44,
   "metadata": {},
   "outputs": [
    {
     "name": "stdout",
     "output_type": "stream",
     "text": [
      "tensor([[-1.1691,  0.4873],\n",
      "        [ 1.1779, -0.1869]])\n",
      "tensor([ 4.2727, -4.4472])\n"
     ]
    }
   ],
   "source": [
    "\n",
    "for param in layer.parameters():\n",
    "  print(param.data)"
   ]
  },
  {
   "cell_type": "code",
   "execution_count": null,
   "metadata": {},
   "outputs": [],
   "source": []
  },
  {
   "cell_type": "code",
   "execution_count": 45,
   "metadata": {},
   "outputs": [
    {
     "data": {
      "image/png": "[encoded data removed]",
      "text/plain": [
       "<Figure size 640x480 with 1 Axes>"
      ]
     },
     "metadata": {},
     "output_type": "display_data"
    }
   ],
   "source": [
    "import matplotlib.pyplot as plt\n",
    "\n",
    "fig = plt.figure()\n",
    "ax = fig.gca()\n",
    "ax.invert_yaxis()\n",
    "    \n",
    "v = [[beta(torch.Tensor([[x,y]])).tolist()[0] for x in range(10)] for y in range(10)]\n",
    "\n",
    "ax.imshow(v)\n",
    "\n",
    "for i, lin in enumerate(v):\n",
    "    for j, o in enumerate(lin):\n",
    "        ax.text(j, i, (1,2)[o>.5], ha=\"right\", va=\"bottom\", color=(\"w\", \"black\")[o>.5])\n",
    "        ax.text(j, i, round(o, 2), ha=\"left\", va=\"top\", color=(\"w\", \"black\")[o>.5], size=5.5)\n",
    "        \n",
    "# v"
   ]
  }
 ],
 "metadata": {
  "kernelspec": {
   "display_name": "base",
   "language": "python",
   "name": "python3"
  },
  "language_info": {
   "codemirror_mode": {
    "name": "ipython",
    "version": 3
   },
   "file_extension": ".py",
   "mimetype": "text/x-python",
   "name": "python",
   "nbconvert_exporter": "python",
   "pygments_lexer": "ipython3",
   "version": "3.9.13"
  },
  "orig_nbformat": 4,
  "vscode": {
   "interpreter": {
    "hash": "19d1d53a962d236aa061289c2ac16dc8e6d9648c89fe79f459ae9a3493bc67b4"
   }
  }
 },
 "nbformat": 4,
 "nbformat_minor": 2
}
