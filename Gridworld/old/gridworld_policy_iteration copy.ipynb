{
 "cells": [
  {
   "cell_type": "code",
   "execution_count": 1,
   "metadata": {},
   "outputs": [
    {
     "name": "stdout",
     "output_type": "stream",
     "text": [
      "-------------------------------\n",
      "| 0,0 | 0,1 | 0,2 | 0,3 | 0,4 | \n",
      "-------------------------------\n",
      "| 1,0 | 1,1 | 1,2 | 1,3 | 1,4 | \n",
      "-------------------------------\n",
      "| 2,0 | 2,1 | 2,2 | 2,3 | 2,4 | \n",
      "-------------------------------\n",
      "| 3,0 | 3,1 | 3,2 | 3,3 | 3,4 | \n",
      "-------------------------------\n",
      "| 4,0 | 4,1 | 4,2 | 4,3 | 4,4 | \n",
      "-------------------------------\n"
     ]
    }
   ],
   "source": [
    "import numpy as np\n",
    "from grid import Grid\n",
    "\n",
    "g = Grid()\n",
    "g.print()"
   ]
  },
  {
   "attachments": {},
   "cell_type": "markdown",
   "metadata": {},
   "source": [
    "# Transitions Tests"
   ]
  },
  {
   "cell_type": "code",
   "execution_count": 2,
   "metadata": {},
   "outputs": [
    {
     "name": "stdout",
     "output_type": "stream",
     "text": [
      "-------------------------------\n",
      "| 0.1 | 0.0 | 0.0 | 0.0 | 0.0 | \n",
      "-------------------------------\n",
      "| 0.0 | 0.0 | 0.0 | 0.0 | 0.0 | \n",
      "-------------------------------\n",
      "| 0.0 | 0.0 | 0.0 | 0.0 | 0.0 | \n",
      "-------------------------------\n",
      "| 0.0 | 0.0 | 0.0 | 0.0 | 0.0 | \n",
      "-------------------------------\n",
      "| 0.0 | 0.0 | 0.0 | 0.0 | 0.0 | \n",
      "-------------------------------\n",
      "\n",
      "(0, 1)\n",
      "-------------------------------\n",
      "| 0.0 | 0.1 | 0.0 | 0.0 | 0.0 | \n",
      "-------------------------------\n",
      "| 0.0 | 0.0 | 0.0 | 0.0 | 0.0 | \n",
      "-------------------------------\n",
      "| 0.0 | 0.0 | 0.0 | 0.0 | 0.0 | \n",
      "-------------------------------\n",
      "| 0.0 | 0.0 | 0.0 | 0.0 | 0.0 | \n",
      "-------------------------------\n",
      "| 0.0 | 0.0 | 0.0 | 0.0 | 0.0 | \n",
      "-------------------------------\n"
     ]
    },
    {
     "name": "stderr",
     "output_type": "stream",
     "text": [
      "c:\\Users\\guilherme.albarrans\\OneDrive - Ame Digital\\Área de Trabalho\\RL\\Gridworld\\grid.py:46: FutureWarning: elementwise comparison failed; returning scalar instead, but in the future will perform elementwise comparison\n",
      "  if display == 'index':\n"
     ]
    }
   ],
   "source": [
    "pos = (0,0)\n",
    "custom_grid = g.grid.copy()\n",
    "custom_grid[pos] = 0.1\n",
    "g.print(custom_grid)\n",
    "print()\n",
    "\n",
    "custom_grid = g.grid.copy()\n",
    "s,r =  g.transition(pos, g.east)\n",
    "custom_grid[s] = r+0.1\n",
    "print(s)\n",
    "g.print(custom_grid)"
   ]
  },
  {
   "attachments": {},
   "cell_type": "markdown",
   "metadata": {},
   "source": [
    "# Value Function - System of linear  functions"
   ]
  },
  {
   "cell_type": "code",
   "execution_count": 3,
   "metadata": {},
   "outputs": [
    {
     "name": "stdout",
     "output_type": "stream",
     "text": [
      "[[ 3.31  8.79  4.43  5.32  1.49]\n",
      " [ 1.52  2.99  2.25  1.91  0.55]\n",
      " [ 0.05  0.74  0.67  0.36 -0.4 ]\n",
      " [-0.97 -0.44 -0.35 -0.59 -1.18]\n",
      " [-1.86 -1.35 -1.23 -1.42 -1.98]]\n",
      "8.79\n"
     ]
    }
   ],
   "source": [
    "\n",
    "import numpy as np\n",
    "\n",
    "pi = np.ones((g.size[0], g.size[1], len(g.ACTIONS)))\n",
    "pi.fill(0.25)\n",
    "\n",
    "def v(state=None, pi=None, gamma=0.9):\n",
    "    A = -1 * np.eye(g.size[0] * g.size[1])\n",
    "    b = np.zeros(g.size[0] * g.size[1])\n",
    "\n",
    "    for i in range(g.size[0]):\n",
    "        for j in range(g.size[1]):\n",
    "            s = (i, j)  # for each state s\n",
    "            index_s = np.ravel_multi_index(s, g.size)\n",
    "            for a, action in enumerate(g.ACTIONS):\n",
    "                s_, r = g.transition(s, action)\n",
    "                index_s_ = np.ravel_multi_index(s_, g.size)\n",
    "                pi_a_s = pi[s][a]\n",
    "                A[index_s, index_s_] += pi_a_s * gamma\n",
    "                b[index_s] -= pi_a_s * r\n",
    "    v_matrix = np.round(np.linalg.solve(A, b).reshape(*g.size), decimals=2)\n",
    "    if state is None:\n",
    "        return v_matrix\n",
    "    else:\n",
    "        return v_matrix[state]\n",
    "\n",
    "print(v(pi=pi))\n",
    "print(v((0,1), pi=pi))"
   ]
  },
  {
   "attachments": {},
   "cell_type": "markdown",
   "metadata": {},
   "source": [
    "# Policy Evaluation - System of functions"
   ]
  },
  {
   "cell_type": "code",
   "execution_count": 4,
   "metadata": {},
   "outputs": [
    {
     "name": "stdout",
     "output_type": "stream",
     "text": [
      "[[ 3.31  8.79  4.43  5.32  1.49]\n",
      " [ 1.52  2.99  2.25  1.91  0.55]\n",
      " [ 0.05  0.74  0.67  0.36 -0.4 ]\n",
      " [-0.97 -0.44 -0.35 -0.59 -1.18]\n",
      " [-1.86 -1.35 -1.23 -1.42 -1.98]]\n"
     ]
    }
   ],
   "source": [
    "pi = np.ones((g.size[0], g.size[1], len(g.ACTIONS)))\n",
    "pi.fill(0.25)\n",
    "\n",
    "def policy_eval(pi, gamma=0.9):\n",
    "    A = -1 * np.eye(g.size[0] * g.size[1])\n",
    "    b = np.zeros(g.size[0] * g.size[1])\n",
    "\n",
    "    for i in range(g.size[0]):\n",
    "        for j in range(g.size[1]):\n",
    "            s = (i, j)  # for each state s\n",
    "            index_s = np.ravel_multi_index(s, g.size)\n",
    "            for a, action in enumerate(g.ACTIONS):\n",
    "                s_, r = g.transition(s, action)\n",
    "                index_s_ = np.ravel_multi_index(s_, g.size)\n",
    "                pi_a_s = pi[s][a]\n",
    "                A[index_s, index_s_] += pi_a_s * gamma\n",
    "                b[index_s] -= pi_a_s * r\n",
    "    return np.round(np.linalg.solve(A, b).reshape(*g.size), decimals=2)\n",
    "\n",
    "pi = np.ones((g.size[0], g.size[1], len(g.ACTIONS)))\n",
    "pi.fill(0.25)\n",
    "\n",
    "V=policy_eval(pi)\n",
    "\n",
    "print(V)"
   ]
  },
  {
   "attachments": {},
   "cell_type": "markdown",
   "metadata": {},
   "source": [
    "# Policy Evaluation - Iteractive Police Evaluation "
   ]
  },
  {
   "cell_type": "code",
   "execution_count": 5,
   "metadata": {},
   "outputs": [
    {
     "name": "stdout",
     "output_type": "stream",
     "text": [
      "[[ 3.31  8.79  4.43  5.32  1.49]\n",
      " [ 1.52  2.99  2.25  1.91  0.55]\n",
      " [ 0.05  0.74  0.67  0.36 -0.4 ]\n",
      " [-0.97 -0.44 -0.35 -0.59 -1.18]\n",
      " [-1.86 -1.34 -1.23 -1.42 -1.97]]\n"
     ]
    }
   ],
   "source": [
    "\n",
    "\n",
    "# bellman_expectation = lambda V, pi_s, s, p_s=1, gamma=0.9: sum(list(map(lambda a, s_, r: pi[s][a]*p_s*(r + gamma*V[s_]), *list(zip(*[(a, *g.transition(s, action)) for a, action in enumerate(g.ACTIONS)])))))              \n",
    "def bellman_expectation(V, pi_s, s, p_s=1, gamma=0.9):\n",
    "    value = 0\n",
    "    for a, action in enumerate(g.ACTIONS):\n",
    "        s_, r = g.transition(s, action)\n",
    "        value += pi_s[a] * p_s*(r + gamma*V[s_])\n",
    "    return value\n",
    "\n",
    "def policy_eval(V=None, pi=None, theta=1e-4, gamma=0.9, inplace=True):\n",
    "    newV = V if inplace else np.zeros_like(V)\n",
    "    while True:\n",
    "        delta=0\n",
    "        for i in range(g.size[0]):\n",
    "            for j in range(g.size[1]):\n",
    "                s = (i, j) \n",
    "                v = newV[s]\n",
    "                newV[s] = bellman_expectation(newV, pi[s], s)\n",
    "                delta = max(delta, np.abs(v-newV[s]))\n",
    "        if delta < theta: \n",
    "            return np.round(newV, decimals=2, out=newV)\n",
    "\n",
    "V = np.zeros(g.size)\n",
    "pi = np.ones((g.size[0], g.size[1], len(g.ACTIONS)))\n",
    "pi.fill(0.25)\n",
    "policy_eval(V, pi)\n",
    "\n",
    "print(V)"
   ]
  },
  {
   "attachments": {},
   "cell_type": "markdown",
   "metadata": {},
   "source": [
    "# Policy Iteration"
   ]
  },
  {
   "cell_type": "code",
   "execution_count": 6,
   "metadata": {},
   "outputs": [
    {
     "name": "stdout",
     "output_type": "stream",
     "text": [
      "[[-10.    24.42 -10.    18.45 -10.  ]\n",
      " [ -9.    21.98  -9.    16.61  -9.  ]\n",
      " [ -8.1   19.78  -8.1   14.94  -8.1 ]\n",
      " [ -7.29  17.8   -7.29  13.45  -7.29]\n",
      " [ -6.56  16.02  -6.56  12.11  -6.56]]\n"
     ]
    }
   ],
   "source": [
    "\n",
    "\n",
    "def policy_eval(V=None, pi=None, theta=1e-4, gamma=0.9, inplace=True):\n",
    "    newV = V if inplace else np.zeros_like(V)\n",
    "    while True:\n",
    "        delta=0\n",
    "        for i in range(g.size[0]):\n",
    "            for j in range(g.size[1]):\n",
    "                s = (i, j) \n",
    "                v = newV[s]\n",
    "                s_, r = g.transition(s, g.ACTIONS[pi[s]])\n",
    "                newV[s] = r + gamma*V[s_]\n",
    "                delta = max(delta, np.abs(v-newV[s]))\n",
    "        if delta < theta: \n",
    "            return np.round(newV, decimals=2, out=newV)\n",
    "\n",
    "V = np.zeros(g.size)\n",
    "pi = np.zeros(g.size, dtype=int)\n",
    "policy_eval(V, pi)\n",
    "\n",
    "print(V)"
   ]
  },
  {
   "cell_type": "code",
   "execution_count": 7,
   "metadata": {},
   "outputs": [
    {
     "name": "stdout",
     "output_type": "stream",
     "text": [
      "[[-10.    24.42 -10.    18.45 -10.  ]\n",
      " [ -9.    21.98  -9.    16.61  -9.  ]\n",
      " [ -8.1   19.78  -8.1   14.94  -8.1 ]\n",
      " [ -7.29  17.8   -7.29  13.45  -7.29]\n",
      " [ -6.56  16.02  -6.56  12.11  -6.56]]\n"
     ]
    },
    {
     "data": {
      "text/plain": [
       "array([[2, 0, 3, 0, 3],\n",
       "       [2, 0, 3, 0, 3],\n",
       "       [2, 0, 3, 0, 3],\n",
       "       [2, 0, 3, 0, 3],\n",
       "       [2, 0, 3, 0, 3]])"
      ]
     },
     "execution_count": 7,
     "metadata": {},
     "output_type": "execute_result"
    }
   ],
   "source": [
    "def policy_iteration(V, pi):\n",
    "    bellman_expectation_for_action = lambda V, s_, r, p_s=1, gamma=0.9: p_s*(r + gamma*V[s_])              \n",
    "\n",
    "    policy_stable = False\n",
    "    while not policy_stable:\n",
    "        policy_eval(V, pi)\n",
    "        for i in range(g.size[0]):\n",
    "            for j in range(g.size[1]):\n",
    "                s = (i,j)\n",
    "                old_action = pi[s]\n",
    "                acts = [bellman_expectation_for_action(V, *g.transition(s, a)) for a in g.ACTIONS]\n",
    "                pi[s] = np.argmax(acts)\n",
    "                if old_action == pi[s]:\n",
    "                    policy_stable = True\n",
    "    return V, pi\n",
    "\n",
    "V = np.zeros(g.size)\n",
    "pi = np.zeros(g.size, dtype=int)\n",
    "policy_iteration(V, pi)\n",
    "print(V)\n",
    "pi"
   ]
  },
  {
   "cell_type": "code",
   "execution_count": 8,
   "metadata": {},
   "outputs": [
    {
     "name": "stdout",
     "output_type": "stream",
     "text": [
      "→ ↑ ← ↑ ←\n",
      "→ ↑ ← ↑ ←\n",
      "→ ↑ ← ↑ ←\n",
      "→ ↑ ← ↑ ←\n",
      "→ ↑ ← ↑ ←\n"
     ]
    }
   ],
   "source": [
    "def print_policy(policy):\n",
    "    maps = {g.west:\"\\u2190\", g.north:\"\\u2191\", g.east:\"\\u2192\", g.south:\"\\u2193\"}\n",
    "    row = [[maps[g.ACTIONS[i]] for i in line] for line in policy]\n",
    "    render = [' '.join(line) for line in row]\n",
    "    print('\\n'.join(render))\n",
    "    \n",
    "print_policy(pi)"
   ]
  },
  {
   "cell_type": "code",
   "execution_count": 9,
   "metadata": {},
   "outputs": [
    {
     "name": "stdout",
     "output_type": "stream",
     "text": [
      "[[21.98 24.42 21.98 19.42 17.48]\n",
      " [19.78 21.98 19.78 17.8  16.02]\n",
      " [17.8  19.78 17.8  16.02 14.42]\n",
      " [16.02 17.8  16.02 14.42 12.98]\n",
      " [14.42 16.02 14.42 12.98 11.68]]\n",
      "[[2 0 3 0 3]\n",
      " [0 0 0 3 3]\n",
      " [0 0 0 0 0]\n",
      " [0 0 0 0 0]\n",
      " [0 0 0 0 0]]\n",
      "→ ↑ ← ↑ ←\n",
      "↑ ↑ ↑ ← ←\n",
      "↑ ↑ ↑ ↑ ↑\n",
      "↑ ↑ ↑ ↑ ↑\n",
      "↑ ↑ ↑ ↑ ↑\n"
     ]
    }
   ],
   "source": [
    "V = np.zeros(g.size)\n",
    "pi = np.zeros(g.size, dtype=int)\n",
    "\n",
    "for _ in range(100):\n",
    "    policy_iteration(V, pi)\n",
    "    # print(V)\n",
    "    # print(pi)\n",
    "    # print_policy(pi)\n",
    "\n",
    "print(V)\n",
    "print(pi)\n",
    "print_policy(pi)"
   ]
  },
  {
   "cell_type": "code",
   "execution_count": null,
   "metadata": {},
   "outputs": [],
   "source": []
  }
 ],
 "metadata": {
  "kernelspec": {
   "display_name": "base",
   "language": "python",
   "name": "python3"
  },
  "language_info": {
   "codemirror_mode": {
    "name": "ipython",
    "version": 3
   },
   "file_extension": ".py",
   "mimetype": "text/x-python",
   "name": "python",
   "nbconvert_exporter": "python",
   "pygments_lexer": "ipython3",
   "version": "3.9.5 (default, May 18 2021, 14:42:02) [MSC v.1916 64 bit (AMD64)]"
  },
  "orig_nbformat": 4,
  "vscode": {
   "interpreter": {
    "hash": "19d1d53a962d236aa061289c2ac16dc8e6d9648c89fe79f459ae9a3493bc67b4"
   }
  }
 },
 "nbformat": 4,
 "nbformat_minor": 2
}
