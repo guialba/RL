{
 "cells": [
  {
   "cell_type": "code",
   "execution_count": 1,
   "metadata": {},
   "outputs": [
    {
     "name": "stdout",
     "output_type": "stream",
     "text": [
      "-------------------------------\n",
      "| 0,0 | 1,0 | 2,0 | 3,0 | 4,0 | \n",
      "-------------------------------\n",
      "| 0,1 | 1,1 | 2,1 | 3,1 | 4,1 | \n",
      "-------------------------------\n",
      "| 0,2 | 1,2 | 2,2 | 3,2 | 4,2 | \n",
      "-------------------------------\n",
      "| 0,3 | 1,3 | 2,3 | 3,3 | 4,3 | \n",
      "-------------------------------\n",
      "| 0,4 | 1,4 | 2,4 | 3,4 | 4,4 | \n",
      "-------------------------------\n"
     ]
    }
   ],
   "source": [
    "import numpy as np\n",
    "from grid import Grid\n",
    "\n",
    "g = Grid()\n",
    "g.print()"
   ]
  },
  {
   "cell_type": "code",
   "execution_count": 2,
   "metadata": {},
   "outputs": [],
   "source": [
    "e_star = 0.3"
   ]
  },
  {
   "attachments": {},
   "cell_type": "markdown",
   "metadata": {},
   "source": [
    "# Q-Learning"
   ]
  },
  {
   "cell_type": "code",
   "execution_count": 3,
   "metadata": {},
   "outputs": [
    {
     "name": "stdout",
     "output_type": "stream",
     "text": [
      "Steps: 227\n",
      "Rewards: -21\n"
     ]
    }
   ],
   "source": [
    "from actors import QLearning\n",
    "\n",
    "q = QLearning(g)\n",
    "q.run(epsilon=e_star)\n",
    "\n",
    "print('Steps:', q.steps)\n",
    "print('Rewards:', q.totalReward)"
   ]
  },
  {
   "cell_type": "code",
   "execution_count": 4,
   "metadata": {},
   "outputs": [
    {
     "name": "stdout",
     "output_type": "stream",
     "text": [
      "Episodes: 1999\n",
      "Steps: 9\n",
      "Rewards: 9\n"
     ]
    }
   ],
   "source": [
    "for episodes in range(2000):\n",
    "    q.resetCount()\n",
    "    q.run(epsilon=e_star)\n",
    "\n",
    "print('Episodes:', episodes)\n",
    "print('Steps:', q.steps)\n",
    "print('Rewards:', q.totalReward)"
   ]
  },
  {
   "cell_type": "code",
   "execution_count": 5,
   "metadata": {},
   "outputs": [
    {
     "data": {
      "image/png": "[encoded data removed]",
      "text/plain": [
       "<Figure size 432x288 with 1 Axes>"
      ]
     },
     "metadata": {
      "needs_background": "light"
     },
     "output_type": "display_data"
    }
   ],
   "source": [
    "q.plot()"
   ]
  },
  {
   "cell_type": "code",
   "execution_count": 6,
   "metadata": {},
   "outputs": [
    {
     "data": {
      "text/plain": [
       "<AxesSubplot: >"
      ]
     },
     "execution_count": 6,
     "metadata": {},
     "output_type": "execute_result"
    },
    {
     "data": {
      "image/png": "[encoded data removed]",
      "text/plain": [
       "<Figure size 432x288 with 1 Axes>"
      ]
     },
     "metadata": {
      "needs_background": "light"
     },
     "output_type": "display_data"
    }
   ],
   "source": [
    "from plot import plotTrajectory\n",
    "plotTrajectory(q.getTrajectory(), q.g)"
   ]
  },
  {
   "attachments": {},
   "cell_type": "markdown",
   "metadata": {},
   "source": [
    "# $\\mathcal{L}$($\\pi_i$|$\\xi$)"
   ]
  },
  {
   "cell_type": "code",
   "execution_count": 7,
   "metadata": {},
   "outputs": [
    {
     "data": {
      "text/plain": [
       "array([[[0.075, 0.075, 0.775, 0.075],\n",
       "        [0.775, 0.075, 0.075, 0.075],\n",
       "        [0.775, 0.075, 0.075, 0.075],\n",
       "        [0.075, 0.775, 0.075, 0.075],\n",
       "        [0.775, 0.075, 0.075, 0.075]],\n",
       "\n",
       "       [[0.075, 0.075, 0.775, 0.075],\n",
       "        [0.775, 0.075, 0.075, 0.075],\n",
       "        [0.775, 0.075, 0.075, 0.075],\n",
       "        [0.775, 0.075, 0.075, 0.075],\n",
       "        [0.775, 0.075, 0.075, 0.075]],\n",
       "\n",
       "       [[0.075, 0.075, 0.775, 0.075],\n",
       "        [0.775, 0.075, 0.075, 0.075],\n",
       "        [0.775, 0.075, 0.075, 0.075],\n",
       "        [0.775, 0.075, 0.075, 0.075],\n",
       "        [0.075, 0.075, 0.775, 0.075]],\n",
       "\n",
       "       [[0.775, 0.075, 0.075, 0.075],\n",
       "        [0.775, 0.075, 0.075, 0.075],\n",
       "        [0.775, 0.075, 0.075, 0.075],\n",
       "        [0.075, 0.075, 0.075, 0.775],\n",
       "        [0.075, 0.075, 0.075, 0.775]],\n",
       "\n",
       "       [[0.075, 0.075, 0.775, 0.075],\n",
       "        [0.075, 0.075, 0.775, 0.075],\n",
       "        [0.075, 0.775, 0.075, 0.075],\n",
       "        [0.775, 0.075, 0.075, 0.075],\n",
       "        [0.775, 0.075, 0.075, 0.075]]])"
      ]
     },
     "execution_count": 7,
     "metadata": {},
     "output_type": "execute_result"
    }
   ],
   "source": [
    "def generatePi(agent, e=0.1):\n",
    "    # if not(0 < e < 1):\n",
    "    #     return -np.inf\n",
    "    p_a = lambda a, s: (e/4, 1-e+e/4)[a == max(agent.Q[s], key=agent.Q[s].get)] if 0 < e < 1 else 1e-10\n",
    "    pi = np.array([[p_a(a, s) for a in agent.g.ACTIONS] for s in agent.g.S])\n",
    "    return pi.reshape(agent.g.size[0], agent.g.size[1], len(agent.g.ACTIONS), order='F')\n",
    "\n",
    "pi_star = generatePi(q, e_star)\n",
    "pi_star"
   ]
  },
  {
   "cell_type": "code",
   "execution_count": 8,
   "metadata": {},
   "outputs": [
    {
     "data": {
      "text/plain": [
       "-4.629405162476148"
      ]
     },
     "execution_count": 8,
     "metadata": {},
     "output_type": "execute_result"
    }
   ],
   "source": [
    "def likelihood(pi, e):\n",
    "    arr = [np.log(pi[x,y][a]) for (x,y), a in e]\n",
    "    return np.sum(arr)\n",
    "\n",
    "likelihood(pi_star, q.getTrajectory(2))"
   ]
  },
  {
   "attachments": {},
   "cell_type": "markdown",
   "metadata": {},
   "source": [
    "## Teste de Sanidade"
   ]
  },
  {
   "cell_type": "code",
   "execution_count": 9,
   "metadata": {},
   "outputs": [
    {
     "name": "stdout",
     "output_type": "stream",
     "text": [
      "Maior: 3\n",
      " [-10.483095649996914, -7.6984931046385885, -5.839470575645721, -4.629405162476148]\n"
     ]
    }
   ],
   "source": [
    "es = [0.9, 0.7, 0.5] + [e_star] # e_star = 0.3\n",
    "\n",
    "pis = [generatePi(q, e) for e in es] \n",
    "\n",
    "likes = [likelihood(pi, q.getTrajectory(2)) for pi in pis]\n",
    "p = np.argmax(likes)\n",
    "print(f'Maior: {p}\\n', likes)"
   ]
  },
  {
   "attachments": {},
   "cell_type": "markdown",
   "metadata": {},
   "source": [
    "### Certeza? "
   ]
  },
  {
   "cell_type": "code",
   "execution_count": 10,
   "metadata": {},
   "outputs": [
    {
     "name": "stdout",
     "output_type": "stream",
     "text": [
      "Maior: 1\n",
      " [-10.483095649996914, -4.312571785871631, -5.839470575645721, -4.629405162476148]\n"
     ]
    }
   ],
   "source": [
    "es = [0.9, 0.1, 0.5] + [e_star] # e_star = 0.3\n",
    "pis = [generatePi(q, e) for e in es]\n",
    "\n",
    "likes = [likelihood(pi, q.getTrajectory(2)) for pi in pis]\n",
    "p = np.argmax(likes)\n",
    "\n",
    "print(f'Maior: {p}\\n', likes)"
   ]
  },
  {
   "cell_type": "code",
   "execution_count": 11,
   "metadata": {},
   "outputs": [
    {
     "data": {
      "text/plain": [
       "<AxesSubplot: >"
      ]
     },
     "execution_count": 11,
     "metadata": {},
     "output_type": "execute_result"
    },
    {
     "data": {
      "image/png": "[encoded data removed]",
      "text/plain": [
       "<Figure size 432x288 with 1 Axes>"
      ]
     },
     "metadata": {
      "needs_background": "light"
     },
     "output_type": "display_data"
    }
   ],
   "source": [
    "from plot import plotPolicy\n",
    "plotPolicy(pis[p], q.g)"
   ]
  },
  {
   "attachments": {},
   "cell_type": "markdown",
   "metadata": {},
   "source": [
    "### Com muitas trajetórias:"
   ]
  },
  {
   "cell_type": "code",
   "execution_count": 12,
   "metadata": {},
   "outputs": [
    {
     "name": "stdout",
     "output_type": "stream",
     "text": [
      "1\n",
      "[-10490.08242082  -4381.17922621  -5870.04989598  -4673.77728588]\n"
     ]
    }
   ],
   "source": [
    "from actors import QLearning\n",
    "\n",
    "agent = QLearning(g)\n",
    "es = [0.9, 0.1, 0.5]+[e_star] # e_star = 0.3\n",
    "\n",
    "def teste():\n",
    "    agent.resetCount()\n",
    "    agent.run(epsilon=e_star)\n",
    "\n",
    "    pis = [generatePi(agent, e) for e in es] \n",
    "    likes = np.array([likelihood(pi, q.getTrajectory(2)) for pi in pis])\n",
    "    return likes\n",
    "\n",
    "\n",
    "total_episodes = 1000\n",
    "exps = [teste() for _ in range(total_episodes)]\n",
    "freq = [np.mean([int(np.argmax(v)==i) for v in exps])for i in range(len(es))]\n",
    "print(np.argmax(np.sum(exps, axis=0)))\n",
    "print(np.sum(exps, axis=0))\n",
    "# print(freq)\n"
   ]
  },
  {
   "attachments": {},
   "cell_type": "markdown",
   "metadata": {},
   "source": [
    "## Gradiente Descendente"
   ]
  },
  {
   "cell_type": "code",
   "execution_count": 13,
   "metadata": {},
   "outputs": [
    {
     "name": "stdout",
     "output_type": "stream",
     "text": [
      "estimative (0.14819488077830387, 4, 4.017189274563293e-07)\n"
     ]
    },
    {
     "data": {
      "text/plain": [
       "[(0.7264957264957265, 1, 2.47986956890381),\n",
       " (0.5462892990767233, 2, 1.7950999078802692),\n",
       " (0.3736547103834905, 3, 1.2066975435745313),\n",
       " (0.22472837344510174, 4, 0.6456343097393242),\n",
       " (0.13611062432190713, 5, 0.11379179142748175),\n",
       " (0.13611062432190713, 6, 0.00030367201797165677),\n",
       " (0.15734665976776285, 7, 0.0018078432807024925),\n",
       " (0.14109805334717085, 8, 0.0007829816103850362),\n",
       " (0.14109805334717085, 9, 0.00040734553178811694),\n",
       " (0.15477811495863633, 10, 0.00021243551195926358),\n",
       " (0.14172781064584705, 11, 1.4052281732901406e-05)]"
      ]
     },
     "execution_count": 13,
     "metadata": {},
     "output_type": "execute_result"
    }
   ],
   "source": [
    "import random \n",
    "\n",
    "def gradient(pi,agent):\n",
    "    # 1/pi(a|s) * dpi(a|s)/de \n",
    "    arr = [1/pi[x,y,a] * (.25, -.75)[agent.g.ACTIONS[a]==max(agent.Q[(x,y)], key=agent.Q[(x,y)].get)] for (x,y),a in agent.getTrajectory(2)]\n",
    "    return np.sum(arr)\n",
    "\n",
    "\n",
    "def GradientDescent(agent, param=None, learning_rate=.01, decay=.9, precision=1e-4, max_trials=10000):\n",
    "    \"\"\"\n",
    "        Leaning Rate is changed with a Time-based learning schedule\n",
    "    \"\"\"\n",
    "    if param is None:\n",
    "        param = random.random()\n",
    "\n",
    "    error = 1+precision\n",
    "    trials = 0\n",
    "\n",
    "    pi = generatePi(agent, param)\n",
    "    l = likelihood(pi, agent.getTrajectory(2))\n",
    "    while (error > precision) and (trials <= max_trials):\n",
    "        trials += 1\n",
    "        new_param = param + learning_rate * gradient(pi, agent)\n",
    "        new_pi = generatePi(agent, new_param)\n",
    "        new_l = likelihood(new_pi, agent.getTrajectory(2))\n",
    "        error = np.abs(new_l - l)\n",
    "        if new_l >= l:\n",
    "            # learning_rate += (learning_rate * 0.2) 1 \n",
    "            learning_rate += learning_rate / (1+decay*trials)\n",
    "            pi = new_pi\n",
    "            l = new_l\n",
    "            param = new_param\n",
    "        else:\n",
    "            # learning_rate -= (learning_rate * 0.2) 0.5\n",
    "            learning_rate -= learning_rate / (1+decay*trials)\n",
    "            \n",
    "        yield param, trials, error\n",
    "\n",
    "def execute(f, all=False):\n",
    "    result = [(param, trial, error) for param, trial, error  in f]\n",
    "    return result if all else result[-1]\n",
    "        \n",
    "\n",
    "print('estimative', execute(GradientDescent(q)))\n",
    "data = execute(GradientDescent(q, param=0.9), True)\n",
    "data#[-1][0]"
   ]
  },
  {
   "cell_type": "code",
   "execution_count": 14,
   "metadata": {},
   "outputs": [
    {
     "data": {
      "text/plain": [
       "Text(0.5, 0, 'trial')"
      ]
     },
     "execution_count": 14,
     "metadata": {},
     "output_type": "execute_result"
    },
    {
     "data": {
      "image/png": "[encoded data removed]",
      "text/plain": [
       "<Figure size 720x720 with 2 Axes>"
      ]
     },
     "metadata": {
      "needs_background": "light"
     },
     "output_type": "display_data"
    }
   ],
   "source": [
    "import matplotlib.pyplot as plt\n",
    "\n",
    "fig, axs = plt.subplots(2,1, figsize=(10,10))\n",
    "\n",
    "axs[0].plot([item[1] for item in data], [item[0] for item in data], linewidth=1, marker='o')\n",
    "axs[0].plot([item[1] for item in data], [e_star for _ in range(len(data))], linewidth=1, linestyle='dashed', color='red')\n",
    "axs[0].text(.85, e_star-1e-3, 'e*', color='red')\n",
    "axs[0].set_title(f'param estimative per trial')\n",
    "axs[0].set_ylabel('param')\n",
    "axs[0].set_xlabel('trial')\n",
    "\n",
    "\n",
    "axs[1].plot([item[1] for item in data], [item[2] for item in data], linewidth=1, marker='o')\n",
    "axs[1].set_title(f'erro per trial')\n",
    "axs[1].set_ylabel('erro')\n",
    "axs[1].set_xlabel('trial')"
   ]
  },
  {
   "cell_type": "code",
   "execution_count": 15,
   "metadata": {},
   "outputs": [
    {
     "name": "stdout",
     "output_type": "stream",
     "text": [
      "[(8, 2.84434320058243e-07), (9, 0.1476560958396132), (10, 0.14464747536615313), (10, 0.2665386142866743), (11, 0.23947819915203059), (11, 0.2397467312301795), (12, 0.33329371463586893), (12, 0.44445503744399956), (14, 0.3809329462895003), (14, 0.38095138190282973), (21, 0.5080152191698386), (25, 0.4265691484061314), (34, 0.3932723717864414), (69, 0.4437637308839688), (76, 0.24995211569363324), (88, 0.2225666867245329), (97, 0.20074012435622568), (158, 0.2911502263976726), (306, 0.27731635526381526), (657, 0.3274633296156588)]\n"
     ]
    },
    {
     "data": {
      "text/plain": [
       "[0.08999982933948887,\n",
       " 0.023208665134829116,\n",
       " 0.024134406910109995,\n",
       " 0.0011196643338559564,\n",
       " 0.00366288837788127,\n",
       " 0.0036304563974482243,\n",
       " 0.0011084714342546739,\n",
       " 0.020867257842947316,\n",
       " 0.006550141795099143,\n",
       " 0.006553126231977791,\n",
       " 0.043270331406275994,\n",
       " 0.01601974932825332,\n",
       " 0.008699735338668156,\n",
       " 0.02066801031767821,\n",
       " 0.0025047907235434715,\n",
       " 0.005995918004816629,\n",
       " 0.009852522912817541,\n",
       " 7.831849281245116e-05,\n",
       " 0.0005145477385174411,\n",
       " 0.0007542344735783238]"
      ]
     },
     "execution_count": 15,
     "metadata": {},
     "output_type": "execute_result"
    },
    {
     "data": {
      "image/png": "[encoded data removed]",
      "text/plain": [
       "<Figure size 720x360 with 1 Axes>"
      ]
     },
     "metadata": {
      "needs_background": "light"
     },
     "output_type": "display_data"
    }
   ],
   "source": [
    "from actors import QLearning\n",
    "\n",
    "agent = QLearning(g)\n",
    "\n",
    "def teste():\n",
    "    agent.resetCount()\n",
    "    agent.run(epsilon=e_star)\n",
    "\n",
    "    return len(agent.trajectory), execute(GradientDescent(agent))[0]\n",
    "\n",
    "\n",
    "total_episodes = 20\n",
    "exps = sorted([teste() for _ in range(total_episodes)])\n",
    "print(exps)\n",
    "\n",
    "fig, axs = plt.subplots(1,1, figsize=(10,5))\n",
    "\n",
    "axs.plot([item[0] for item in exps], [(e_star-item[1])**2 for item in exps], linewidth=1, marker='o')\n",
    "axs.set_title(f'estimative error per size of trajectory')\n",
    "axs.set_ylabel('erro')\n",
    "axs.set_xlabel('size of trajectory')\n",
    "\n",
    "[(e_star-item[1])**2 for item in exps]"
   ]
  },
  {
   "attachments": {},
   "cell_type": "markdown",
   "metadata": {},
   "source": [
    "## Gerador de Trajetórias"
   ]
  },
  {
   "cell_type": "code",
   "execution_count": 16,
   "metadata": {},
   "outputs": [],
   "source": [
    "def generatePi(g, q_values,  e=0.1):\n",
    "    p_a = lambda a, s: (e/4, 1-e+e/4)[a == max(q_values[s], key=q_values[s].get)] if 0 < e < 1 else 1e-10\n",
    "    pi = np.array([[p_a(a, s) for a in g.ACTIONS] for s in g.S])\n",
    "    return pi.reshape(g.size[0], g.size[1], len(g.ACTIONS), order='F')\n"
   ]
  },
  {
   "cell_type": "code",
   "execution_count": 17,
   "metadata": {},
   "outputs": [
    {
     "name": "stdout",
     "output_type": "stream",
     "text": [
      "estimative (0.15348569836839793, 6, 2.5127541526615005e-05)\n"
     ]
    }
   ],
   "source": [
    "import random \n",
    "\n",
    "def gradient(pi, trajectory, q_values, g):\n",
    "    # 1/pi(a|s) * dpi(a|s)/de \n",
    "    arr = [1/pi[x,y,a] * (.25, -.75)[g.ACTIONS[a]==max(q_values[(x,y)], key=q_values[(x,y)].get)] for (x,y),a in trajectory]\n",
    "    return np.sum(arr)\n",
    "\n",
    "\n",
    "def GradientDescent(trajectory, q_values, g, param=None, learning_rate=.01, decay=.9, precision=1e-4, max_trials=10000):\n",
    "    \"\"\"\n",
    "        Leaning Rate is changed with a Time-based learning schedule\n",
    "    \"\"\"\n",
    "    if param is None:\n",
    "        param = random.random()\n",
    "\n",
    "    error = 1+precision\n",
    "    trials = 0\n",
    "\n",
    "    pi = generatePi(g, q_values, param)\n",
    "    l = likelihood(pi, trajectory)\n",
    "    while (error > precision) and (trials <= max_trials):\n",
    "        trials += 1\n",
    "        new_param = param + learning_rate * gradient(pi, trajectory, q_values, g)\n",
    "        new_pi = generatePi(g, q_values, new_param)\n",
    "        new_l = likelihood(new_pi, trajectory)\n",
    "        error = np.abs(new_l - l)\n",
    "        if new_l >= l:\n",
    "            # learning_rate += (learning_rate * 0.2) \n",
    "            learning_rate += learning_rate / (1+decay*trials)\n",
    "            pi = new_pi\n",
    "            l = new_l\n",
    "            param = new_param\n",
    "        else:\n",
    "            # learning_rate -= (learning_rate * 0.2)\n",
    "            learning_rate -= learning_rate / (1+decay*trials)\n",
    "            \n",
    "        yield param, trials, error\n",
    "\n",
    "def execute(f, all=False):\n",
    "    result = [(param, trial, error) for param, trial, error  in f]\n",
    "    return result if all else result[-1]\n",
    "        \n",
    "\n",
    "print('estimative', execute(GradientDescent(q.getTrajectory(2), q.Q, g)))"
   ]
  },
  {
   "cell_type": "code",
   "execution_count": 18,
   "metadata": {},
   "outputs": [
    {
     "data": {
      "text/plain": [
       "[((0, 0), (1, 0)),\n",
       " ((1, 0), (1, 0)),\n",
       " ((2, 0), (1, 0)),\n",
       " ((3, 0), (0, -1)),\n",
       " ((4, 0), (1, 0)),\n",
       " ((4, 1), (-1, 0)),\n",
       " ((4, 0), (0, -1)),\n",
       " ((4, 0), (1, 0)),\n",
       " ((4, 1), (0, 1)),\n",
       " ((3, 1), (0, -1))]"
      ]
     },
     "execution_count": 18,
     "metadata": {},
     "output_type": "execute_result"
    }
   ],
   "source": [
    "import random\n",
    "def generateTrajetory(pi, g,  kind=0, size=10):\n",
    "    s = (0,0)\n",
    "\n",
    "    arr = []\n",
    "    for t in range(size):\n",
    "        a  = random.choices(g.ACTIONS, pi[s], k=1)[0]\n",
    "        if kind in ['values', 0]:\n",
    "            step =  (s, a)\n",
    "        elif kind in ['indexes', 1]:\n",
    "            step =  (g.S.index(s), g.ACTIONS.index(a))\n",
    "        elif kind in ['states values', 2]:\n",
    "            step =  (s, g.ACTIONS.index(a))\n",
    "        elif kind in ['action values', 3]:\n",
    "            step =  (g.S.index(s), a)\n",
    "\n",
    "        s,_,_ = g.transition(s,  a)\n",
    "\n",
    "        arr.append(step)\n",
    "\n",
    "    return arr\n",
    "\n",
    "trajectory = generateTrajetory(pi_star, g)\n",
    "trajectory"
   ]
  },
  {
   "cell_type": "code",
   "execution_count": 19,
   "metadata": {},
   "outputs": [
    {
     "data": {
      "text/plain": [
       "Text(0.5, 0, 'size of trajectory')"
      ]
     },
     "execution_count": 19,
     "metadata": {},
     "output_type": "execute_result"
    },
    {
     "data": {
      "image/png": "[encoded data removed]",
      "text/plain": [
       "<Figure size 720x360 with 1 Axes>"
      ]
     },
     "metadata": {
      "needs_background": "light"
     },
     "output_type": "display_data"
    }
   ],
   "source": [
    "fig, axs = plt.subplots(1,1, figsize=(10,5))\n",
    "\n",
    "exps = [execute(GradientDescent(generateTrajetory(pi_star, g, 2, t), q.Q, g))[0] for t in range(100)]\n",
    "x = [i for i in range(len(exps))]\n",
    "y = [(e_star-item)**2 for item in exps]\n",
    "\n",
    "\n",
    "axs.plot(x,y, linewidth=1, marker='o')\n",
    "axs.set_title(f'estimative error per size of trajectory')\n",
    "axs.set_ylabel('erro')\n",
    "axs.set_xlabel('size of trajectory')\n",
    "\n",
    "# [(e_star-item[1])**2 for item in exps]\n",
    "# exps"
   ]
  },
  {
   "cell_type": "code",
   "execution_count": 35,
   "metadata": {},
   "outputs": [
    {
     "data": {
      "text/plain": [
       "Text(0.5, 0, 'size of trajectory')"
      ]
     },
     "execution_count": 35,
     "metadata": {},
     "output_type": "execute_result"
    },
    {
     "data": {
      "image/png": "[encoded data removed]",
      "text/plain": [
       "<Figure size 720x360 with 1 Axes>"
      ]
     },
     "metadata": {
      "needs_background": "light"
     },
     "output_type": "display_data"
    }
   ],
   "source": [
    "fig, axs = plt.subplots(1,1, figsize=(10,5))\n",
    "\n",
    "n = 100\n",
    "trajectory_size = 30\n",
    "x = [n+1 for n in range(trajectory_size)]\n",
    "\n",
    "sums = np.zeros(trajectory_size, dtype='float64')\n",
    "\n",
    "for i in range(n):\n",
    "    exps = np.array([execute(GradientDescent(generateTrajetory(pi_star, g, 2, t+1), q.Q, g))[0] for t in range(trajectory_size)])\n",
    "    sums += (e_star-exps)**2\n",
    "    \n",
    "y = sums/trajectory_size\n",
    "\n",
    "axs.plot(x,y, linewidth=1, marker='o')\n",
    "axs.set_title(f'estimative error per size of trajectory')\n",
    "axs.set_ylabel('erro')\n",
    "axs.set_xlabel('size of trajectory')\n",
    "\n",
    "# [(e_star-item[1])**2 for item in exps]\n",
    "# exps"
   ]
  },
  {
   "attachments": {},
   "cell_type": "markdown",
   "metadata": {},
   "source": [
    "### Muitas Trajetórias de Tamanho Fixo  "
   ]
  },
  {
   "cell_type": "code",
   "execution_count": 36,
   "metadata": {},
   "outputs": [
    {
     "name": "stdout",
     "output_type": "stream",
     "text": [
      "3\n",
      "[-12072.93304307  -8965.56632266  -8348.63203995  -7843.21743045]\n"
     ]
    }
   ],
   "source": [
    "es = [0.9, 0.1, 0.5]+[e_star] # e_star = 0.3\n",
    "\n",
    "def teste():\n",
    "    trajectory = generateTrajetory(pi_star, g, 2, 10)\n",
    "    # execute(GradientDescent(trajectory, q.Q, g))[0]\n",
    "    pis = [generatePi(g, q.Q, e) for e in es] \n",
    "    likes = np.array([likelihood(pi, trajectory) for pi in pis])\n",
    "    return likes\n",
    "\n",
    "\n",
    "total_episodes = 1000\n",
    "exps = [teste() for _ in range(total_episodes)]\n",
    "freq = [np.mean([int(np.argmax(v)==i) for v in exps])for i in range(len(es))]\n",
    "print(np.argmax(np.sum(exps, axis=0)))\n",
    "print(np.sum(exps, axis=0))\n",
    "# print(freq)\n"
   ]
  }
 ],
 "metadata": {
  "kernelspec": {
   "display_name": "base",
   "language": "python",
   "name": "python3"
  },
  "language_info": {
   "codemirror_mode": {
    "name": "ipython",
    "version": 3
   },
   "file_extension": ".py",
   "mimetype": "text/x-python",
   "name": "python",
   "nbconvert_exporter": "python",
   "pygments_lexer": "ipython3",
   "version": "3.9.5"
  },
  "orig_nbformat": 4,
  "vscode": {
   "interpreter": {
    "hash": "19d1d53a962d236aa061289c2ac16dc8e6d9648c89fe79f459ae9a3493bc67b4"
   }
  }
 },
 "nbformat": 4,
 "nbformat_minor": 2
}
