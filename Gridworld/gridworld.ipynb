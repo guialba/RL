{
 "cells": [
  {
   "cell_type": "code",
   "execution_count": 1,
   "metadata": {},
   "outputs": [
    {
     "name": "stdout",
     "output_type": "stream",
     "text": [
      "---------------------\n",
      "| ↑ | ↑ | ↑ | ↑ | ↑ | \n",
      "---------------------\n",
      "| ↑ | ↑ | ↑ | ↑ | ↑ | \n",
      "---------------------\n",
      "| ↑ | ↑ | ↑ | ↑ | ↑ | \n",
      "---------------------\n",
      "| ↑ | ↑ | ↑ | ↑ | ↑ | \n",
      "---------------------\n",
      "| ↑ | ↑ | ↑ | ↑ | ↑ | \n",
      "---------------------\n"
     ]
    }
   ],
   "source": [
    "import numpy as np\n",
    "from mdp import Grid\n",
    "\n",
    "g = Grid()\n",
    "g.print('policy')"
   ]
  },
  {
   "attachments": {},
   "cell_type": "markdown",
   "metadata": {},
   "source": [
    "# Transitions Tests"
   ]
  },
  {
   "cell_type": "code",
   "execution_count": 2,
   "metadata": {},
   "outputs": [
    {
     "name": "stdout",
     "output_type": "stream",
     "text": [
      "---------------------\n",
      "| 0 | 0 | 0 | 0 | 0 | \n",
      "---------------------\n",
      "| 0 | 0 | 0 | 0 | 0 | \n",
      "---------------------\n",
      "| 0 | 0 | 0 | 0 | 0 | \n",
      "---------------------\n",
      "| 0 | 0 | 0 | 0 | 0 | \n",
      "---------------------\n",
      "| 0 | 0 | 0 | 0 | 0 | \n",
      "---------------------\n",
      "\n",
      "1\n",
      "----------------------\n",
      "| 0 | 10 | 0 | 0 | 0 | \n",
      "---------------------\n",
      "| 0 | 0 | 0 | 0 | 0 | \n",
      "---------------------\n",
      "| 0 | 0 | 0 | 0 | 0 | \n",
      "---------------------\n",
      "| 0 | 0 | 0 | 0 | 0 | \n",
      "---------------------\n",
      "| 0 | 0 | 0 | 0 | 0 | \n",
      "---------------------\n"
     ]
    },
    {
     "name": "stderr",
     "output_type": "stream",
     "text": [
      "c:\\Users\\guilherme.albarrans\\OneDrive - Ame Digital\\Área de Trabalho\\RL\\Gridworld\\mdp.py:98: FutureWarning: elementwise comparison failed; returning scalar instead, but in the future will perform elementwise comparison\n",
      "  if display == 'index':\n",
      "c:\\Users\\guilherme.albarrans\\OneDrive - Ame Digital\\Área de Trabalho\\RL\\Gridworld\\mdp.py:100: FutureWarning: elementwise comparison failed; returning scalar instead, but in the future will perform elementwise comparison\n",
      "  if display == 'policy':\n"
     ]
    }
   ],
   "source": [
    "pos = (0,0)\n",
    "custom_grid = np.array([[0 for _ in range(g.size[0])] for _ in range(g.size[1])])\n",
    "custom_grid[pos] = 0.1\n",
    "g.print(custom_grid)\n",
    "print()\n",
    "\n",
    "s,r =  g.transition(0, 1)\n",
    "custom_grid[tuple(g.STATES[s])] = r+10\n",
    "print(s)\n",
    "g.print(custom_grid)"
   ]
  },
  {
   "cell_type": "code",
   "execution_count": 4,
   "metadata": {},
   "outputs": [
    {
     "name": "stdout",
     "output_type": "stream",
     "text": [
      "---------------------\n",
      "| → | ↑ | ← | ↑ | ← | \n",
      "---------------------\n",
      "| ↑ | ↑ | ↑ | ← | ← | \n",
      "---------------------\n",
      "| ↑ | ↑ | ↑ | ↑ | ← | \n",
      "---------------------\n",
      "| ↑ | ↑ | ↑ | ↑ | ← | \n",
      "---------------------\n",
      "| ↑ | ↑ | ↑ | ↑ | ← | \n",
      "---------------------\n"
     ]
    }
   ],
   "source": [
    "g.policy_iteration()\n",
    "g.print('policy')"
   ]
  },
  {
   "cell_type": "code",
   "execution_count": null,
   "metadata": {},
   "outputs": [],
   "source": []
  }
 ],
 "metadata": {
  "kernelspec": {
   "display_name": "base",
   "language": "python",
   "name": "python3"
  },
  "language_info": {
   "codemirror_mode": {
    "name": "ipython",
    "version": 3
   },
   "file_extension": ".py",
   "mimetype": "text/x-python",
   "name": "python",
   "nbconvert_exporter": "python",
   "pygments_lexer": "ipython3",
   "version": "3.9.5 (default, May 18 2021, 14:42:02) [MSC v.1916 64 bit (AMD64)]"
  },
  "orig_nbformat": 4,
  "vscode": {
   "interpreter": {
    "hash": "19d1d53a962d236aa061289c2ac16dc8e6d9648c89fe79f459ae9a3493bc67b4"
   }
  }
 },
 "nbformat": 4,
 "nbformat_minor": 2
}
