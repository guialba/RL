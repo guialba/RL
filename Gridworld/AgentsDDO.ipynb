{
 "cells": [
  {
   "cell_type": "code",
   "execution_count": 1,
   "metadata": {},
   "outputs": [
    {
     "name": "stdout",
     "output_type": "stream",
     "text": [
      "-------------------------------\n",
      "| 0,0 | 1,0 | 2,0 | 3,0 | 4,0 | \n",
      "-------------------------------\n",
      "| 0,1 | 1,1 | 2,1 | 3,1 | 4,1 | \n",
      "-------------------------------\n",
      "| 0,2 | 1,2 | 2,2 | 3,2 | 4,2 | \n",
      "-------------------------------\n",
      "| 0,3 | 1,3 | 2,3 | 3,3 | 4,3 | \n",
      "-------------------------------\n",
      "| 0,4 | 1,4 | 2,4 | 3,4 | 4,4 | \n",
      "-------------------------------\n"
     ]
    }
   ],
   "source": [
    "import numpy as np\n",
    "from grid import Grid\n",
    "\n",
    "g = Grid()\n",
    "g.print()"
   ]
  },
  {
   "cell_type": "code",
   "execution_count": 2,
   "metadata": {},
   "outputs": [],
   "source": [
    "e_star = 0.3"
   ]
  },
  {
   "attachments": {},
   "cell_type": "markdown",
   "metadata": {},
   "source": [
    "# Q-Learning"
   ]
  },
  {
   "cell_type": "code",
   "execution_count": 3,
   "metadata": {},
   "outputs": [
    {
     "name": "stdout",
     "output_type": "stream",
     "text": [
      "Steps: 198\n",
      "Rewards: -20\n"
     ]
    }
   ],
   "source": [
    "from actors import QLearning\n",
    "\n",
    "q = QLearning(g)\n",
    "q.run(epsilon=e_star)\n",
    "\n",
    "print('Steps:', q.steps)\n",
    "print('Rewards:', q.totalReward)"
   ]
  },
  {
   "cell_type": "code",
   "execution_count": 4,
   "metadata": {},
   "outputs": [
    {
     "name": "stdout",
     "output_type": "stream",
     "text": [
      "Episodes: 1999\n",
      "Steps: 10\n",
      "Rewards: 8\n"
     ]
    }
   ],
   "source": [
    "for episodes in range(2000):\n",
    "    q.resetCount()\n",
    "    q.run(epsilon=e_star)\n",
    "\n",
    "print('Episodes:', episodes)\n",
    "print('Steps:', q.steps)\n",
    "print('Rewards:', q.totalReward)"
   ]
  },
  {
   "cell_type": "code",
   "execution_count": 5,
   "metadata": {},
   "outputs": [
    {
     "data": {
      "image/png": "[encoded data removed]",
      "text/plain": [
       "<Figure size 432x288 with 1 Axes>"
      ]
     },
     "metadata": {
      "needs_background": "light"
     },
     "output_type": "display_data"
    }
   ],
   "source": [
    "q.plot()"
   ]
  },
  {
   "attachments": {},
   "cell_type": "markdown",
   "metadata": {},
   "source": [
    "# $\\mathcal{L}$($\\pi_i$|$\\xi$)"
   ]
  },
  {
   "cell_type": "code",
   "execution_count": 99,
   "metadata": {},
   "outputs": [
    {
     "data": {
      "text/plain": [
       "array([[[0.075, 0.075, 0.775, 0.075],\n",
       "        [0.775, 0.075, 0.075, 0.075],\n",
       "        [0.775, 0.075, 0.075, 0.075],\n",
       "        [0.075, 0.075, 0.775, 0.075],\n",
       "        [0.075, 0.775, 0.075, 0.075]],\n",
       "\n",
       "       [[0.075, 0.075, 0.775, 0.075],\n",
       "        [0.775, 0.075, 0.075, 0.075],\n",
       "        [0.775, 0.075, 0.075, 0.075],\n",
       "        [0.775, 0.075, 0.075, 0.075],\n",
       "        [0.775, 0.075, 0.075, 0.075]],\n",
       "\n",
       "       [[0.075, 0.075, 0.775, 0.075],\n",
       "        [0.775, 0.075, 0.075, 0.075],\n",
       "        [0.775, 0.075, 0.075, 0.075],\n",
       "        [0.775, 0.075, 0.075, 0.075],\n",
       "        [0.075, 0.075, 0.775, 0.075]],\n",
       "\n",
       "       [[0.775, 0.075, 0.075, 0.075],\n",
       "        [0.775, 0.075, 0.075, 0.075],\n",
       "        [0.775, 0.075, 0.075, 0.075],\n",
       "        [0.775, 0.075, 0.075, 0.075],\n",
       "        [0.075, 0.075, 0.075, 0.775]],\n",
       "\n",
       "       [[0.075, 0.075, 0.775, 0.075],\n",
       "        [0.075, 0.075, 0.775, 0.075],\n",
       "        [0.075, 0.775, 0.075, 0.075],\n",
       "        [0.775, 0.075, 0.075, 0.075],\n",
       "        [0.775, 0.075, 0.075, 0.075]]])"
      ]
     },
     "execution_count": 99,
     "metadata": {},
     "output_type": "execute_result"
    }
   ],
   "source": [
    "def generatePi(agent, e=0.1):\n",
    "    # if not(0 < e < 1):\n",
    "    #     return -np.inf\n",
    "    p_a = lambda a, s: (e/4, 1-e+e/4)[a == max(agent.Q[s], key=agent.Q[s].get)] if 0 < e < 1 else 1e-10\n",
    "    pi = np.array([[p_a(a, s) for a in agent.g.ACTIONS] for s in agent.g.S])\n",
    "    return pi.reshape(agent.g.size[0], agent.g.size[1], len(agent.g.ACTIONS), order='F')\n",
    "\n",
    "pi_star = generatePi(q, e_star)\n",
    "pi_star"
   ]
  },
  {
   "cell_type": "code",
   "execution_count": 7,
   "metadata": {},
   "outputs": [
    {
     "data": {
      "text/plain": [
       "<AxesSubplot: >"
      ]
     },
     "execution_count": 7,
     "metadata": {},
     "output_type": "execute_result"
    },
    {
     "data": {
      "image/png": "[encoded data removed]",
      "text/plain": [
       "<Figure size 432x288 with 1 Axes>"
      ]
     },
     "metadata": {
      "needs_background": "light"
     },
     "output_type": "display_data"
    }
   ],
   "source": [
    "from plot import plotTrajectory\n",
    "plotTrajectory(q.getTrajectory(), q.g)"
   ]
  },
  {
   "attachments": {},
   "cell_type": "markdown",
   "metadata": {},
   "source": [
    "## Teste de Sanidade"
   ]
  },
  {
   "cell_type": "code",
   "execution_count": 8,
   "metadata": {},
   "outputs": [
    {
     "name": "stdout",
     "output_type": "stream",
     "text": [
      "Maior: 3\n",
      " [-11.974750526774631, -9.441462409697213, -7.918912117325556, -7.219672327921975]\n"
     ]
    }
   ],
   "source": [
    "es = [0.9, 0.7, 0.5] + [e_star] # e_star = 0.3\n",
    "\n",
    "pis = [generatePi(q, e) for e in es] \n",
    "def likelihood(pi, e):\n",
    "    arr = [np.log(pi[x,y][a]) for (x,y), a in e]\n",
    "    return np.sum(arr)\n",
    "\n",
    "likes = [likelihood(pi, q.getTrajectory(2)) for pi in pis]\n",
    "p = np.argmax(likes)\n",
    "print(f'Maior: {p}\\n', likes)"
   ]
  },
  {
   "attachments": {},
   "cell_type": "markdown",
   "metadata": {},
   "source": [
    "### Certeza? "
   ]
  },
  {
   "cell_type": "code",
   "execution_count": 9,
   "metadata": {},
   "outputs": [
    {
     "name": "stdout",
     "output_type": "stream",
     "text": [
      "Maior: 3\n",
      " [-11.974750526774631, -8.001451239985567, -7.918912117325556, -7.219672327921975]\n"
     ]
    }
   ],
   "source": [
    "es = [0.9, 0.1, 0.5] + [e_star] # e_star = 0.3\n",
    "pis = [generatePi(q, e) for e in es]\n",
    "\n",
    "likes = [likelihood(pi, q.getTrajectory(2)) for pi in pis]\n",
    "p = np.argmax(likes)\n",
    "\n",
    "print(f'Maior: {p}\\n', likes)"
   ]
  },
  {
   "cell_type": "code",
   "execution_count": 10,
   "metadata": {},
   "outputs": [
    {
     "data": {
      "text/plain": [
       "<AxesSubplot: >"
      ]
     },
     "execution_count": 10,
     "metadata": {},
     "output_type": "execute_result"
    },
    {
     "data": {
      "image/png": "[encoded data removed]",
      "text/plain": [
       "<Figure size 432x288 with 1 Axes>"
      ]
     },
     "metadata": {
      "needs_background": "light"
     },
     "output_type": "display_data"
    }
   ],
   "source": [
    "from plot import plotPolicy\n",
    "plotPolicy(pis[p], q.g)"
   ]
  },
  {
   "attachments": {},
   "cell_type": "markdown",
   "metadata": {},
   "source": [
    "### Com muitas trajetórias:"
   ]
  },
  {
   "cell_type": "code",
   "execution_count": 11,
   "metadata": {},
   "outputs": [
    {
     "name": "stdout",
     "output_type": "stream",
     "text": [
      "3\n",
      "[-12250.54411187 -10709.63967447  -9125.99055165  -8971.20351478]\n",
      "[0.004, 0.0, 0.632, 0.364]\n"
     ]
    }
   ],
   "source": [
    "from actors import QLearning\n",
    "\n",
    "agent = QLearning(g)\n",
    "es = [0.9, 0.1, 0.5]+[e_star] # e_star = 0.3\n",
    "\n",
    "def teste():\n",
    "    agent.resetCount()\n",
    "    agent.run(epsilon=e_star)\n",
    "\n",
    "    pis = [generatePi(agent, e) for e in es] \n",
    "    likes = np.array([likelihood(pi, q.getTrajectory(2)) for pi in pis])\n",
    "    return likes\n",
    "\n",
    "\n",
    "total_episodes = 1000\n",
    "exps = [teste() for _ in range(total_episodes)]\n",
    "freq = [np.mean([int(np.argmax(v)==i) for v in exps])for i in range(len(es))]\n",
    "print(np.argmax(np.sum(exps, axis=0)))\n",
    "print(np.sum(exps, axis=0))\n",
    "# print(freq)\n"
   ]
  },
  {
   "attachments": {},
   "cell_type": "markdown",
   "metadata": {},
   "source": [
    "## Gradiente Descendente"
   ]
  },
  {
   "cell_type": "code",
   "execution_count": 157,
   "metadata": {},
   "outputs": [
    {
     "data": {
      "text/plain": [
       "(0.7334582620485892, 19, 9.045451287192918e-05)"
      ]
     },
     "execution_count": 157,
     "metadata": {},
     "output_type": "execute_result"
    }
   ],
   "source": [
    "import random \n",
    "\n",
    "def gradient(pi,q):\n",
    "    arr = [1/pi[x,y,a] for (x,y),a in q.getTrajectory(2)]\n",
    "    return np.sum(arr)\n",
    "\n",
    "def GradientDescent(agent, param=None, learning_rate=.01, decay=.2, precision=1e-4, max_trials=10000):\n",
    "    if param is None:\n",
    "        param = random.random()\n",
    "\n",
    "    error = 1+precision\n",
    "    trials = 0\n",
    "\n",
    "    pi = generatePi(agent, param)\n",
    "    l = likelihood(pi, agent.getTrajectory(2))\n",
    "    while (error > precision) and (trials <= max_trials):\n",
    "        trials += 1\n",
    "        new_param = param + learning_rate * gradient(pi, agent)\n",
    "        new_pi = generatePi(agent, new_param)\n",
    "        new_l = likelihood(new_pi, agent.getTrajectory(2))\n",
    "        error = np.abs(new_l - l)\n",
    "        if new_l >= l:\n",
    "            # learning_rate += (learning_rate * 0.2) \n",
    "            learning_rate += learning_rate / (1+decay*trials)\n",
    "            pi = new_pi\n",
    "            l = new_l\n",
    "            param = new_param\n",
    "        else:\n",
    "            # learning_rate -= (learning_rate * 0.2)\n",
    "            learning_rate -= learning_rate / (1+decay*trials)\n",
    "            \n",
    "    return param, trials, error\n",
    " \n",
    "GradientDescent(q)"
   ]
  },
  {
   "cell_type": "code",
   "execution_count": 176,
   "metadata": {},
   "outputs": [
    {
     "data": {
      "text/plain": [
       "88.3116883116883"
      ]
     },
     "execution_count": 176,
     "metadata": {},
     "output_type": "execute_result"
    }
   ],
   "source": [
    "gradient(generatePi(agent, 0.05), agent)"
   ]
  },
  {
   "cell_type": "code",
   "execution_count": 167,
   "metadata": {},
   "outputs": [
    {
     "data": {
      "text/plain": [
       "(0.95, 8119, 9.99894574373883e-05)"
      ]
     },
     "execution_count": 167,
     "metadata": {},
     "output_type": "execute_result"
    }
   ],
   "source": [
    "GradientDescent(q, param=.95, decay=.8)"
   ]
  },
  {
   "cell_type": "code",
   "execution_count": 158,
   "metadata": {},
   "outputs": [
    {
     "data": {
      "text/plain": [
       "(0.3305194805194806, 20, 9.478093899950579e-05)"
      ]
     },
     "execution_count": 158,
     "metadata": {},
     "output_type": "execute_result"
    }
   ],
   "source": [
    "GradientDescent(q, param=.05, decay=.2)"
   ]
  },
  {
   "cell_type": "code",
   "execution_count": 56,
   "metadata": {},
   "outputs": [
    {
     "name": "stderr",
     "output_type": "stream",
     "text": [
      "C:\\Users\\guilherme.albarrans\\AppData\\Local\\Temp\\ipykernel_19340\\1671513946.py:5: RuntimeWarning: invalid value encountered in log\n",
      "  arr = [np.log(pi[x,y][a]) for (x,y), a in e]\n"
     ]
    },
    {
     "data": {
      "text/plain": [
       "array([  0.55955915, 179.33      ,          nan])"
      ]
     },
     "execution_count": 56,
     "metadata": {},
     "output_type": "execute_result"
    }
   ],
   "source": [
    "np.mean([GradientDescent(q) for _ in range(100)], axis=0)"
   ]
  },
  {
   "cell_type": "code",
   "execution_count": null,
   "metadata": {},
   "outputs": [],
   "source": []
  },
  {
   "cell_type": "code",
   "execution_count": null,
   "metadata": {},
   "outputs": [],
   "source": [
    "from actors import QLearning\n",
    "\n",
    "agent = QLearning(g)\n",
    "es = [0.9, 0.1, 0.5]+[e_star] # e_star = 0.3\n",
    "\n",
    "def teste():\n",
    "    agent.resetCount()\n",
    "    agent.run(epsilon=e_star)\n",
    "\n",
    "    pis = [generatePi(agent, e) for e in es] \n",
    "    likes = np.array([likelihood(pi, q.getTrajectory(2)) for pi in pis])\n",
    "    return likes\n",
    "\n",
    "\n",
    "total_episodes = 1000\n",
    "exps = [teste() for _ in range(total_episodes)]\n",
    "freq = [np.mean([int(np.argmax(v)==i) for v in exps])for i in range(len(es))]\n",
    "print(np.argmax(np.sum(exps, axis=0)))\n",
    "print(np.sum(exps, axis=0))\n",
    "# print(freq)\n"
   ]
  }
 ],
 "metadata": {
  "kernelspec": {
   "display_name": "base",
   "language": "python",
   "name": "python3"
  },
  "language_info": {
   "codemirror_mode": {
    "name": "ipython",
    "version": 3
   },
   "file_extension": ".py",
   "mimetype": "text/x-python",
   "name": "python",
   "nbconvert_exporter": "python",
   "pygments_lexer": "ipython3",
   "version": "3.9.5"
  },
  "orig_nbformat": 4,
  "vscode": {
   "interpreter": {
    "hash": "19d1d53a962d236aa061289c2ac16dc8e6d9648c89fe79f459ae9a3493bc67b4"
   }
  }
 },
 "nbformat": 4,
 "nbformat_minor": 2
}
