{
 "cells": [
  {
   "cell_type": "code",
   "execution_count": 1,
   "metadata": {},
   "outputs": [
    {
     "name": "stdout",
     "output_type": "stream",
     "text": [
      "-------------------------------\n",
      "| 0,0 | 0,1 | 0,2 | 0,3 | 0,4 | \n",
      "-------------------------------\n",
      "| 1,0 | 1,1 | 1,2 | 1,3 | 1,4 | \n",
      "-------------------------------\n",
      "| 2,0 | 2,1 | 2,2 | 2,3 | 2,4 | \n",
      "-------------------------------\n",
      "| 3,0 | 3,1 | 3,2 | 3,3 | 3,4 | \n",
      "-------------------------------\n",
      "| 4,0 | 4,1 | 4,2 | 4,3 | 4,4 | \n",
      "-------------------------------\n"
     ]
    }
   ],
   "source": [
    "from grid import Grid\n",
    "\n",
    "g = Grid()\n",
    "g.print()"
   ]
  },
  {
   "cell_type": "code",
   "execution_count": 2,
   "metadata": {},
   "outputs": [
    {
     "data": {
      "text/plain": [
       "((4, 0), -1)"
      ]
     },
     "execution_count": 2,
     "metadata": {},
     "output_type": "execute_result"
    }
   ],
   "source": [
    "g.transition((4,0), g.west)"
   ]
  },
  {
   "cell_type": "code",
   "execution_count": 3,
   "metadata": {},
   "outputs": [
    {
     "data": {
      "text/plain": [
       "((4, 1), 10)"
      ]
     },
     "execution_count": 3,
     "metadata": {},
     "output_type": "execute_result"
    }
   ],
   "source": [
    "g.transition((0,1), g.north)"
   ]
  },
  {
   "cell_type": "code",
   "execution_count": 8,
   "metadata": {},
   "outputs": [
    {
     "name": "stdout",
     "output_type": "stream",
     "text": [
      "-------------------------------\n",
      "| 0.1 | 0.0 | 0.0 | 0.0 | 0.0 | \n",
      "-------------------------------\n",
      "| 0.0 | 0.0 | 0.0 | 0.0 | 0.0 | \n",
      "-------------------------------\n",
      "| 0.0 | 0.0 | 0.0 | 0.0 | 0.0 | \n",
      "-------------------------------\n",
      "| 0.0 | 0.0 | 0.0 | 0.0 | 0.0 | \n",
      "-------------------------------\n",
      "| 0.0 | 0.0 | 0.0 | 0.0 | 0.0 | \n",
      "-------------------------------\n",
      "\n",
      "(4, 1)\n",
      "-------------------------------\n",
      "| 0.0 | 0.0 | 0.0 | 0.0 | 0.0 | \n",
      "-------------------------------\n",
      "| 0.0 | 0.0 | 0.0 | 0.0 | 0.0 | \n",
      "-------------------------------\n",
      "| 0.0 | 0.0 | 0.0 | 0.0 | 0.0 | \n",
      "-------------------------------\n",
      "| 0.0 | 0.0 | 0.0 | 0.0 | 0.0 | \n",
      "--------------------------------\n",
      "| 0.0 | 10.1 | 0.0 | 0.0 | 0.0 | \n",
      "--------------------------------\n"
     ]
    }
   ],
   "source": [
    "pos = (0,0)\n",
    "custom_grid = g.grid.copy()\n",
    "custom_grid[pos] = 0.1\n",
    "g.print(custom_grid)\n",
    "print()\n",
    "\n",
    "custom_grid = g.grid.copy()\n",
    "s,r =  g.transition(pos, g.east)\n",
    "custom_grid[s] = r+0.1\n",
    "print(s)\n",
    "g.print(custom_grid)"
   ]
  },
  {
   "cell_type": "code",
   "execution_count": 17,
   "metadata": {},
   "outputs": [],
   "source": [
    "import numpy as np\n",
    "def v(state=None, gamma=0.9, p=0.25):\n",
    "    ACTIONS = [g.north, g.south, g.east, g.west]\n",
    "\n",
    "    A = -1 * np.eye(g.size[0] * g.size[1])\n",
    "    b = np.zeros(g.size[0] * g.size[1])\n",
    "\n",
    "    for i in range(g.size[0]):\n",
    "        for j in range(g.size[1]):\n",
    "            s = (i, j)  # for each state s\n",
    "            index_s = np.ravel_multi_index(s, g.size)\n",
    "            for a in ACTIONS:\n",
    "                s_, r = g.transition(s, a)\n",
    "                index_s_ = np.ravel_multi_index(s_, g.size)\n",
    "\n",
    "                A[index_s, index_s_] += p * gamma\n",
    "                b[index_s] -= p * r\n",
    "    v_matrix = np.round(np.linalg.solve(A, b).reshape(*g.size), decimals=2)\n",
    "    if state is None:\n",
    "        return v_matrix\n",
    "    else:\n",
    "        return v_matrix[state]"
   ]
  },
  {
   "cell_type": "code",
   "execution_count": 18,
   "metadata": {},
   "outputs": [
    {
     "name": "stdout",
     "output_type": "stream",
     "text": [
      "[[ 3.89  5.01  5.07  3.46  1.93]\n",
      " [ 1.88  3.44  2.62  2.27  0.83]\n",
      " [ 0.25  0.96  0.87  0.55 -0.24]\n",
      " [-0.86 -0.32 -0.24 -0.48 -1.08]\n",
      " [-1.78 -1.26 -1.15 -1.35 -1.9 ]]\n"
     ]
    }
   ],
   "source": [
    "print(v())"
   ]
  },
  {
   "cell_type": "code",
   "execution_count": null,
   "metadata": {},
   "outputs": [],
   "source": []
  },
  {
   "cell_type": "code",
   "execution_count": null,
   "metadata": {},
   "outputs": [],
   "source": []
  },
  {
   "cell_type": "code",
   "execution_count": 19,
   "metadata": {},
   "outputs": [
    {
     "data": {
      "text/plain": [
       "array([[ 3.31,  8.79,  4.43,  5.32,  1.49],\n",
       "       [ 1.52,  2.99,  2.25,  1.91,  0.55],\n",
       "       [ 0.05,  0.74,  0.67,  0.36, -0.4 ],\n",
       "       [-0.97, -0.44, -0.35, -0.59, -1.18],\n",
       "       [-1.86, -1.35, -1.23, -1.42, -1.98]])"
      ]
     },
     "execution_count": 19,
     "metadata": {},
     "output_type": "execute_result"
    }
   ],
   "source": [
    "WORLD_SIZE = 5\n",
    "A_POS = [0, 1]\n",
    "A_PRIME_POS = [4, 1]\n",
    "B_POS = [0, 3]\n",
    "B_PRIME_POS = [2, 3]\n",
    "DISCOUNT = 0.9\n",
    "\n",
    "# left, up, right, down\n",
    "ACTIONS = [np.array([0, -1]),\n",
    "           np.array([-1, 0]),\n",
    "           np.array([0, 1]),\n",
    "           np.array([1, 0])]\n",
    "ACTIONS_FIGS=[ '←', '↑', '→', '↓']\n",
    "\n",
    "\n",
    "ACTION_PROB = 0.25\n",
    "\n",
    "\n",
    "def step(state, action):\n",
    "    if state == A_POS:\n",
    "        return A_PRIME_POS, 10\n",
    "    if state == B_POS:\n",
    "        return B_PRIME_POS, 5\n",
    "\n",
    "    next_state = (np.array(state) + action).tolist()\n",
    "    x, y = next_state\n",
    "    if x < 0 or x >= WORLD_SIZE or y < 0 or y >= WORLD_SIZE:\n",
    "        reward = -1.0\n",
    "        next_state = state\n",
    "    else:\n",
    "        reward = 0\n",
    "    return next_state, reward\n",
    "\n",
    "A = -1 * np.eye(WORLD_SIZE * WORLD_SIZE)\n",
    "b = np.zeros(WORLD_SIZE * WORLD_SIZE)\n",
    "for i in range(WORLD_SIZE):\n",
    "    for j in range(WORLD_SIZE):\n",
    "        s = [i, j]  # current state\n",
    "        index_s = np.ravel_multi_index(s, (WORLD_SIZE, WORLD_SIZE))\n",
    "        for a in ACTIONS:\n",
    "            s_, r = step(s, a)\n",
    "            index_s_ = np.ravel_multi_index(s_, (WORLD_SIZE, WORLD_SIZE))\n",
    "\n",
    "            A[index_s, index_s_] += ACTION_PROB * DISCOUNT\n",
    "            b[index_s] -= ACTION_PROB * r\n",
    "\n",
    "x = np.linalg.solve(A, b)\n",
    "np.round(x.reshape(WORLD_SIZE, WORLD_SIZE), decimals=2)"
   ]
  },
  {
   "cell_type": "code",
   "execution_count": null,
   "metadata": {},
   "outputs": [],
   "source": [
    "for i in range(WORLD_SIZE):\n",
    "    for j in range(WORLD_SIZE):\n",
    "        s = [i, j] \n",
    "        for a in ACTIONS:\n",
    "            s_, r_ = step(s, a)\n",
    "            s_2, r_2 = g.transition(tuple(s), tuple(a))\n",
    "\n",
    "            if (s_ != s_2) or (r_ != r_2):\n",
    "                print(s)\n",
    "                print(s_, r_)\n",
    "                print(s_2, r_2)\n"
   ]
  }
 ],
 "metadata": {
  "kernelspec": {
   "display_name": "base",
   "language": "python",
   "name": "python3"
  },
  "language_info": {
   "codemirror_mode": {
    "name": "ipython",
    "version": 3
   },
   "file_extension": ".py",
   "mimetype": "text/x-python",
   "name": "python",
   "nbconvert_exporter": "python",
   "pygments_lexer": "ipython3",
   "version": "3.9.5"
  },
  "orig_nbformat": 4,
  "vscode": {
   "interpreter": {
    "hash": "19d1d53a962d236aa061289c2ac16dc8e6d9648c89fe79f459ae9a3493bc67b4"
   }
  }
 },
 "nbformat": 4,
 "nbformat_minor": 2
}
