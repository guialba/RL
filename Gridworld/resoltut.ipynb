{
 "cells": [
  {
   "cell_type": "code",
   "execution_count": 1,
   "metadata": {},
   "outputs": [
    {
     "name": "stdout",
     "output_type": "stream",
     "text": [
      "-------------------------------\n",
      "| 0,0 | 1,0 | 2,0 | 3,0 | 4,0 | \n",
      "-------------------------------\n",
      "| 0,1 | 1,1 | 2,1 | 3,1 | 4,1 | \n",
      "-------------------------------\n",
      "| 0,2 | 1,2 | 2,2 | 3,2 | 4,2 | \n",
      "-------------------------------\n",
      "| 0,3 | 1,3 | 2,3 | 3,3 | 4,3 | \n",
      "-------------------------------\n",
      "| 0,4 | 1,4 | 2,4 | 3,4 | 4,4 | \n",
      "-------------------------------\n"
     ]
    }
   ],
   "source": [
    "from grid import Grid\n",
    "\n",
    "g = Grid()\n",
    "g.print()"
   ]
  },
  {
   "cell_type": "code",
   "execution_count": 2,
   "metadata": {},
   "outputs": [
    {
     "data": {
      "text/plain": [
       "((3, 2), 5)"
      ]
     },
     "execution_count": 2,
     "metadata": {},
     "output_type": "execute_result"
    }
   ],
   "source": [
    "g.transition((4,0), g.west)"
   ]
  },
  {
   "cell_type": "code",
   "execution_count": 3,
   "metadata": {},
   "outputs": [
    {
     "data": {
      "text/plain": [
       "((0, 0), 0)"
      ]
     },
     "execution_count": 3,
     "metadata": {},
     "output_type": "execute_result"
    }
   ],
   "source": [
    "g.transition((0,1), g.north)"
   ]
  },
  {
   "cell_type": "code",
   "execution_count": 4,
   "metadata": {},
   "outputs": [
    {
     "name": "stdout",
     "output_type": "stream",
     "text": [
      "--------------------------------\n",
      "| 10.0 | 0.0 | 0.0 | 0.0 | 0.0 | \n",
      "-------------------------------\n",
      "| 0.0 | 0.0 | 0.0 | 0.0 | 0.0 | \n",
      "-------------------------------\n",
      "| 0.0 | 0.0 | 0.0 | 0.0 | 0.0 | \n",
      "-------------------------------\n",
      "| 0.0 | 0.0 | 0.0 | 0.0 | 0.0 | \n",
      "-------------------------------\n",
      "| 0.0 | 0.0 | 0.0 | 0.0 | 0.0 | \n",
      "-------------------------------\n",
      "\n",
      "(1, 4)\n",
      "-------------------------------\n",
      "| 0.0 | 0.0 | 0.0 | 0.0 | 0.0 | \n",
      "-------------------------------\n",
      "| 0.0 | 0.0 | 0.0 | 0.0 | 0.0 | \n",
      "-------------------------------\n",
      "| 0.0 | 0.0 | 0.0 | 0.0 | 0.0 | \n",
      "-------------------------------\n",
      "| 0.0 | 0.0 | 0.0 | 0.0 | 0.0 | \n",
      "--------------------------------\n",
      "| 0.0 | 10.0 | 0.0 | 0.0 | 0.0 | \n",
      "--------------------------------\n"
     ]
    },
    {
     "name": "stderr",
     "output_type": "stream",
     "text": [
      "c:\\Users\\guilherme.albarrans\\OneDrive - Ame Digital\\Área de Trabalho\\RL\\Gridworld\\grid.py:42: FutureWarning: elementwise comparison failed; returning scalar instead, but in the future will perform elementwise comparison\n",
      "  if display == 'index':\n"
     ]
    }
   ],
   "source": [
    "pos = (0,0)\n",
    "custom_grid = g.grid.copy()\n",
    "custom_grid[pos] = 10\n",
    "g.print(custom_grid)\n",
    "print()\n",
    "\n",
    "custom_grid = g.grid.copy()\n",
    "s,r =  g.transition(pos, g.east)\n",
    "custom_grid[s] = 10\n",
    "print(s)\n",
    "g.print(custom_grid)"
   ]
  },
  {
   "cell_type": "code",
   "execution_count": 2,
   "metadata": {},
   "outputs": [],
   "source": [
    "def v_star(s, g):\n",
    "    actions = [g.north, g.south, g.east, g.west]\n",
    "    q = [0 for a in actions]\n",
    "    for i, a in enumerate(actions): \n",
    "        s2, r = g.transition(s, a) \n",
    "        p = 1\n",
    "        if s2 in g.rewards:\n",
    "            q[i] = r\n",
    "        else:\n",
    "            q[i] = p * (r + 0.9*v_star(s2)) ## está aqui para economizar computação... mas o certo é estar fora da condição, como na linha de baixo\n",
    "        # suma += p * (r + 0.9*v_star(s_linha)) \n",
    "      \n",
    "    return max(q)"
   ]
  },
  {
   "cell_type": "code",
   "execution_count": null,
   "metadata": {},
   "outputs": [
    {
     "ename": "",
     "evalue": "",
     "output_type": "error",
     "traceback": [
      "\u001b[1;31mCanceled future for execute_request message before replies were done"
     ]
    },
    {
     "ename": "",
     "evalue": "",
     "output_type": "error",
     "traceback": [
      "\u001b[1;31mThe Kernel crashed while executing code in the the current cell or a previous cell. Please review the code in the cell(s) to identify a possible cause of the failure. Click <a href='https://aka.ms/vscodeJupyterKernelCrash'>here</a> for more info. View Jupyter <a href='command:jupyter.viewOutput'>log</a> for further details."
     ]
    }
   ],
   "source": [
    "custom_grid = g.grid.copy()\n",
    "\n",
    "for y, row in enumerate(custom_grid):\n",
    "    for x, col in enumerate(custom_grid):\n",
    "        custom_grid[x,y] = v_star((x,y), g)\n",
    "\n",
    "        # custom_grid[x,y] = 100\n",
    "\n",
    "g.print(custom_grid)"
   ]
  },
  {
   "cell_type": "code",
   "execution_count": 4,
   "metadata": {},
   "outputs": [
    {
     "data": {
      "text/plain": [
       "5"
      ]
     },
     "execution_count": 4,
     "metadata": {},
     "output_type": "execute_result"
    }
   ],
   "source": [
    "import numpy as np\n",
    "\n",
    "np.ravel_multi_index((1, 2), (3, 3))"
   ]
  },
  {
   "cell_type": "code",
   "execution_count": 5,
   "metadata": {},
   "outputs": [
    {
     "ename": "SyntaxError",
     "evalue": "invalid syntax (1813631082.py, line 1)",
     "output_type": "error",
     "traceback": [
      "\u001b[1;36m  Input \u001b[1;32mIn [5]\u001b[1;36m\u001b[0m\n\u001b[1;33m    Skip to content\u001b[0m\n\u001b[1;37m         ^\u001b[0m\n\u001b[1;31mSyntaxError\u001b[0m\u001b[1;31m:\u001b[0m invalid syntax\n"
     ]
    }
   ],
   "source": []
  },
  {
   "cell_type": "code",
   "execution_count": 6,
   "metadata": {},
   "outputs": [
    {
     "ename": "FileNotFoundError",
     "evalue": "[Errno 2] No such file or directory: '../images/figure_3_2_linear_system.png'",
     "output_type": "error",
     "traceback": [
      "\u001b[1;31m---------------------------------------------------------------------------\u001b[0m",
      "\u001b[1;31mFileNotFoundError\u001b[0m                         Traceback (most recent call last)",
      "\u001b[1;32mc:\\Users\\guilherme.albarrans\\OneDrive - Ame Digital\\Área de Trabalho\\RL\\Gridworld\\test.ipynb Cell 9\u001b[0m in \u001b[0;36m<cell line: 193>\u001b[1;34m()\u001b[0m\n\u001b[0;32m    <a href='vscode-notebook-cell:/c%3A/Users/guilherme.albarrans/OneDrive%20-%20Ame%20Digital/%C3%81rea%20de%20Trabalho/RL/Gridworld/test.ipynb#X20sZmlsZQ%3D%3D?line=188'>189</a>\u001b[0m         value \u001b[39m=\u001b[39m new_value\n\u001b[0;32m    <a href='vscode-notebook-cell:/c%3A/Users/guilherme.albarrans/OneDrive%20-%20Ame%20Digital/%C3%81rea%20de%20Trabalho/RL/Gridworld/test.ipynb#X20sZmlsZQ%3D%3D?line=191'>192</a>\u001b[0m \u001b[39m# if __name__ == '__main__':\u001b[39;00m\n\u001b[1;32m--> <a href='vscode-notebook-cell:/c%3A/Users/guilherme.albarrans/OneDrive%20-%20Ame%20Digital/%C3%81rea%20de%20Trabalho/RL/Gridworld/test.ipynb#X20sZmlsZQ%3D%3D?line=192'>193</a>\u001b[0m figure_3_2_linear_system()\n\u001b[0;32m    <a href='vscode-notebook-cell:/c%3A/Users/guilherme.albarrans/OneDrive%20-%20Ame%20Digital/%C3%81rea%20de%20Trabalho/RL/Gridworld/test.ipynb#X20sZmlsZQ%3D%3D?line=193'>194</a>\u001b[0m figure_3_2()\n\u001b[0;32m    <a href='vscode-notebook-cell:/c%3A/Users/guilherme.albarrans/OneDrive%20-%20Ame%20Digital/%C3%81rea%20de%20Trabalho/RL/Gridworld/test.ipynb#X20sZmlsZQ%3D%3D?line=194'>195</a>\u001b[0m figure_3_5()\n",
      "\u001b[1;32mc:\\Users\\guilherme.albarrans\\OneDrive - Ame Digital\\Área de Trabalho\\RL\\Gridworld\\test.ipynb Cell 9\u001b[0m in \u001b[0;36mfigure_3_2_linear_system\u001b[1;34m()\u001b[0m\n\u001b[0;32m    <a href='vscode-notebook-cell:/c%3A/Users/guilherme.albarrans/OneDrive%20-%20Ame%20Digital/%C3%81rea%20de%20Trabalho/RL/Gridworld/test.ipynb#X20sZmlsZQ%3D%3D?line=162'>163</a>\u001b[0m x \u001b[39m=\u001b[39m np\u001b[39m.\u001b[39mlinalg\u001b[39m.\u001b[39msolve(A, b)\n\u001b[0;32m    <a href='vscode-notebook-cell:/c%3A/Users/guilherme.albarrans/OneDrive%20-%20Ame%20Digital/%C3%81rea%20de%20Trabalho/RL/Gridworld/test.ipynb#X20sZmlsZQ%3D%3D?line=163'>164</a>\u001b[0m draw_image(np\u001b[39m.\u001b[39mround(x\u001b[39m.\u001b[39mreshape(WORLD_SIZE, WORLD_SIZE), decimals\u001b[39m=\u001b[39m\u001b[39m2\u001b[39m))\n\u001b[1;32m--> <a href='vscode-notebook-cell:/c%3A/Users/guilherme.albarrans/OneDrive%20-%20Ame%20Digital/%C3%81rea%20de%20Trabalho/RL/Gridworld/test.ipynb#X20sZmlsZQ%3D%3D?line=164'>165</a>\u001b[0m plt\u001b[39m.\u001b[39;49msavefig(\u001b[39m'\u001b[39;49m\u001b[39m../images/figure_3_2_linear_system.png\u001b[39;49m\u001b[39m'\u001b[39;49m)\n\u001b[0;32m    <a href='vscode-notebook-cell:/c%3A/Users/guilherme.albarrans/OneDrive%20-%20Ame%20Digital/%C3%81rea%20de%20Trabalho/RL/Gridworld/test.ipynb#X20sZmlsZQ%3D%3D?line=165'>166</a>\u001b[0m plt\u001b[39m.\u001b[39mclose()\n",
      "File \u001b[1;32mc:\\ProgramData\\Miniconda3\\lib\\site-packages\\matplotlib\\pyplot.py:959\u001b[0m, in \u001b[0;36msavefig\u001b[1;34m(*args, **kwargs)\u001b[0m\n\u001b[0;32m    956\u001b[0m \u001b[39m@_copy_docstring_and_deprecators\u001b[39m(Figure\u001b[39m.\u001b[39msavefig)\n\u001b[0;32m    957\u001b[0m \u001b[39mdef\u001b[39;00m \u001b[39msavefig\u001b[39m(\u001b[39m*\u001b[39margs, \u001b[39m*\u001b[39m\u001b[39m*\u001b[39mkwargs):\n\u001b[0;32m    958\u001b[0m     fig \u001b[39m=\u001b[39m gcf()\n\u001b[1;32m--> 959\u001b[0m     res \u001b[39m=\u001b[39m fig\u001b[39m.\u001b[39msavefig(\u001b[39m*\u001b[39margs, \u001b[39m*\u001b[39m\u001b[39m*\u001b[39mkwargs)\n\u001b[0;32m    960\u001b[0m     fig\u001b[39m.\u001b[39mcanvas\u001b[39m.\u001b[39mdraw_idle()  \u001b[39m# Need this if 'transparent=True', to reset colors.\u001b[39;00m\n\u001b[0;32m    961\u001b[0m     \u001b[39mreturn\u001b[39;00m res\n",
      "File \u001b[1;32mc:\\ProgramData\\Miniconda3\\lib\\site-packages\\matplotlib\\figure.py:3285\u001b[0m, in \u001b[0;36mFigure.savefig\u001b[1;34m(self, fname, transparent, **kwargs)\u001b[0m\n\u001b[0;32m   3281\u001b[0m     \u001b[39mfor\u001b[39;00m ax \u001b[39min\u001b[39;00m \u001b[39mself\u001b[39m\u001b[39m.\u001b[39maxes:\n\u001b[0;32m   3282\u001b[0m         stack\u001b[39m.\u001b[39menter_context(\n\u001b[0;32m   3283\u001b[0m             ax\u001b[39m.\u001b[39mpatch\u001b[39m.\u001b[39m_cm_set(facecolor\u001b[39m=\u001b[39m\u001b[39m'\u001b[39m\u001b[39mnone\u001b[39m\u001b[39m'\u001b[39m, edgecolor\u001b[39m=\u001b[39m\u001b[39m'\u001b[39m\u001b[39mnone\u001b[39m\u001b[39m'\u001b[39m))\n\u001b[1;32m-> 3285\u001b[0m \u001b[39mself\u001b[39m\u001b[39m.\u001b[39mcanvas\u001b[39m.\u001b[39mprint_figure(fname, \u001b[39m*\u001b[39m\u001b[39m*\u001b[39mkwargs)\n",
      "File \u001b[1;32mc:\\ProgramData\\Miniconda3\\lib\\site-packages\\matplotlib\\backend_bases.py:2338\u001b[0m, in \u001b[0;36mFigureCanvasBase.print_figure\u001b[1;34m(self, filename, dpi, facecolor, edgecolor, orientation, format, bbox_inches, pad_inches, bbox_extra_artists, backend, **kwargs)\u001b[0m\n\u001b[0;32m   2334\u001b[0m \u001b[39mtry\u001b[39;00m:\n\u001b[0;32m   2335\u001b[0m     \u001b[39m# _get_renderer may change the figure dpi (as vector formats\u001b[39;00m\n\u001b[0;32m   2336\u001b[0m     \u001b[39m# force the figure dpi to 72), so we need to set it again here.\u001b[39;00m\n\u001b[0;32m   2337\u001b[0m     \u001b[39mwith\u001b[39;00m cbook\u001b[39m.\u001b[39m_setattr_cm(\u001b[39mself\u001b[39m\u001b[39m.\u001b[39mfigure, dpi\u001b[39m=\u001b[39mdpi):\n\u001b[1;32m-> 2338\u001b[0m         result \u001b[39m=\u001b[39m print_method(\n\u001b[0;32m   2339\u001b[0m             filename,\n\u001b[0;32m   2340\u001b[0m             facecolor\u001b[39m=\u001b[39mfacecolor,\n\u001b[0;32m   2341\u001b[0m             edgecolor\u001b[39m=\u001b[39medgecolor,\n\u001b[0;32m   2342\u001b[0m             orientation\u001b[39m=\u001b[39morientation,\n\u001b[0;32m   2343\u001b[0m             bbox_inches_restore\u001b[39m=\u001b[39m_bbox_inches_restore,\n\u001b[0;32m   2344\u001b[0m             \u001b[39m*\u001b[39m\u001b[39m*\u001b[39mkwargs)\n\u001b[0;32m   2345\u001b[0m \u001b[39mfinally\u001b[39;00m:\n\u001b[0;32m   2346\u001b[0m     \u001b[39mif\u001b[39;00m bbox_inches \u001b[39mand\u001b[39;00m restore_bbox:\n",
      "File \u001b[1;32mc:\\ProgramData\\Miniconda3\\lib\\site-packages\\matplotlib\\backend_bases.py:2204\u001b[0m, in \u001b[0;36mFigureCanvasBase._switch_canvas_and_return_print_method.<locals>.<lambda>\u001b[1;34m(*args, **kwargs)\u001b[0m\n\u001b[0;32m   2200\u001b[0m     optional_kws \u001b[39m=\u001b[39m {  \u001b[39m# Passed by print_figure for other renderers.\u001b[39;00m\n\u001b[0;32m   2201\u001b[0m         \u001b[39m\"\u001b[39m\u001b[39mdpi\u001b[39m\u001b[39m\"\u001b[39m, \u001b[39m\"\u001b[39m\u001b[39mfacecolor\u001b[39m\u001b[39m\"\u001b[39m, \u001b[39m\"\u001b[39m\u001b[39medgecolor\u001b[39m\u001b[39m\"\u001b[39m, \u001b[39m\"\u001b[39m\u001b[39morientation\u001b[39m\u001b[39m\"\u001b[39m,\n\u001b[0;32m   2202\u001b[0m         \u001b[39m\"\u001b[39m\u001b[39mbbox_inches_restore\u001b[39m\u001b[39m\"\u001b[39m}\n\u001b[0;32m   2203\u001b[0m     skip \u001b[39m=\u001b[39m optional_kws \u001b[39m-\u001b[39m {\u001b[39m*\u001b[39minspect\u001b[39m.\u001b[39msignature(meth)\u001b[39m.\u001b[39mparameters}\n\u001b[1;32m-> 2204\u001b[0m     print_method \u001b[39m=\u001b[39m functools\u001b[39m.\u001b[39mwraps(meth)(\u001b[39mlambda\u001b[39;00m \u001b[39m*\u001b[39margs, \u001b[39m*\u001b[39m\u001b[39m*\u001b[39mkwargs: meth(\n\u001b[0;32m   2205\u001b[0m         \u001b[39m*\u001b[39margs, \u001b[39m*\u001b[39m\u001b[39m*\u001b[39m{k: v \u001b[39mfor\u001b[39;00m k, v \u001b[39min\u001b[39;00m kwargs\u001b[39m.\u001b[39mitems() \u001b[39mif\u001b[39;00m k \u001b[39mnot\u001b[39;00m \u001b[39min\u001b[39;00m skip}))\n\u001b[0;32m   2206\u001b[0m \u001b[39melse\u001b[39;00m:  \u001b[39m# Let third-parties do as they see fit.\u001b[39;00m\n\u001b[0;32m   2207\u001b[0m     print_method \u001b[39m=\u001b[39m meth\n",
      "File \u001b[1;32mc:\\ProgramData\\Miniconda3\\lib\\site-packages\\matplotlib\\_api\\deprecation.py:410\u001b[0m, in \u001b[0;36mdelete_parameter.<locals>.wrapper\u001b[1;34m(*inner_args, **inner_kwargs)\u001b[0m\n\u001b[0;32m    400\u001b[0m     deprecation_addendum \u001b[39m=\u001b[39m (\n\u001b[0;32m    401\u001b[0m         \u001b[39mf\u001b[39m\u001b[39m\"\u001b[39m\u001b[39mIf any parameter follows \u001b[39m\u001b[39m{\u001b[39;00mname\u001b[39m!r}\u001b[39;00m\u001b[39m, they should be passed as \u001b[39m\u001b[39m\"\u001b[39m\n\u001b[0;32m    402\u001b[0m         \u001b[39mf\u001b[39m\u001b[39m\"\u001b[39m\u001b[39mkeyword, not positionally.\u001b[39m\u001b[39m\"\u001b[39m)\n\u001b[0;32m    403\u001b[0m     warn_deprecated(\n\u001b[0;32m    404\u001b[0m         since,\n\u001b[0;32m    405\u001b[0m         name\u001b[39m=\u001b[39m\u001b[39mrepr\u001b[39m(name),\n\u001b[1;32m   (...)\u001b[0m\n\u001b[0;32m    408\u001b[0m                  \u001b[39melse\u001b[39;00m deprecation_addendum,\n\u001b[0;32m    409\u001b[0m         \u001b[39m*\u001b[39m\u001b[39m*\u001b[39mkwargs)\n\u001b[1;32m--> 410\u001b[0m \u001b[39mreturn\u001b[39;00m func(\u001b[39m*\u001b[39minner_args, \u001b[39m*\u001b[39m\u001b[39m*\u001b[39minner_kwargs)\n",
      "File \u001b[1;32mc:\\ProgramData\\Miniconda3\\lib\\site-packages\\matplotlib\\backends\\backend_agg.py:517\u001b[0m, in \u001b[0;36mFigureCanvasAgg.print_png\u001b[1;34m(self, filename_or_obj, metadata, pil_kwargs, *args)\u001b[0m\n\u001b[0;32m    468\u001b[0m \u001b[39m@_api\u001b[39m\u001b[39m.\u001b[39mdelete_parameter(\u001b[39m\"\u001b[39m\u001b[39m3.5\u001b[39m\u001b[39m\"\u001b[39m, \u001b[39m\"\u001b[39m\u001b[39margs\u001b[39m\u001b[39m\"\u001b[39m)\n\u001b[0;32m    469\u001b[0m \u001b[39mdef\u001b[39;00m \u001b[39mprint_png\u001b[39m(\u001b[39mself\u001b[39m, filename_or_obj, \u001b[39m*\u001b[39margs,\n\u001b[0;32m    470\u001b[0m               metadata\u001b[39m=\u001b[39m\u001b[39mNone\u001b[39;00m, pil_kwargs\u001b[39m=\u001b[39m\u001b[39mNone\u001b[39;00m):\n\u001b[0;32m    471\u001b[0m     \u001b[39m\"\"\"\u001b[39;00m\n\u001b[0;32m    472\u001b[0m \u001b[39m    Write the figure to a PNG file.\u001b[39;00m\n\u001b[0;32m    473\u001b[0m \n\u001b[1;32m   (...)\u001b[0m\n\u001b[0;32m    515\u001b[0m \u001b[39m        *metadata*, including the default 'Software' key.\u001b[39;00m\n\u001b[0;32m    516\u001b[0m \u001b[39m    \"\"\"\u001b[39;00m\n\u001b[1;32m--> 517\u001b[0m     \u001b[39mself\u001b[39;49m\u001b[39m.\u001b[39;49m_print_pil(filename_or_obj, \u001b[39m\"\u001b[39;49m\u001b[39mpng\u001b[39;49m\u001b[39m\"\u001b[39;49m, pil_kwargs, metadata)\n",
      "File \u001b[1;32mc:\\ProgramData\\Miniconda3\\lib\\site-packages\\matplotlib\\backends\\backend_agg.py:464\u001b[0m, in \u001b[0;36mFigureCanvasAgg._print_pil\u001b[1;34m(self, filename_or_obj, fmt, pil_kwargs, metadata)\u001b[0m\n\u001b[0;32m    459\u001b[0m \u001b[39m\"\"\"\u001b[39;00m\n\u001b[0;32m    460\u001b[0m \u001b[39mDraw the canvas, then save it using `.image.imsave` (to which\u001b[39;00m\n\u001b[0;32m    461\u001b[0m \u001b[39m*pil_kwargs* and *metadata* are forwarded).\u001b[39;00m\n\u001b[0;32m    462\u001b[0m \u001b[39m\"\"\"\u001b[39;00m\n\u001b[0;32m    463\u001b[0m FigureCanvasAgg\u001b[39m.\u001b[39mdraw(\u001b[39mself\u001b[39m)\n\u001b[1;32m--> 464\u001b[0m mpl\u001b[39m.\u001b[39;49mimage\u001b[39m.\u001b[39;49mimsave(\n\u001b[0;32m    465\u001b[0m     filename_or_obj, \u001b[39mself\u001b[39;49m\u001b[39m.\u001b[39;49mbuffer_rgba(), \u001b[39mformat\u001b[39;49m\u001b[39m=\u001b[39;49mfmt, origin\u001b[39m=\u001b[39;49m\u001b[39m\"\u001b[39;49m\u001b[39mupper\u001b[39;49m\u001b[39m\"\u001b[39;49m,\n\u001b[0;32m    466\u001b[0m     dpi\u001b[39m=\u001b[39;49m\u001b[39mself\u001b[39;49m\u001b[39m.\u001b[39;49mfigure\u001b[39m.\u001b[39;49mdpi, metadata\u001b[39m=\u001b[39;49mmetadata, pil_kwargs\u001b[39m=\u001b[39;49mpil_kwargs)\n",
      "File \u001b[1;32mc:\\ProgramData\\Miniconda3\\lib\\site-packages\\matplotlib\\image.py:1667\u001b[0m, in \u001b[0;36mimsave\u001b[1;34m(fname, arr, vmin, vmax, cmap, format, origin, dpi, metadata, pil_kwargs)\u001b[0m\n\u001b[0;32m   1665\u001b[0m pil_kwargs\u001b[39m.\u001b[39msetdefault(\u001b[39m\"\u001b[39m\u001b[39mformat\u001b[39m\u001b[39m\"\u001b[39m, \u001b[39mformat\u001b[39m)\n\u001b[0;32m   1666\u001b[0m pil_kwargs\u001b[39m.\u001b[39msetdefault(\u001b[39m\"\u001b[39m\u001b[39mdpi\u001b[39m\u001b[39m\"\u001b[39m, (dpi, dpi))\n\u001b[1;32m-> 1667\u001b[0m image\u001b[39m.\u001b[39msave(fname, \u001b[39m*\u001b[39m\u001b[39m*\u001b[39mpil_kwargs)\n",
      "File \u001b[1;32mc:\\ProgramData\\Miniconda3\\lib\\site-packages\\PIL\\Image.py:2428\u001b[0m, in \u001b[0;36mImage.save\u001b[1;34m(self, fp, format, **params)\u001b[0m\n\u001b[0;32m   2426\u001b[0m         fp \u001b[39m=\u001b[39m builtins\u001b[39m.\u001b[39mopen(filename, \u001b[39m\"\u001b[39m\u001b[39mr+b\u001b[39m\u001b[39m\"\u001b[39m)\n\u001b[0;32m   2427\u001b[0m     \u001b[39melse\u001b[39;00m:\n\u001b[1;32m-> 2428\u001b[0m         fp \u001b[39m=\u001b[39m builtins\u001b[39m.\u001b[39;49mopen(filename, \u001b[39m\"\u001b[39;49m\u001b[39mw+b\u001b[39;49m\u001b[39m\"\u001b[39;49m)\n\u001b[0;32m   2430\u001b[0m \u001b[39mtry\u001b[39;00m:\n\u001b[0;32m   2431\u001b[0m     save_handler(\u001b[39mself\u001b[39m, fp, filename)\n",
      "\u001b[1;31mFileNotFoundError\u001b[0m: [Errno 2] No such file or directory: '../images/figure_3_2_linear_system.png'"
     ]
    }
   ],
   "source": [
    "#######################################################################\n",
    "# Copyright (C)                                                       #\n",
    "# 2016-2018 Shangtong Zhang(zhangshangtong.cpp@gmail.com)             #\n",
    "# 2016 Kenta Shimada(hyperkentakun@gmail.com)                         #\n",
    "# Permission given to modify the code as long as you keep this        #\n",
    "# declaration at the top                                              #\n",
    "#######################################################################\n",
    "\n",
    "import matplotlib\n",
    "import matplotlib.pyplot as plt\n",
    "import numpy as np\n",
    "from matplotlib.table import Table\n",
    "\n",
    "matplotlib.use('Agg')\n",
    "\n",
    "WORLD_SIZE = 5\n",
    "A_POS = [0, 1]\n",
    "A_PRIME_POS = [4, 1]\n",
    "B_POS = [0, 3]\n",
    "B_PRIME_POS = [2, 3]\n",
    "DISCOUNT = 0.9\n",
    "\n",
    "# left, up, right, down\n",
    "ACTIONS = [np.array([0, -1]),\n",
    "           np.array([-1, 0]),\n",
    "           np.array([0, 1]),\n",
    "           np.array([1, 0])]\n",
    "ACTIONS_FIGS=[ '←', '↑', '→', '↓']\n",
    "\n",
    "\n",
    "ACTION_PROB = 0.25\n",
    "\n",
    "\n",
    "def step(state, action):\n",
    "    if state == A_POS:\n",
    "        return A_PRIME_POS, 10\n",
    "    if state == B_POS:\n",
    "        return B_PRIME_POS, 5\n",
    "\n",
    "    next_state = (np.array(state) + action).tolist()\n",
    "    x, y = next_state\n",
    "    if x < 0 or x >= WORLD_SIZE or y < 0 or y >= WORLD_SIZE:\n",
    "        reward = -1.0\n",
    "        next_state = state\n",
    "    else:\n",
    "        reward = 0\n",
    "    return next_state, reward\n",
    "\n",
    "\n",
    "def draw_image(image):\n",
    "    fig, ax = plt.subplots()\n",
    "    ax.set_axis_off()\n",
    "    tb = Table(ax, bbox=[0, 0, 1, 1])\n",
    "\n",
    "    nrows, ncols = image.shape\n",
    "    width, height = 1.0 / ncols, 1.0 / nrows\n",
    "\n",
    "    # Add cells\n",
    "    for (i, j), val in np.ndenumerate(image):\n",
    "\n",
    "        # add state labels\n",
    "        if [i, j] == A_POS:\n",
    "            val = str(val) + \" (A)\"\n",
    "        if [i, j] == A_PRIME_POS:\n",
    "            val = str(val) + \" (A')\"\n",
    "        if [i, j] == B_POS:\n",
    "            val = str(val) + \" (B)\"\n",
    "        if [i, j] == B_PRIME_POS:\n",
    "            val = str(val) + \" (B')\"\n",
    "        \n",
    "        tb.add_cell(i, j, width, height, text=val,\n",
    "                    loc='center', facecolor='white')\n",
    "        \n",
    "\n",
    "    # Row and column labels...\n",
    "    for i in range(len(image)):\n",
    "        tb.add_cell(i, -1, width, height, text=i+1, loc='right',\n",
    "                    edgecolor='none', facecolor='none')\n",
    "        tb.add_cell(-1, i, width, height/2, text=i+1, loc='center',\n",
    "                    edgecolor='none', facecolor='none')\n",
    "\n",
    "    ax.add_table(tb)\n",
    "\n",
    "def draw_policy(optimal_values):\n",
    "    fig, ax = plt.subplots()\n",
    "    ax.set_axis_off()\n",
    "    tb = Table(ax, bbox=[0, 0, 1, 1])\n",
    "\n",
    "    nrows, ncols = optimal_values.shape\n",
    "    width, height = 1.0 / ncols, 1.0 / nrows\n",
    "\n",
    "    # Add cells\n",
    "    for (i, j), val in np.ndenumerate(optimal_values):\n",
    "        next_vals=[]\n",
    "        for action in ACTIONS:\n",
    "            next_state, _ = step([i, j], action)\n",
    "            next_vals.append(optimal_values[next_state[0],next_state[1]])\n",
    "\n",
    "        best_actions=np.where(next_vals == np.max(next_vals))[0]\n",
    "        val=''\n",
    "        for ba in best_actions:\n",
    "            val+=ACTIONS_FIGS[ba]\n",
    "        \n",
    "        # add state labels\n",
    "        if [i, j] == A_POS:\n",
    "            val = str(val) + \" (A)\"\n",
    "        if [i, j] == A_PRIME_POS:\n",
    "            val = str(val) + \" (A')\"\n",
    "        if [i, j] == B_POS:\n",
    "            val = str(val) + \" (B)\"\n",
    "        if [i, j] == B_PRIME_POS:\n",
    "            val = str(val) + \" (B')\"\n",
    "        \n",
    "        tb.add_cell(i, j, width, height, text=val,\n",
    "                loc='center', facecolor='white')\n",
    "\n",
    "    # Row and column labels...\n",
    "    for i in range(len(optimal_values)):\n",
    "        tb.add_cell(i, -1, width, height, text=i+1, loc='right',\n",
    "                    edgecolor='none', facecolor='none')\n",
    "        tb.add_cell(-1, i, width, height/2, text=i+1, loc='center',\n",
    "                   edgecolor='none', facecolor='none')\n",
    "\n",
    "    ax.add_table(tb)\n",
    "\n",
    "\n",
    "def figure_3_2():\n",
    "    value = np.zeros((WORLD_SIZE, WORLD_SIZE))\n",
    "    while True:\n",
    "        # keep iteration until convergence\n",
    "        new_value = np.zeros_like(value)\n",
    "        for i in range(WORLD_SIZE):\n",
    "            for j in range(WORLD_SIZE):\n",
    "                for action in ACTIONS:\n",
    "                    (next_i, next_j), reward = step([i, j], action)\n",
    "                    # bellman equation\n",
    "                    new_value[i, j] += ACTION_PROB * (reward + DISCOUNT * value[next_i, next_j])\n",
    "        if np.sum(np.abs(value - new_value)) < 1e-4:\n",
    "            draw_image(np.round(new_value, decimals=2))\n",
    "            plt.savefig('../images/figure_3_2.png')\n",
    "            plt.close()\n",
    "            break\n",
    "        value = new_value\n",
    "\n",
    "def figure_3_2_linear_system():\n",
    "    '''\n",
    "    Here we solve the linear system of equations to find the exact solution.\n",
    "    We do this by filling the coefficients for each of the states with their respective right side constant.\n",
    "    '''\n",
    "    A = -1 * np.eye(WORLD_SIZE * WORLD_SIZE)\n",
    "    b = np.zeros(WORLD_SIZE * WORLD_SIZE)\n",
    "    for i in range(WORLD_SIZE):\n",
    "        for j in range(WORLD_SIZE):\n",
    "            s = [i, j]  # current state\n",
    "            index_s = np.ravel_multi_index(s, (WORLD_SIZE, WORLD_SIZE))\n",
    "            for a in ACTIONS:\n",
    "                s_, r = step(s, a)\n",
    "                index_s_ = np.ravel_multi_index(s_, (WORLD_SIZE, WORLD_SIZE))\n",
    "\n",
    "                A[index_s, index_s_] += ACTION_PROB * DISCOUNT\n",
    "                b[index_s] -= ACTION_PROB * r\n",
    "\n",
    "    x = np.linalg.solve(A, b)\n",
    "    draw_image(np.round(x.reshape(WORLD_SIZE, WORLD_SIZE), decimals=2))\n",
    "    plt.savefig('/figure_3_2_linear_system.png')\n",
    "    plt.close()\n",
    "\n",
    "def figure_3_5():\n",
    "    value = np.zeros((WORLD_SIZE, WORLD_SIZE))\n",
    "    while True:\n",
    "        # keep iteration until convergence\n",
    "        new_value = np.zeros_like(value)\n",
    "        for i in range(WORLD_SIZE):\n",
    "            for j in range(WORLD_SIZE):\n",
    "                values = []\n",
    "                for action in ACTIONS:\n",
    "                    (next_i, next_j), reward = step([i, j], action)\n",
    "                    # value iteration\n",
    "                    values.append(reward + DISCOUNT * value[next_i, next_j])\n",
    "                new_value[i, j] = np.max(values)\n",
    "        if np.sum(np.abs(new_value - value)) < 1e-4:\n",
    "            draw_image(np.round(new_value, decimals=2))\n",
    "            plt.savefig('../images/figure_3_5.png')\n",
    "            plt.close()\n",
    "            draw_policy(new_value)\n",
    "            plt.savefig('../images/figure_3_5_policy.png')\n",
    "            plt.close()\n",
    "            break\n",
    "        value = new_value\n",
    "\n",
    "\n",
    "# if __name__ == '__main__':\n",
    "figure_3_2_linear_system()\n",
    "figure_3_2()\n",
    "figure_3_5()"
   ]
  },
  {
   "cell_type": "code",
   "execution_count": null,
   "metadata": {},
   "outputs": [],
   "source": []
  }
 ],
 "metadata": {
  "kernelspec": {
   "display_name": "base",
   "language": "python",
   "name": "python3"
  },
  "language_info": {
   "codemirror_mode": {
    "name": "ipython",
    "version": 3
   },
   "file_extension": ".py",
   "mimetype": "text/x-python",
   "name": "python",
   "nbconvert_exporter": "python",
   "pygments_lexer": "ipython3",
   "version": "3.9.5"
  },
  "orig_nbformat": 4,
  "vscode": {
   "interpreter": {
    "hash": "19d1d53a962d236aa061289c2ac16dc8e6d9648c89fe79f459ae9a3493bc67b4"
   }
  }
 },
 "nbformat": 4,
 "nbformat_minor": 2
}
