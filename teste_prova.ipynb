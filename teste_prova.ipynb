{
 "cells": [
  {
   "cell_type": "code",
   "execution_count": 1,
   "metadata": {},
   "outputs": [],
   "source": [
    "import torch\n",
    "import numpy as np"
   ]
  },
  {
   "cell_type": "code",
   "execution_count": 2,
   "metadata": {},
   "outputs": [
    {
     "data": {
      "text/plain": [
       "tensor([[1, 2],\n",
       "        [3, 4]])"
      ]
     },
     "execution_count": 2,
     "metadata": {},
     "output_type": "execute_result"
    }
   ],
   "source": [
    "data = [[1, 2],[3, 4]]\n",
    "x_data = torch.tensor(data)\n",
    "x_data"
   ]
  },
  {
   "cell_type": "code",
   "execution_count": null,
   "metadata": {},
   "outputs": [],
   "source": []
  },
  {
   "cell_type": "code",
   "execution_count": 27,
   "metadata": {},
   "outputs": [],
   "source": [
    "S = ['0','1']\n",
    "\n",
    "def c(a,w):\n",
    "    if w == 'w':\n",
    "        if a == \"0\": return 214 \n",
    "        if a == '1': return 386\n",
    "    if w == '1w':\n",
    "        if a == \"0\": return 138 \n",
    "        if a == '1': return 62\n",
    "    if w == '0w':\n",
    "        if a == \"0\": return 76 \n",
    "        if a == '1': return 324\n",
    "    if w == '11w':\n",
    "        if a == \"0\": return 67\n",
    "        if a == '1': return 33\n",
    "    if w == '01w':\n",
    "        if a == \"0\": return 71\n",
    "        if a == '1': return 29"
   ]
  },
  {
   "cell_type": "code",
   "execution_count": 32,
   "metadata": {},
   "outputs": [],
   "source": [
    "import numpy as np\n",
    "\n",
    "def p_cond(a, w):\n",
    "    return c(a,w) / sum([c(i,w) for i in S])\n",
    "\n",
    "def p(w):\n",
    "    return (c('0', w) + c('1', w)) / 1000\n",
    "\n",
    "def delta(w):\n",
    "    s1 = sum([p(b+w)*sum([p_cond(a, b+w)*np.log(p_cond(a, b+w)) for a in S]) for b in S])\n",
    "    s2 = sum([p_cond(a,w)*np.log(p_cond(a,w)) for a in S])\n",
    "    return s1 - p(w)*s2"
   ]
  },
  {
   "cell_type": "code",
   "execution_count": 64,
   "metadata": {},
   "outputs": [
    {
     "data": {
      "text/plain": [
       "-0.39088570130158695"
      ]
     },
     "execution_count": 64,
     "metadata": {},
     "output_type": "execute_result"
    }
   ],
   "source": [
    "(\n",
    "    # p('0w') * (p_cond('0', '0w')*np.log(p_cond('0', '0w')) + p_cond('1', '0w')*np.log(p_cond('1', '0w'))) \n",
    "    # p('1w') * (p_cond('0', '1w')*np.log(p_cond('0', '1w')) + p_cond('1', '1w')*np.log(p_cond('1', '1w'))) \n",
    "    p('w') * (p_cond('0', 'w')*np.log(p_cond('0', 'w')) + p_cond('1', 'w')*np.log(p_cond('1', 'w'))) \n",
    ")"
   ]
  },
  {
   "cell_type": "code",
   "execution_count": 60,
   "metadata": {},
   "outputs": [
    {
     "data": {
      "text/plain": [
       "-0.6514761688359783"
      ]
     },
     "execution_count": 60,
     "metadata": {},
     "output_type": "execute_result"
    }
   ],
   "source": [
    "(\n",
    "    # (p_cond('0', '0w')*np.log(p_cond('0', '0w')) + p_cond('1', '0w')*np.log(p_cond('1', '0w')))\n",
    "    # (p_cond('0', '1w')*np.log(p_cond('0', '1w')) + p_cond('1', '1w')*np.log(p_cond('1', '1w')))\n",
    "    (p_cond('0', 'w')*np.log(p_cond('0', 'w')) + p_cond('1', 'w')*np.log(p_cond('1', 'w'))) \n",
    ")"
   ]
  },
  {
   "cell_type": "code",
   "execution_count": 55,
   "metadata": {},
   "outputs": [
    {
     "name": "stdout",
     "output_type": "stream",
     "text": [
      "0.4\n",
      "0.19\n",
      "0.81\n",
      "0.2\n",
      "0.69\n",
      "0.31\n",
      "0.6\n",
      "0.3566666666666667\n",
      "0.6433333333333333\n"
     ]
    }
   ],
   "source": [
    "print(p('0w'))\n",
    "print(p_cond('0', '0w'))\n",
    "print(p_cond('1', '0w'))\n",
    "print(p('1w'))\n",
    "print(p_cond('0', '1w'))\n",
    "print(p_cond('1', '1w'))\n",
    "print(p('w'))\n",
    "print(p_cond('0', 'w'))\n",
    "print(p_cond('1', 'w'))"
   ]
  },
  {
   "cell_type": "code",
   "execution_count": 57,
   "metadata": {},
   "outputs": [
    {
     "data": {
      "text/plain": [
       "0.07257638255175264"
      ]
     },
     "execution_count": 57,
     "metadata": {},
     "output_type": "execute_result"
    }
   ],
   "source": [
    "delta('w')"
   ]
  },
  {
   "cell_type": "code",
   "execution_count": 66,
   "metadata": {},
   "outputs": [
    {
     "data": {
      "text/plain": [
       "0.00691366844709565"
      ]
     },
     "execution_count": 66,
     "metadata": {},
     "output_type": "execute_result"
    }
   ],
   "source": [
    "np.log(999)/999"
   ]
  }
 ],
 "metadata": {
  "kernelspec": {
   "display_name": "base",
   "language": "python",
   "name": "python3"
  },
  "language_info": {
   "codemirror_mode": {
    "name": "ipython",
    "version": 3
   },
   "file_extension": ".py",
   "mimetype": "text/x-python",
   "name": "python",
   "nbconvert_exporter": "python",
   "pygments_lexer": "ipython3",
   "version": "3.9.13"
  },
  "orig_nbformat": 4
 },
 "nbformat": 4,
 "nbformat_minor": 2
}
